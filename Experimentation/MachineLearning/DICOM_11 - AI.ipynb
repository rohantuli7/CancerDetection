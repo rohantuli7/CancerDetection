{
 "cells": [
  {
   "cell_type": "markdown",
   "metadata": {
    "toc": true
   },
   "source": [
    "<h1>Table of Contents<span class=\"tocSkip\"></span></h1>\n",
    "<div class=\"toc\"><ul class=\"toc-item\"><li><span><a href=\"#Data-Preprocessing\" data-toc-modified-id=\"Data-Preprocessing-1\"><span class=\"toc-item-num\">1&nbsp;&nbsp;</span>Data Preprocessing</a></span></li><li><span><a href=\"#Logistic-Regression\" data-toc-modified-id=\"Logistic-Regression-2\"><span class=\"toc-item-num\">2&nbsp;&nbsp;</span>Logistic Regression</a></span></li><li><span><a href=\"#Decision-Tree-Algorithm\" data-toc-modified-id=\"Decision-Tree-Algorithm-3\"><span class=\"toc-item-num\">3&nbsp;&nbsp;</span>Decision Tree Algorithm</a></span><ul class=\"toc-item\"><li><span><a href=\"#Gini-Impurity\" data-toc-modified-id=\"Gini-Impurity-3.1\"><span class=\"toc-item-num\">3.1&nbsp;&nbsp;</span>Gini Impurity</a></span></li><li><span><a href=\"#Entropy\" data-toc-modified-id=\"Entropy-3.2\"><span class=\"toc-item-num\">3.2&nbsp;&nbsp;</span>Entropy</a></span></li></ul></li><li><span><a href=\"#Random-Forest-Classifier\" data-toc-modified-id=\"Random-Forest-Classifier-4\"><span class=\"toc-item-num\">4&nbsp;&nbsp;</span>Random Forest Classifier</a></span><ul class=\"toc-item\"><li><span><a href=\"#Gini-Index\" data-toc-modified-id=\"Gini-Index-4.1\"><span class=\"toc-item-num\">4.1&nbsp;&nbsp;</span>Gini Index</a></span></li><li><span><a href=\"#Entropy\" data-toc-modified-id=\"Entropy-4.2\"><span class=\"toc-item-num\">4.2&nbsp;&nbsp;</span>Entropy</a></span></li></ul></li><li><span><a href=\"#Support-Vector-Machine\" data-toc-modified-id=\"Support-Vector-Machine-5\"><span class=\"toc-item-num\">5&nbsp;&nbsp;</span>Support Vector Machine</a></span></li><li><span><a href=\"#Neural-network\" data-toc-modified-id=\"Neural-network-6\"><span class=\"toc-item-num\">6&nbsp;&nbsp;</span>Neural network</a></span></li></ul></div>"
   ]
  },
  {
   "cell_type": "code",
   "execution_count": 1,
   "metadata": {},
   "outputs": [],
   "source": [
    "import pandas as pd\n",
    "import numpy as np\n",
    "import tensorflow as tf\n",
    "import cv2 as cv\n",
    "import matplotlib.pyplot as plt\n",
    "from sklearn import linear_model\n",
    "from sklearn.preprocessing import PolynomialFeatures\n",
    "import pydicom\n",
    "from sklearn.metrics import roc_auc_score\n",
    "from copy import deepcopy\n",
    "from sklearn.utils import shuffle"
   ]
  },
  {
   "cell_type": "code",
   "execution_count": 2,
   "metadata": {},
   "outputs": [
    {
     "data": {
      "text/html": [
       "<div>\n",
       "<style scoped>\n",
       "    .dataframe tbody tr th:only-of-type {\n",
       "        vertical-align: middle;\n",
       "    }\n",
       "\n",
       "    .dataframe tbody tr th {\n",
       "        vertical-align: top;\n",
       "    }\n",
       "\n",
       "    .dataframe thead th {\n",
       "        text-align: right;\n",
       "    }\n",
       "</style>\n",
       "<table border=\"1\" class=\"dataframe\">\n",
       "  <thead>\n",
       "    <tr style=\"text-align: right;\">\n",
       "      <th></th>\n",
       "      <th>Patient_id</th>\n",
       "      <th>Slice_id</th>\n",
       "      <th>Angles</th>\n",
       "      <th>Distance</th>\n",
       "      <th>Contrast</th>\n",
       "      <th>Dissimilarities</th>\n",
       "      <th>Homogeneity</th>\n",
       "      <th>ASM</th>\n",
       "      <th>Energy</th>\n",
       "      <th>Correlation</th>\n",
       "      <th>Entropy</th>\n",
       "    </tr>\n",
       "  </thead>\n",
       "  <tbody>\n",
       "    <tr>\n",
       "      <td>0</td>\n",
       "      <td>1.0</td>\n",
       "      <td>1.0</td>\n",
       "      <td>0.0</td>\n",
       "      <td>1.0</td>\n",
       "      <td>33.343689</td>\n",
       "      <td>0.504963</td>\n",
       "      <td>0.988488</td>\n",
       "      <td>0.976670</td>\n",
       "      <td>0.988266</td>\n",
       "      <td>0.604986</td>\n",
       "      <td>0.167355</td>\n",
       "    </tr>\n",
       "    <tr>\n",
       "      <td>1</td>\n",
       "      <td>1.0</td>\n",
       "      <td>1.0</td>\n",
       "      <td>45.0</td>\n",
       "      <td>1.0</td>\n",
       "      <td>33.761907</td>\n",
       "      <td>0.504790</td>\n",
       "      <td>0.988270</td>\n",
       "      <td>0.976184</td>\n",
       "      <td>0.988020</td>\n",
       "      <td>0.601583</td>\n",
       "      <td>0.167355</td>\n",
       "    </tr>\n",
       "    <tr>\n",
       "      <td>2</td>\n",
       "      <td>1.0</td>\n",
       "      <td>1.0</td>\n",
       "      <td>90.0</td>\n",
       "      <td>1.0</td>\n",
       "      <td>33.853064</td>\n",
       "      <td>0.504749</td>\n",
       "      <td>0.988630</td>\n",
       "      <td>0.976700</td>\n",
       "      <td>0.988281</td>\n",
       "      <td>0.598952</td>\n",
       "      <td>0.167355</td>\n",
       "    </tr>\n",
       "    <tr>\n",
       "      <td>3</td>\n",
       "      <td>1.0</td>\n",
       "      <td>1.0</td>\n",
       "      <td>135.0</td>\n",
       "      <td>1.0</td>\n",
       "      <td>33.235679</td>\n",
       "      <td>0.505928</td>\n",
       "      <td>0.988263</td>\n",
       "      <td>0.976153</td>\n",
       "      <td>0.988005</td>\n",
       "      <td>0.607793</td>\n",
       "      <td>0.167355</td>\n",
       "    </tr>\n",
       "    <tr>\n",
       "      <td>4</td>\n",
       "      <td>1.0</td>\n",
       "      <td>1.0</td>\n",
       "      <td>0.0</td>\n",
       "      <td>2.0</td>\n",
       "      <td>34.930887</td>\n",
       "      <td>0.526944</td>\n",
       "      <td>0.988034</td>\n",
       "      <td>0.975636</td>\n",
       "      <td>0.987743</td>\n",
       "      <td>0.587795</td>\n",
       "      <td>0.167355</td>\n",
       "    </tr>\n",
       "    <tr>\n",
       "      <td>...</td>\n",
       "      <td>...</td>\n",
       "      <td>...</td>\n",
       "      <td>...</td>\n",
       "      <td>...</td>\n",
       "      <td>...</td>\n",
       "      <td>...</td>\n",
       "      <td>...</td>\n",
       "      <td>...</td>\n",
       "      <td>...</td>\n",
       "      <td>...</td>\n",
       "      <td>...</td>\n",
       "    </tr>\n",
       "    <tr>\n",
       "      <td>1315</td>\n",
       "      <td>4.0</td>\n",
       "      <td>58.0</td>\n",
       "      <td>135.0</td>\n",
       "      <td>2.0</td>\n",
       "      <td>74.172211</td>\n",
       "      <td>0.996355</td>\n",
       "      <td>0.979663</td>\n",
       "      <td>0.958999</td>\n",
       "      <td>0.979285</td>\n",
       "      <td>0.663702</td>\n",
       "      <td>0.279801</td>\n",
       "    </tr>\n",
       "    <tr>\n",
       "      <td>1316</td>\n",
       "      <td>4.0</td>\n",
       "      <td>58.0</td>\n",
       "      <td>0.0</td>\n",
       "      <td>3.0</td>\n",
       "      <td>82.000896</td>\n",
       "      <td>1.083436</td>\n",
       "      <td>0.978642</td>\n",
       "      <td>0.956995</td>\n",
       "      <td>0.978261</td>\n",
       "      <td>0.629656</td>\n",
       "      <td>0.279801</td>\n",
       "    </tr>\n",
       "    <tr>\n",
       "      <td>1317</td>\n",
       "      <td>4.0</td>\n",
       "      <td>58.0</td>\n",
       "      <td>45.0</td>\n",
       "      <td>3.0</td>\n",
       "      <td>78.950834</td>\n",
       "      <td>1.052204</td>\n",
       "      <td>0.978875</td>\n",
       "      <td>0.957253</td>\n",
       "      <td>0.978393</td>\n",
       "      <td>0.644799</td>\n",
       "      <td>0.279801</td>\n",
       "    </tr>\n",
       "    <tr>\n",
       "      <td>1318</td>\n",
       "      <td>4.0</td>\n",
       "      <td>58.0</td>\n",
       "      <td>90.0</td>\n",
       "      <td>3.0</td>\n",
       "      <td>83.111228</td>\n",
       "      <td>1.067657</td>\n",
       "      <td>0.978810</td>\n",
       "      <td>0.957206</td>\n",
       "      <td>0.978369</td>\n",
       "      <td>0.624641</td>\n",
       "      <td>0.279801</td>\n",
       "    </tr>\n",
       "    <tr>\n",
       "      <td>1319</td>\n",
       "      <td>4.0</td>\n",
       "      <td>58.0</td>\n",
       "      <td>135.0</td>\n",
       "      <td>3.0</td>\n",
       "      <td>83.434342</td>\n",
       "      <td>1.082026</td>\n",
       "      <td>0.978532</td>\n",
       "      <td>0.956738</td>\n",
       "      <td>0.978130</td>\n",
       "      <td>0.624628</td>\n",
       "      <td>0.279801</td>\n",
       "    </tr>\n",
       "  </tbody>\n",
       "</table>\n",
       "<p>1320 rows × 11 columns</p>\n",
       "</div>"
      ],
      "text/plain": [
       "      Patient_id  Slice_id  Angles  Distance   Contrast  Dissimilarities  \\\n",
       "0            1.0       1.0     0.0       1.0  33.343689         0.504963   \n",
       "1            1.0       1.0    45.0       1.0  33.761907         0.504790   \n",
       "2            1.0       1.0    90.0       1.0  33.853064         0.504749   \n",
       "3            1.0       1.0   135.0       1.0  33.235679         0.505928   \n",
       "4            1.0       1.0     0.0       2.0  34.930887         0.526944   \n",
       "...          ...       ...     ...       ...        ...              ...   \n",
       "1315         4.0      58.0   135.0       2.0  74.172211         0.996355   \n",
       "1316         4.0      58.0     0.0       3.0  82.000896         1.083436   \n",
       "1317         4.0      58.0    45.0       3.0  78.950834         1.052204   \n",
       "1318         4.0      58.0    90.0       3.0  83.111228         1.067657   \n",
       "1319         4.0      58.0   135.0       3.0  83.434342         1.082026   \n",
       "\n",
       "      Homogeneity       ASM    Energy  Correlation   Entropy  \n",
       "0        0.988488  0.976670  0.988266     0.604986  0.167355  \n",
       "1        0.988270  0.976184  0.988020     0.601583  0.167355  \n",
       "2        0.988630  0.976700  0.988281     0.598952  0.167355  \n",
       "3        0.988263  0.976153  0.988005     0.607793  0.167355  \n",
       "4        0.988034  0.975636  0.987743     0.587795  0.167355  \n",
       "...           ...       ...       ...          ...       ...  \n",
       "1315     0.979663  0.958999  0.979285     0.663702  0.279801  \n",
       "1316     0.978642  0.956995  0.978261     0.629656  0.279801  \n",
       "1317     0.978875  0.957253  0.978393     0.644799  0.279801  \n",
       "1318     0.978810  0.957206  0.978369     0.624641  0.279801  \n",
       "1319     0.978532  0.956738  0.978130     0.624628  0.279801  \n",
       "\n",
       "[1320 rows x 11 columns]"
      ]
     },
     "metadata": {},
     "output_type": "display_data"
    }
   ],
   "source": [
    "#Import the true set dataset\n",
    "ts = pd.read_csv('/Users/rt/Desktop/College/Cancer Project/Database/TrueSet.csv')\n",
    "display(ts)"
   ]
  },
  {
   "cell_type": "code",
   "execution_count": 3,
   "metadata": {},
   "outputs": [
    {
     "data": {
      "text/html": [
       "<div>\n",
       "<style scoped>\n",
       "    .dataframe tbody tr th:only-of-type {\n",
       "        vertical-align: middle;\n",
       "    }\n",
       "\n",
       "    .dataframe tbody tr th {\n",
       "        vertical-align: top;\n",
       "    }\n",
       "\n",
       "    .dataframe thead th {\n",
       "        text-align: right;\n",
       "    }\n",
       "</style>\n",
       "<table border=\"1\" class=\"dataframe\">\n",
       "  <thead>\n",
       "    <tr style=\"text-align: right;\">\n",
       "      <th></th>\n",
       "      <th>Contrast</th>\n",
       "      <th>Dissimilarities</th>\n",
       "      <th>Homogeneity</th>\n",
       "      <th>Energy</th>\n",
       "      <th>Correlation</th>\n",
       "      <th>Entropy</th>\n",
       "      <th>Cancer</th>\n",
       "    </tr>\n",
       "  </thead>\n",
       "  <tbody>\n",
       "    <tr>\n",
       "      <td>0</td>\n",
       "      <td>33.343689</td>\n",
       "      <td>0.504963</td>\n",
       "      <td>0.988488</td>\n",
       "      <td>0.988266</td>\n",
       "      <td>0.604986</td>\n",
       "      <td>0.167355</td>\n",
       "      <td>1</td>\n",
       "    </tr>\n",
       "    <tr>\n",
       "      <td>1</td>\n",
       "      <td>33.761907</td>\n",
       "      <td>0.504790</td>\n",
       "      <td>0.988270</td>\n",
       "      <td>0.988020</td>\n",
       "      <td>0.601583</td>\n",
       "      <td>0.167355</td>\n",
       "      <td>1</td>\n",
       "    </tr>\n",
       "    <tr>\n",
       "      <td>2</td>\n",
       "      <td>33.853064</td>\n",
       "      <td>0.504749</td>\n",
       "      <td>0.988630</td>\n",
       "      <td>0.988281</td>\n",
       "      <td>0.598952</td>\n",
       "      <td>0.167355</td>\n",
       "      <td>1</td>\n",
       "    </tr>\n",
       "    <tr>\n",
       "      <td>3</td>\n",
       "      <td>33.235679</td>\n",
       "      <td>0.505928</td>\n",
       "      <td>0.988263</td>\n",
       "      <td>0.988005</td>\n",
       "      <td>0.607793</td>\n",
       "      <td>0.167355</td>\n",
       "      <td>1</td>\n",
       "    </tr>\n",
       "    <tr>\n",
       "      <td>4</td>\n",
       "      <td>34.930887</td>\n",
       "      <td>0.526944</td>\n",
       "      <td>0.988034</td>\n",
       "      <td>0.987743</td>\n",
       "      <td>0.587795</td>\n",
       "      <td>0.167355</td>\n",
       "      <td>1</td>\n",
       "    </tr>\n",
       "    <tr>\n",
       "      <td>...</td>\n",
       "      <td>...</td>\n",
       "      <td>...</td>\n",
       "      <td>...</td>\n",
       "      <td>...</td>\n",
       "      <td>...</td>\n",
       "      <td>...</td>\n",
       "      <td>...</td>\n",
       "    </tr>\n",
       "    <tr>\n",
       "      <td>1315</td>\n",
       "      <td>74.172211</td>\n",
       "      <td>0.996355</td>\n",
       "      <td>0.979663</td>\n",
       "      <td>0.979285</td>\n",
       "      <td>0.663702</td>\n",
       "      <td>0.279801</td>\n",
       "      <td>1</td>\n",
       "    </tr>\n",
       "    <tr>\n",
       "      <td>1316</td>\n",
       "      <td>82.000896</td>\n",
       "      <td>1.083436</td>\n",
       "      <td>0.978642</td>\n",
       "      <td>0.978261</td>\n",
       "      <td>0.629656</td>\n",
       "      <td>0.279801</td>\n",
       "      <td>1</td>\n",
       "    </tr>\n",
       "    <tr>\n",
       "      <td>1317</td>\n",
       "      <td>78.950834</td>\n",
       "      <td>1.052204</td>\n",
       "      <td>0.978875</td>\n",
       "      <td>0.978393</td>\n",
       "      <td>0.644799</td>\n",
       "      <td>0.279801</td>\n",
       "      <td>1</td>\n",
       "    </tr>\n",
       "    <tr>\n",
       "      <td>1318</td>\n",
       "      <td>83.111228</td>\n",
       "      <td>1.067657</td>\n",
       "      <td>0.978810</td>\n",
       "      <td>0.978369</td>\n",
       "      <td>0.624641</td>\n",
       "      <td>0.279801</td>\n",
       "      <td>1</td>\n",
       "    </tr>\n",
       "    <tr>\n",
       "      <td>1319</td>\n",
       "      <td>83.434342</td>\n",
       "      <td>1.082026</td>\n",
       "      <td>0.978532</td>\n",
       "      <td>0.978130</td>\n",
       "      <td>0.624628</td>\n",
       "      <td>0.279801</td>\n",
       "      <td>1</td>\n",
       "    </tr>\n",
       "  </tbody>\n",
       "</table>\n",
       "<p>1320 rows × 7 columns</p>\n",
       "</div>"
      ],
      "text/plain": [
       "       Contrast  Dissimilarities  Homogeneity    Energy  Correlation  \\\n",
       "0     33.343689         0.504963     0.988488  0.988266     0.604986   \n",
       "1     33.761907         0.504790     0.988270  0.988020     0.601583   \n",
       "2     33.853064         0.504749     0.988630  0.988281     0.598952   \n",
       "3     33.235679         0.505928     0.988263  0.988005     0.607793   \n",
       "4     34.930887         0.526944     0.988034  0.987743     0.587795   \n",
       "...         ...              ...          ...       ...          ...   \n",
       "1315  74.172211         0.996355     0.979663  0.979285     0.663702   \n",
       "1316  82.000896         1.083436     0.978642  0.978261     0.629656   \n",
       "1317  78.950834         1.052204     0.978875  0.978393     0.644799   \n",
       "1318  83.111228         1.067657     0.978810  0.978369     0.624641   \n",
       "1319  83.434342         1.082026     0.978532  0.978130     0.624628   \n",
       "\n",
       "       Entropy  Cancer  \n",
       "0     0.167355       1  \n",
       "1     0.167355       1  \n",
       "2     0.167355       1  \n",
       "3     0.167355       1  \n",
       "4     0.167355       1  \n",
       "...        ...     ...  \n",
       "1315  0.279801       1  \n",
       "1316  0.279801       1  \n",
       "1317  0.279801       1  \n",
       "1318  0.279801       1  \n",
       "1319  0.279801       1  \n",
       "\n",
       "[1320 rows x 7 columns]"
      ]
     },
     "metadata": {},
     "output_type": "display_data"
    }
   ],
   "source": [
    "ts['Cancer'] = 1\n",
    "ts.drop(columns = ['Patient_id', 'Slice_id', 'Angles', 'Distance', 'ASM'], inplace = True)\n",
    "display(ts)"
   ]
  },
  {
   "cell_type": "code",
   "execution_count": 4,
   "metadata": {},
   "outputs": [
    {
     "data": {
      "text/html": [
       "<div>\n",
       "<style scoped>\n",
       "    .dataframe tbody tr th:only-of-type {\n",
       "        vertical-align: middle;\n",
       "    }\n",
       "\n",
       "    .dataframe tbody tr th {\n",
       "        vertical-align: top;\n",
       "    }\n",
       "\n",
       "    .dataframe thead th {\n",
       "        text-align: right;\n",
       "    }\n",
       "</style>\n",
       "<table border=\"1\" class=\"dataframe\">\n",
       "  <thead>\n",
       "    <tr style=\"text-align: right;\">\n",
       "      <th></th>\n",
       "      <th>Patient_id</th>\n",
       "      <th>Slice_id</th>\n",
       "      <th>Angles</th>\n",
       "      <th>Distance</th>\n",
       "      <th>Contrast</th>\n",
       "      <th>Dissimilarities</th>\n",
       "      <th>Homogeneity</th>\n",
       "      <th>ASM</th>\n",
       "      <th>Energy</th>\n",
       "      <th>Correlation</th>\n",
       "      <th>Entropy</th>\n",
       "    </tr>\n",
       "  </thead>\n",
       "  <tbody>\n",
       "    <tr>\n",
       "      <td>0</td>\n",
       "      <td>1.0</td>\n",
       "      <td>1.0</td>\n",
       "      <td>0.0</td>\n",
       "      <td>1.0</td>\n",
       "      <td>1415.114936</td>\n",
       "      <td>24.947779</td>\n",
       "      <td>0.241535</td>\n",
       "      <td>0.045526</td>\n",
       "      <td>0.213367</td>\n",
       "      <td>0.741286</td>\n",
       "      <td>6.626737</td>\n",
       "    </tr>\n",
       "    <tr>\n",
       "      <td>1</td>\n",
       "      <td>1.0</td>\n",
       "      <td>1.0</td>\n",
       "      <td>45.0</td>\n",
       "      <td>1.0</td>\n",
       "      <td>1564.000000</td>\n",
       "      <td>25.687628</td>\n",
       "      <td>0.241530</td>\n",
       "      <td>0.043876</td>\n",
       "      <td>0.209466</td>\n",
       "      <td>0.714698</td>\n",
       "      <td>6.626737</td>\n",
       "    </tr>\n",
       "    <tr>\n",
       "      <td>2</td>\n",
       "      <td>1.0</td>\n",
       "      <td>1.0</td>\n",
       "      <td>90.0</td>\n",
       "      <td>1.0</td>\n",
       "      <td>1532.402987</td>\n",
       "      <td>25.478171</td>\n",
       "      <td>0.244650</td>\n",
       "      <td>0.045569</td>\n",
       "      <td>0.213469</td>\n",
       "      <td>0.719792</td>\n",
       "      <td>6.626737</td>\n",
       "    </tr>\n",
       "    <tr>\n",
       "      <td>3</td>\n",
       "      <td>1.0</td>\n",
       "      <td>1.0</td>\n",
       "      <td>135.0</td>\n",
       "      <td>1.0</td>\n",
       "      <td>1541.695932</td>\n",
       "      <td>25.508743</td>\n",
       "      <td>0.240647</td>\n",
       "      <td>0.043870</td>\n",
       "      <td>0.209452</td>\n",
       "      <td>0.718767</td>\n",
       "      <td>6.626737</td>\n",
       "    </tr>\n",
       "    <tr>\n",
       "      <td>4</td>\n",
       "      <td>1.0</td>\n",
       "      <td>1.0</td>\n",
       "      <td>0.0</td>\n",
       "      <td>2.0</td>\n",
       "      <td>1542.802688</td>\n",
       "      <td>25.569513</td>\n",
       "      <td>0.239216</td>\n",
       "      <td>0.043007</td>\n",
       "      <td>0.207381</td>\n",
       "      <td>0.718585</td>\n",
       "      <td>6.626737</td>\n",
       "    </tr>\n",
       "    <tr>\n",
       "      <td>...</td>\n",
       "      <td>...</td>\n",
       "      <td>...</td>\n",
       "      <td>...</td>\n",
       "      <td>...</td>\n",
       "      <td>...</td>\n",
       "      <td>...</td>\n",
       "      <td>...</td>\n",
       "      <td>...</td>\n",
       "      <td>...</td>\n",
       "      <td>...</td>\n",
       "      <td>...</td>\n",
       "    </tr>\n",
       "    <tr>\n",
       "      <td>1315</td>\n",
       "      <td>4.0</td>\n",
       "      <td>58.0</td>\n",
       "      <td>135.0</td>\n",
       "      <td>2.0</td>\n",
       "      <td>1834.651211</td>\n",
       "      <td>28.511326</td>\n",
       "      <td>0.242041</td>\n",
       "      <td>0.047174</td>\n",
       "      <td>0.217197</td>\n",
       "      <td>0.557800</td>\n",
       "      <td>6.558195</td>\n",
       "    </tr>\n",
       "    <tr>\n",
       "      <td>1316</td>\n",
       "      <td>4.0</td>\n",
       "      <td>58.0</td>\n",
       "      <td>0.0</td>\n",
       "      <td>3.0</td>\n",
       "      <td>1952.030385</td>\n",
       "      <td>29.420547</td>\n",
       "      <td>0.234079</td>\n",
       "      <td>0.043689</td>\n",
       "      <td>0.209020</td>\n",
       "      <td>0.530348</td>\n",
       "      <td>6.558195</td>\n",
       "    </tr>\n",
       "    <tr>\n",
       "      <td>1317</td>\n",
       "      <td>4.0</td>\n",
       "      <td>58.0</td>\n",
       "      <td>45.0</td>\n",
       "      <td>3.0</td>\n",
       "      <td>2134.257673</td>\n",
       "      <td>30.954337</td>\n",
       "      <td>0.230794</td>\n",
       "      <td>0.043073</td>\n",
       "      <td>0.207540</td>\n",
       "      <td>0.487669</td>\n",
       "      <td>6.558195</td>\n",
       "    </tr>\n",
       "    <tr>\n",
       "      <td>1318</td>\n",
       "      <td>4.0</td>\n",
       "      <td>58.0</td>\n",
       "      <td>90.0</td>\n",
       "      <td>3.0</td>\n",
       "      <td>2128.131485</td>\n",
       "      <td>30.897048</td>\n",
       "      <td>0.232787</td>\n",
       "      <td>0.043805</td>\n",
       "      <td>0.209296</td>\n",
       "      <td>0.488054</td>\n",
       "      <td>6.558195</td>\n",
       "    </tr>\n",
       "    <tr>\n",
       "      <td>1319</td>\n",
       "      <td>4.0</td>\n",
       "      <td>58.0</td>\n",
       "      <td>135.0</td>\n",
       "      <td>3.0</td>\n",
       "      <td>2080.064232</td>\n",
       "      <td>30.486949</td>\n",
       "      <td>0.231472</td>\n",
       "      <td>0.042951</td>\n",
       "      <td>0.207246</td>\n",
       "      <td>0.500678</td>\n",
       "      <td>6.558195</td>\n",
       "    </tr>\n",
       "  </tbody>\n",
       "</table>\n",
       "<p>1320 rows × 11 columns</p>\n",
       "</div>"
      ],
      "text/plain": [
       "      Patient_id  Slice_id  Angles  Distance     Contrast  Dissimilarities  \\\n",
       "0            1.0       1.0     0.0       1.0  1415.114936        24.947779   \n",
       "1            1.0       1.0    45.0       1.0  1564.000000        25.687628   \n",
       "2            1.0       1.0    90.0       1.0  1532.402987        25.478171   \n",
       "3            1.0       1.0   135.0       1.0  1541.695932        25.508743   \n",
       "4            1.0       1.0     0.0       2.0  1542.802688        25.569513   \n",
       "...          ...       ...     ...       ...          ...              ...   \n",
       "1315         4.0      58.0   135.0       2.0  1834.651211        28.511326   \n",
       "1316         4.0      58.0     0.0       3.0  1952.030385        29.420547   \n",
       "1317         4.0      58.0    45.0       3.0  2134.257673        30.954337   \n",
       "1318         4.0      58.0    90.0       3.0  2128.131485        30.897048   \n",
       "1319         4.0      58.0   135.0       3.0  2080.064232        30.486949   \n",
       "\n",
       "      Homogeneity       ASM    Energy  Correlation   Entropy  \n",
       "0        0.241535  0.045526  0.213367     0.741286  6.626737  \n",
       "1        0.241530  0.043876  0.209466     0.714698  6.626737  \n",
       "2        0.244650  0.045569  0.213469     0.719792  6.626737  \n",
       "3        0.240647  0.043870  0.209452     0.718767  6.626737  \n",
       "4        0.239216  0.043007  0.207381     0.718585  6.626737  \n",
       "...           ...       ...       ...          ...       ...  \n",
       "1315     0.242041  0.047174  0.217197     0.557800  6.558195  \n",
       "1316     0.234079  0.043689  0.209020     0.530348  6.558195  \n",
       "1317     0.230794  0.043073  0.207540     0.487669  6.558195  \n",
       "1318     0.232787  0.043805  0.209296     0.488054  6.558195  \n",
       "1319     0.231472  0.042951  0.207246     0.500678  6.558195  \n",
       "\n",
       "[1320 rows x 11 columns]"
      ]
     },
     "metadata": {},
     "output_type": "display_data"
    }
   ],
   "source": [
    "rt = pd.read_csv('/Users/rt/Desktop/College/Cancer Project/Database/RTset.csv')\n",
    "display(rt)"
   ]
  },
  {
   "cell_type": "code",
   "execution_count": 5,
   "metadata": {},
   "outputs": [
    {
     "data": {
      "text/html": [
       "<div>\n",
       "<style scoped>\n",
       "    .dataframe tbody tr th:only-of-type {\n",
       "        vertical-align: middle;\n",
       "    }\n",
       "\n",
       "    .dataframe tbody tr th {\n",
       "        vertical-align: top;\n",
       "    }\n",
       "\n",
       "    .dataframe thead th {\n",
       "        text-align: right;\n",
       "    }\n",
       "</style>\n",
       "<table border=\"1\" class=\"dataframe\">\n",
       "  <thead>\n",
       "    <tr style=\"text-align: right;\">\n",
       "      <th></th>\n",
       "      <th>Contrast</th>\n",
       "      <th>Dissimilarities</th>\n",
       "      <th>Homogeneity</th>\n",
       "      <th>Energy</th>\n",
       "      <th>Correlation</th>\n",
       "      <th>Entropy</th>\n",
       "      <th>Cancer</th>\n",
       "    </tr>\n",
       "  </thead>\n",
       "  <tbody>\n",
       "    <tr>\n",
       "      <td>0</td>\n",
       "      <td>1415.114936</td>\n",
       "      <td>24.947779</td>\n",
       "      <td>0.241535</td>\n",
       "      <td>0.213367</td>\n",
       "      <td>0.741286</td>\n",
       "      <td>6.626737</td>\n",
       "      <td>0</td>\n",
       "    </tr>\n",
       "    <tr>\n",
       "      <td>1</td>\n",
       "      <td>1564.000000</td>\n",
       "      <td>25.687628</td>\n",
       "      <td>0.241530</td>\n",
       "      <td>0.209466</td>\n",
       "      <td>0.714698</td>\n",
       "      <td>6.626737</td>\n",
       "      <td>0</td>\n",
       "    </tr>\n",
       "    <tr>\n",
       "      <td>2</td>\n",
       "      <td>1532.402987</td>\n",
       "      <td>25.478171</td>\n",
       "      <td>0.244650</td>\n",
       "      <td>0.213469</td>\n",
       "      <td>0.719792</td>\n",
       "      <td>6.626737</td>\n",
       "      <td>0</td>\n",
       "    </tr>\n",
       "    <tr>\n",
       "      <td>3</td>\n",
       "      <td>1541.695932</td>\n",
       "      <td>25.508743</td>\n",
       "      <td>0.240647</td>\n",
       "      <td>0.209452</td>\n",
       "      <td>0.718767</td>\n",
       "      <td>6.626737</td>\n",
       "      <td>0</td>\n",
       "    </tr>\n",
       "    <tr>\n",
       "      <td>4</td>\n",
       "      <td>1542.802688</td>\n",
       "      <td>25.569513</td>\n",
       "      <td>0.239216</td>\n",
       "      <td>0.207381</td>\n",
       "      <td>0.718585</td>\n",
       "      <td>6.626737</td>\n",
       "      <td>0</td>\n",
       "    </tr>\n",
       "    <tr>\n",
       "      <td>...</td>\n",
       "      <td>...</td>\n",
       "      <td>...</td>\n",
       "      <td>...</td>\n",
       "      <td>...</td>\n",
       "      <td>...</td>\n",
       "      <td>...</td>\n",
       "      <td>...</td>\n",
       "    </tr>\n",
       "    <tr>\n",
       "      <td>1315</td>\n",
       "      <td>1834.651211</td>\n",
       "      <td>28.511326</td>\n",
       "      <td>0.242041</td>\n",
       "      <td>0.217197</td>\n",
       "      <td>0.557800</td>\n",
       "      <td>6.558195</td>\n",
       "      <td>0</td>\n",
       "    </tr>\n",
       "    <tr>\n",
       "      <td>1316</td>\n",
       "      <td>1952.030385</td>\n",
       "      <td>29.420547</td>\n",
       "      <td>0.234079</td>\n",
       "      <td>0.209020</td>\n",
       "      <td>0.530348</td>\n",
       "      <td>6.558195</td>\n",
       "      <td>0</td>\n",
       "    </tr>\n",
       "    <tr>\n",
       "      <td>1317</td>\n",
       "      <td>2134.257673</td>\n",
       "      <td>30.954337</td>\n",
       "      <td>0.230794</td>\n",
       "      <td>0.207540</td>\n",
       "      <td>0.487669</td>\n",
       "      <td>6.558195</td>\n",
       "      <td>0</td>\n",
       "    </tr>\n",
       "    <tr>\n",
       "      <td>1318</td>\n",
       "      <td>2128.131485</td>\n",
       "      <td>30.897048</td>\n",
       "      <td>0.232787</td>\n",
       "      <td>0.209296</td>\n",
       "      <td>0.488054</td>\n",
       "      <td>6.558195</td>\n",
       "      <td>0</td>\n",
       "    </tr>\n",
       "    <tr>\n",
       "      <td>1319</td>\n",
       "      <td>2080.064232</td>\n",
       "      <td>30.486949</td>\n",
       "      <td>0.231472</td>\n",
       "      <td>0.207246</td>\n",
       "      <td>0.500678</td>\n",
       "      <td>6.558195</td>\n",
       "      <td>0</td>\n",
       "    </tr>\n",
       "  </tbody>\n",
       "</table>\n",
       "<p>1320 rows × 7 columns</p>\n",
       "</div>"
      ],
      "text/plain": [
       "         Contrast  Dissimilarities  Homogeneity    Energy  Correlation  \\\n",
       "0     1415.114936        24.947779     0.241535  0.213367     0.741286   \n",
       "1     1564.000000        25.687628     0.241530  0.209466     0.714698   \n",
       "2     1532.402987        25.478171     0.244650  0.213469     0.719792   \n",
       "3     1541.695932        25.508743     0.240647  0.209452     0.718767   \n",
       "4     1542.802688        25.569513     0.239216  0.207381     0.718585   \n",
       "...           ...              ...          ...       ...          ...   \n",
       "1315  1834.651211        28.511326     0.242041  0.217197     0.557800   \n",
       "1316  1952.030385        29.420547     0.234079  0.209020     0.530348   \n",
       "1317  2134.257673        30.954337     0.230794  0.207540     0.487669   \n",
       "1318  2128.131485        30.897048     0.232787  0.209296     0.488054   \n",
       "1319  2080.064232        30.486949     0.231472  0.207246     0.500678   \n",
       "\n",
       "       Entropy  Cancer  \n",
       "0     6.626737       0  \n",
       "1     6.626737       0  \n",
       "2     6.626737       0  \n",
       "3     6.626737       0  \n",
       "4     6.626737       0  \n",
       "...        ...     ...  \n",
       "1315  6.558195       0  \n",
       "1316  6.558195       0  \n",
       "1317  6.558195       0  \n",
       "1318  6.558195       0  \n",
       "1319  6.558195       0  \n",
       "\n",
       "[1320 rows x 7 columns]"
      ]
     },
     "metadata": {},
     "output_type": "display_data"
    }
   ],
   "source": [
    "rt['Cancer'] = 0\n",
    "rt.drop(columns = ['Patient_id', 'Slice_id', 'Angles', 'Distance', 'ASM'], inplace = True)\n",
    "display(rt)"
   ]
  },
  {
   "cell_type": "code",
   "execution_count": 6,
   "metadata": {},
   "outputs": [
    {
     "data": {
      "text/html": [
       "<div>\n",
       "<style scoped>\n",
       "    .dataframe tbody tr th:only-of-type {\n",
       "        vertical-align: middle;\n",
       "    }\n",
       "\n",
       "    .dataframe tbody tr th {\n",
       "        vertical-align: top;\n",
       "    }\n",
       "\n",
       "    .dataframe thead th {\n",
       "        text-align: right;\n",
       "    }\n",
       "</style>\n",
       "<table border=\"1\" class=\"dataframe\">\n",
       "  <thead>\n",
       "    <tr style=\"text-align: right;\">\n",
       "      <th></th>\n",
       "      <th>Patient_id</th>\n",
       "      <th>Slice_id</th>\n",
       "      <th>Angles</th>\n",
       "      <th>Distance</th>\n",
       "      <th>Contrast</th>\n",
       "      <th>Dissimilarities</th>\n",
       "      <th>Homogeneity</th>\n",
       "      <th>ASM</th>\n",
       "      <th>Energy</th>\n",
       "      <th>Correlation</th>\n",
       "      <th>Entropy</th>\n",
       "    </tr>\n",
       "  </thead>\n",
       "  <tbody>\n",
       "    <tr>\n",
       "      <td>0</td>\n",
       "      <td>1.0</td>\n",
       "      <td>1.0</td>\n",
       "      <td>0.0</td>\n",
       "      <td>1.0</td>\n",
       "      <td>1487.686275</td>\n",
       "      <td>13.585815</td>\n",
       "      <td>0.353834</td>\n",
       "      <td>0.043022</td>\n",
       "      <td>0.207417</td>\n",
       "      <td>0.743113</td>\n",
       "      <td>5.639273</td>\n",
       "    </tr>\n",
       "    <tr>\n",
       "      <td>1</td>\n",
       "      <td>1.0</td>\n",
       "      <td>1.0</td>\n",
       "      <td>45.0</td>\n",
       "      <td>1.0</td>\n",
       "      <td>1803.507820</td>\n",
       "      <td>16.709327</td>\n",
       "      <td>0.334732</td>\n",
       "      <td>0.041388</td>\n",
       "      <td>0.203441</td>\n",
       "      <td>0.689746</td>\n",
       "      <td>5.639273</td>\n",
       "    </tr>\n",
       "    <tr>\n",
       "      <td>2</td>\n",
       "      <td>1.0</td>\n",
       "      <td>1.0</td>\n",
       "      <td>90.0</td>\n",
       "      <td>1.0</td>\n",
       "      <td>1690.679504</td>\n",
       "      <td>15.470895</td>\n",
       "      <td>0.360299</td>\n",
       "      <td>0.043114</td>\n",
       "      <td>0.207640</td>\n",
       "      <td>0.708052</td>\n",
       "      <td>5.639273</td>\n",
       "    </tr>\n",
       "    <tr>\n",
       "      <td>3</td>\n",
       "      <td>1.0</td>\n",
       "      <td>1.0</td>\n",
       "      <td>135.0</td>\n",
       "      <td>1.0</td>\n",
       "      <td>1819.934917</td>\n",
       "      <td>16.615609</td>\n",
       "      <td>0.336151</td>\n",
       "      <td>0.041380</td>\n",
       "      <td>0.203421</td>\n",
       "      <td>0.686921</td>\n",
       "      <td>5.639273</td>\n",
       "    </tr>\n",
       "    <tr>\n",
       "      <td>4</td>\n",
       "      <td>1.0</td>\n",
       "      <td>1.0</td>\n",
       "      <td>0.0</td>\n",
       "      <td>2.0</td>\n",
       "      <td>1810.637226</td>\n",
       "      <td>16.508658</td>\n",
       "      <td>0.338136</td>\n",
       "      <td>0.040618</td>\n",
       "      <td>0.201540</td>\n",
       "      <td>0.688505</td>\n",
       "      <td>5.639273</td>\n",
       "    </tr>\n",
       "    <tr>\n",
       "      <td>...</td>\n",
       "      <td>...</td>\n",
       "      <td>...</td>\n",
       "      <td>...</td>\n",
       "      <td>...</td>\n",
       "      <td>...</td>\n",
       "      <td>...</td>\n",
       "      <td>...</td>\n",
       "      <td>...</td>\n",
       "      <td>...</td>\n",
       "      <td>...</td>\n",
       "      <td>...</td>\n",
       "    </tr>\n",
       "    <tr>\n",
       "      <td>391</td>\n",
       "      <td>4.0</td>\n",
       "      <td>14.0</td>\n",
       "      <td>135.0</td>\n",
       "      <td>2.0</td>\n",
       "      <td>3148.123706</td>\n",
       "      <td>27.531995</td>\n",
       "      <td>0.269034</td>\n",
       "      <td>0.039956</td>\n",
       "      <td>0.199891</td>\n",
       "      <td>0.575695</td>\n",
       "      <td>6.745025</td>\n",
       "    </tr>\n",
       "    <tr>\n",
       "      <td>392</td>\n",
       "      <td>4.0</td>\n",
       "      <td>14.0</td>\n",
       "      <td>0.0</td>\n",
       "      <td>3.0</td>\n",
       "      <td>3600.945312</td>\n",
       "      <td>31.245368</td>\n",
       "      <td>0.257491</td>\n",
       "      <td>0.037084</td>\n",
       "      <td>0.192571</td>\n",
       "      <td>0.515679</td>\n",
       "      <td>6.745025</td>\n",
       "    </tr>\n",
       "    <tr>\n",
       "      <td>393</td>\n",
       "      <td>4.0</td>\n",
       "      <td>14.0</td>\n",
       "      <td>45.0</td>\n",
       "      <td>3.0</td>\n",
       "      <td>4001.138400</td>\n",
       "      <td>34.395948</td>\n",
       "      <td>0.247689</td>\n",
       "      <td>0.036361</td>\n",
       "      <td>0.190687</td>\n",
       "      <td>0.463251</td>\n",
       "      <td>6.745025</td>\n",
       "    </tr>\n",
       "    <tr>\n",
       "      <td>394</td>\n",
       "      <td>4.0</td>\n",
       "      <td>14.0</td>\n",
       "      <td>90.0</td>\n",
       "      <td>3.0</td>\n",
       "      <td>4217.862648</td>\n",
       "      <td>35.971375</td>\n",
       "      <td>0.245831</td>\n",
       "      <td>0.037136</td>\n",
       "      <td>0.192707</td>\n",
       "      <td>0.432895</td>\n",
       "      <td>6.745025</td>\n",
       "    </tr>\n",
       "    <tr>\n",
       "      <td>395</td>\n",
       "      <td>4.0</td>\n",
       "      <td>14.0</td>\n",
       "      <td>135.0</td>\n",
       "      <td>3.0</td>\n",
       "      <td>3897.883362</td>\n",
       "      <td>33.537464</td>\n",
       "      <td>0.250064</td>\n",
       "      <td>0.036398</td>\n",
       "      <td>0.190782</td>\n",
       "      <td>0.477103</td>\n",
       "      <td>6.745025</td>\n",
       "    </tr>\n",
       "  </tbody>\n",
       "</table>\n",
       "<p>396 rows × 11 columns</p>\n",
       "</div>"
      ],
      "text/plain": [
       "     Patient_id  Slice_id  Angles  Distance     Contrast  Dissimilarities  \\\n",
       "0           1.0       1.0     0.0       1.0  1487.686275        13.585815   \n",
       "1           1.0       1.0    45.0       1.0  1803.507820        16.709327   \n",
       "2           1.0       1.0    90.0       1.0  1690.679504        15.470895   \n",
       "3           1.0       1.0   135.0       1.0  1819.934917        16.615609   \n",
       "4           1.0       1.0     0.0       2.0  1810.637226        16.508658   \n",
       "..          ...       ...     ...       ...          ...              ...   \n",
       "391         4.0      14.0   135.0       2.0  3148.123706        27.531995   \n",
       "392         4.0      14.0     0.0       3.0  3600.945312        31.245368   \n",
       "393         4.0      14.0    45.0       3.0  4001.138400        34.395948   \n",
       "394         4.0      14.0    90.0       3.0  4217.862648        35.971375   \n",
       "395         4.0      14.0   135.0       3.0  3897.883362        33.537464   \n",
       "\n",
       "     Homogeneity       ASM    Energy  Correlation   Entropy  \n",
       "0       0.353834  0.043022  0.207417     0.743113  5.639273  \n",
       "1       0.334732  0.041388  0.203441     0.689746  5.639273  \n",
       "2       0.360299  0.043114  0.207640     0.708052  5.639273  \n",
       "3       0.336151  0.041380  0.203421     0.686921  5.639273  \n",
       "4       0.338136  0.040618  0.201540     0.688505  5.639273  \n",
       "..           ...       ...       ...          ...       ...  \n",
       "391     0.269034  0.039956  0.199891     0.575695  6.745025  \n",
       "392     0.257491  0.037084  0.192571     0.515679  6.745025  \n",
       "393     0.247689  0.036361  0.190687     0.463251  6.745025  \n",
       "394     0.245831  0.037136  0.192707     0.432895  6.745025  \n",
       "395     0.250064  0.036398  0.190782     0.477103  6.745025  \n",
       "\n",
       "[396 rows x 11 columns]"
      ]
     },
     "metadata": {},
     "output_type": "display_data"
    }
   ],
   "source": [
    "fs = pd.read_csv('/Users/rt/Desktop/College/Cancer Project/Database/FalseSet.csv')\n",
    "display(fs)"
   ]
  },
  {
   "cell_type": "code",
   "execution_count": 7,
   "metadata": {},
   "outputs": [
    {
     "data": {
      "text/html": [
       "<div>\n",
       "<style scoped>\n",
       "    .dataframe tbody tr th:only-of-type {\n",
       "        vertical-align: middle;\n",
       "    }\n",
       "\n",
       "    .dataframe tbody tr th {\n",
       "        vertical-align: top;\n",
       "    }\n",
       "\n",
       "    .dataframe thead th {\n",
       "        text-align: right;\n",
       "    }\n",
       "</style>\n",
       "<table border=\"1\" class=\"dataframe\">\n",
       "  <thead>\n",
       "    <tr style=\"text-align: right;\">\n",
       "      <th></th>\n",
       "      <th>Contrast</th>\n",
       "      <th>Dissimilarities</th>\n",
       "      <th>Homogeneity</th>\n",
       "      <th>Energy</th>\n",
       "      <th>Correlation</th>\n",
       "      <th>Entropy</th>\n",
       "      <th>Cancer</th>\n",
       "    </tr>\n",
       "  </thead>\n",
       "  <tbody>\n",
       "    <tr>\n",
       "      <td>0</td>\n",
       "      <td>1487.686275</td>\n",
       "      <td>13.585815</td>\n",
       "      <td>0.353834</td>\n",
       "      <td>0.207417</td>\n",
       "      <td>0.743113</td>\n",
       "      <td>5.639273</td>\n",
       "      <td>0</td>\n",
       "    </tr>\n",
       "    <tr>\n",
       "      <td>1</td>\n",
       "      <td>1803.507820</td>\n",
       "      <td>16.709327</td>\n",
       "      <td>0.334732</td>\n",
       "      <td>0.203441</td>\n",
       "      <td>0.689746</td>\n",
       "      <td>5.639273</td>\n",
       "      <td>0</td>\n",
       "    </tr>\n",
       "    <tr>\n",
       "      <td>2</td>\n",
       "      <td>1690.679504</td>\n",
       "      <td>15.470895</td>\n",
       "      <td>0.360299</td>\n",
       "      <td>0.207640</td>\n",
       "      <td>0.708052</td>\n",
       "      <td>5.639273</td>\n",
       "      <td>0</td>\n",
       "    </tr>\n",
       "    <tr>\n",
       "      <td>3</td>\n",
       "      <td>1819.934917</td>\n",
       "      <td>16.615609</td>\n",
       "      <td>0.336151</td>\n",
       "      <td>0.203421</td>\n",
       "      <td>0.686921</td>\n",
       "      <td>5.639273</td>\n",
       "      <td>0</td>\n",
       "    </tr>\n",
       "    <tr>\n",
       "      <td>4</td>\n",
       "      <td>1810.637226</td>\n",
       "      <td>16.508658</td>\n",
       "      <td>0.338136</td>\n",
       "      <td>0.201540</td>\n",
       "      <td>0.688505</td>\n",
       "      <td>5.639273</td>\n",
       "      <td>0</td>\n",
       "    </tr>\n",
       "    <tr>\n",
       "      <td>...</td>\n",
       "      <td>...</td>\n",
       "      <td>...</td>\n",
       "      <td>...</td>\n",
       "      <td>...</td>\n",
       "      <td>...</td>\n",
       "      <td>...</td>\n",
       "      <td>...</td>\n",
       "    </tr>\n",
       "    <tr>\n",
       "      <td>391</td>\n",
       "      <td>3148.123706</td>\n",
       "      <td>27.531995</td>\n",
       "      <td>0.269034</td>\n",
       "      <td>0.199891</td>\n",
       "      <td>0.575695</td>\n",
       "      <td>6.745025</td>\n",
       "      <td>0</td>\n",
       "    </tr>\n",
       "    <tr>\n",
       "      <td>392</td>\n",
       "      <td>3600.945312</td>\n",
       "      <td>31.245368</td>\n",
       "      <td>0.257491</td>\n",
       "      <td>0.192571</td>\n",
       "      <td>0.515679</td>\n",
       "      <td>6.745025</td>\n",
       "      <td>0</td>\n",
       "    </tr>\n",
       "    <tr>\n",
       "      <td>393</td>\n",
       "      <td>4001.138400</td>\n",
       "      <td>34.395948</td>\n",
       "      <td>0.247689</td>\n",
       "      <td>0.190687</td>\n",
       "      <td>0.463251</td>\n",
       "      <td>6.745025</td>\n",
       "      <td>0</td>\n",
       "    </tr>\n",
       "    <tr>\n",
       "      <td>394</td>\n",
       "      <td>4217.862648</td>\n",
       "      <td>35.971375</td>\n",
       "      <td>0.245831</td>\n",
       "      <td>0.192707</td>\n",
       "      <td>0.432895</td>\n",
       "      <td>6.745025</td>\n",
       "      <td>0</td>\n",
       "    </tr>\n",
       "    <tr>\n",
       "      <td>395</td>\n",
       "      <td>3897.883362</td>\n",
       "      <td>33.537464</td>\n",
       "      <td>0.250064</td>\n",
       "      <td>0.190782</td>\n",
       "      <td>0.477103</td>\n",
       "      <td>6.745025</td>\n",
       "      <td>0</td>\n",
       "    </tr>\n",
       "  </tbody>\n",
       "</table>\n",
       "<p>396 rows × 7 columns</p>\n",
       "</div>"
      ],
      "text/plain": [
       "        Contrast  Dissimilarities  Homogeneity    Energy  Correlation  \\\n",
       "0    1487.686275        13.585815     0.353834  0.207417     0.743113   \n",
       "1    1803.507820        16.709327     0.334732  0.203441     0.689746   \n",
       "2    1690.679504        15.470895     0.360299  0.207640     0.708052   \n",
       "3    1819.934917        16.615609     0.336151  0.203421     0.686921   \n",
       "4    1810.637226        16.508658     0.338136  0.201540     0.688505   \n",
       "..           ...              ...          ...       ...          ...   \n",
       "391  3148.123706        27.531995     0.269034  0.199891     0.575695   \n",
       "392  3600.945312        31.245368     0.257491  0.192571     0.515679   \n",
       "393  4001.138400        34.395948     0.247689  0.190687     0.463251   \n",
       "394  4217.862648        35.971375     0.245831  0.192707     0.432895   \n",
       "395  3897.883362        33.537464     0.250064  0.190782     0.477103   \n",
       "\n",
       "      Entropy  Cancer  \n",
       "0    5.639273       0  \n",
       "1    5.639273       0  \n",
       "2    5.639273       0  \n",
       "3    5.639273       0  \n",
       "4    5.639273       0  \n",
       "..        ...     ...  \n",
       "391  6.745025       0  \n",
       "392  6.745025       0  \n",
       "393  6.745025       0  \n",
       "394  6.745025       0  \n",
       "395  6.745025       0  \n",
       "\n",
       "[396 rows x 7 columns]"
      ]
     },
     "metadata": {},
     "output_type": "display_data"
    }
   ],
   "source": [
    "fs['Cancer'] = 0\n",
    "fs.drop(columns = ['Patient_id', 'Slice_id', 'Angles', 'Distance', 'ASM'], inplace = True)\n",
    "display(fs)"
   ]
  },
  {
   "cell_type": "code",
   "execution_count": 8,
   "metadata": {},
   "outputs": [],
   "source": [
    "df = pd.concat([ts, fs, rt])\n",
    "df = shuffle(df)\n",
    "y = df['Cancer'].values.tolist()\n",
    "df.reset_index(inplace = True, drop = True)\n",
    "df.drop(columns = ['Cancer'], inplace = True)"
   ]
  },
  {
   "cell_type": "code",
   "execution_count": 9,
   "metadata": {},
   "outputs": [
    {
     "data": {
      "text/html": [
       "<div>\n",
       "<style scoped>\n",
       "    .dataframe tbody tr th:only-of-type {\n",
       "        vertical-align: middle;\n",
       "    }\n",
       "\n",
       "    .dataframe tbody tr th {\n",
       "        vertical-align: top;\n",
       "    }\n",
       "\n",
       "    .dataframe thead th {\n",
       "        text-align: right;\n",
       "    }\n",
       "</style>\n",
       "<table border=\"1\" class=\"dataframe\">\n",
       "  <thead>\n",
       "    <tr style=\"text-align: right;\">\n",
       "      <th></th>\n",
       "      <th>Contrast</th>\n",
       "      <th>Dissimilarities</th>\n",
       "      <th>Homogeneity</th>\n",
       "      <th>Energy</th>\n",
       "      <th>Correlation</th>\n",
       "      <th>Entropy</th>\n",
       "    </tr>\n",
       "  </thead>\n",
       "  <tbody>\n",
       "    <tr>\n",
       "      <td>0</td>\n",
       "      <td>17.852130</td>\n",
       "      <td>0.227912</td>\n",
       "      <td>0.995717</td>\n",
       "      <td>0.995645</td>\n",
       "      <td>0.549811</td>\n",
       "      <td>0.052671</td>\n",
       "    </tr>\n",
       "    <tr>\n",
       "      <td>1</td>\n",
       "      <td>11.644670</td>\n",
       "      <td>0.182343</td>\n",
       "      <td>0.994573</td>\n",
       "      <td>0.994349</td>\n",
       "      <td>0.247504</td>\n",
       "      <td>0.068561</td>\n",
       "    </tr>\n",
       "    <tr>\n",
       "      <td>2</td>\n",
       "      <td>152.233479</td>\n",
       "      <td>2.077260</td>\n",
       "      <td>0.956708</td>\n",
       "      <td>0.955766</td>\n",
       "      <td>0.683577</td>\n",
       "      <td>0.547319</td>\n",
       "    </tr>\n",
       "    <tr>\n",
       "      <td>3</td>\n",
       "      <td>1945.659863</td>\n",
       "      <td>29.326056</td>\n",
       "      <td>0.239174</td>\n",
       "      <td>0.214526</td>\n",
       "      <td>0.536319</td>\n",
       "      <td>6.534167</td>\n",
       "    </tr>\n",
       "    <tr>\n",
       "      <td>4</td>\n",
       "      <td>2235.917660</td>\n",
       "      <td>31.927171</td>\n",
       "      <td>0.248081</td>\n",
       "      <td>0.227708</td>\n",
       "      <td>0.492279</td>\n",
       "      <td>6.484091</td>\n",
       "    </tr>\n",
       "    <tr>\n",
       "      <td>...</td>\n",
       "      <td>...</td>\n",
       "      <td>...</td>\n",
       "      <td>...</td>\n",
       "      <td>...</td>\n",
       "      <td>...</td>\n",
       "      <td>...</td>\n",
       "    </tr>\n",
       "    <tr>\n",
       "      <td>3031</td>\n",
       "      <td>152.853959</td>\n",
       "      <td>2.091698</td>\n",
       "      <td>0.956180</td>\n",
       "      <td>0.955252</td>\n",
       "      <td>0.683485</td>\n",
       "      <td>0.547319</td>\n",
       "    </tr>\n",
       "    <tr>\n",
       "      <td>3032</td>\n",
       "      <td>2011.909158</td>\n",
       "      <td>29.926567</td>\n",
       "      <td>0.260647</td>\n",
       "      <td>0.238552</td>\n",
       "      <td>0.530264</td>\n",
       "      <td>6.457354</td>\n",
       "    </tr>\n",
       "    <tr>\n",
       "      <td>3033</td>\n",
       "      <td>140.171041</td>\n",
       "      <td>1.835999</td>\n",
       "      <td>0.963757</td>\n",
       "      <td>0.963038</td>\n",
       "      <td>0.637461</td>\n",
       "      <td>0.461230</td>\n",
       "    </tr>\n",
       "    <tr>\n",
       "      <td>3034</td>\n",
       "      <td>27.954453</td>\n",
       "      <td>0.355206</td>\n",
       "      <td>0.993498</td>\n",
       "      <td>0.993361</td>\n",
       "      <td>0.588867</td>\n",
       "      <td>0.080518</td>\n",
       "    </tr>\n",
       "    <tr>\n",
       "      <td>3035</td>\n",
       "      <td>2111.676359</td>\n",
       "      <td>30.678529</td>\n",
       "      <td>0.230950</td>\n",
       "      <td>0.205883</td>\n",
       "      <td>0.500067</td>\n",
       "      <td>6.571267</td>\n",
       "    </tr>\n",
       "  </tbody>\n",
       "</table>\n",
       "<p>3036 rows × 6 columns</p>\n",
       "</div>"
      ],
      "text/plain": [
       "         Contrast  Dissimilarities  Homogeneity    Energy  Correlation  \\\n",
       "0       17.852130         0.227912     0.995717  0.995645     0.549811   \n",
       "1       11.644670         0.182343     0.994573  0.994349     0.247504   \n",
       "2      152.233479         2.077260     0.956708  0.955766     0.683577   \n",
       "3     1945.659863        29.326056     0.239174  0.214526     0.536319   \n",
       "4     2235.917660        31.927171     0.248081  0.227708     0.492279   \n",
       "...           ...              ...          ...       ...          ...   \n",
       "3031   152.853959         2.091698     0.956180  0.955252     0.683485   \n",
       "3032  2011.909158        29.926567     0.260647  0.238552     0.530264   \n",
       "3033   140.171041         1.835999     0.963757  0.963038     0.637461   \n",
       "3034    27.954453         0.355206     0.993498  0.993361     0.588867   \n",
       "3035  2111.676359        30.678529     0.230950  0.205883     0.500067   \n",
       "\n",
       "       Entropy  \n",
       "0     0.052671  \n",
       "1     0.068561  \n",
       "2     0.547319  \n",
       "3     6.534167  \n",
       "4     6.484091  \n",
       "...        ...  \n",
       "3031  0.547319  \n",
       "3032  6.457354  \n",
       "3033  0.461230  \n",
       "3034  0.080518  \n",
       "3035  6.571267  \n",
       "\n",
       "[3036 rows x 6 columns]"
      ]
     },
     "metadata": {},
     "output_type": "display_data"
    }
   ],
   "source": [
    "display(df)"
   ]
  },
  {
   "cell_type": "code",
   "execution_count": 10,
   "metadata": {},
   "outputs": [
    {
     "name": "stdout",
     "output_type": "stream",
     "text": [
      "[1, 1, 1, 0, 0, 1, 0, 1, 0, 1, 0, 0, 0, 1, 0, 1, 0, 0, 1, 1, 0, 0, 0, 1, 0, 1, 0, 1, 1, 0, 1, 1, 1, 0, 0, 0, 0, 0, 1, 0, 1, 0, 1, 0, 0, 0, 0, 0, 1, 1, 1, 0, 1, 0, 1, 0, 0, 1, 0, 0, 0, 0, 0, 0, 1, 0, 0, 0, 1, 0, 1, 0, 1, 0, 1, 0, 0, 0, 1, 0, 0, 0, 1, 1, 0, 1, 0, 0, 0, 0, 1, 1, 0, 1, 1, 1, 0, 1, 0, 1, 0, 0, 0, 1, 0, 0, 1, 0, 0, 0, 1, 0, 1, 0, 0, 0, 0, 0, 1, 0, 1, 0, 0, 0, 1, 1, 0, 1, 1, 0, 0, 0, 0, 0, 0, 1, 0, 0, 1, 0, 0, 0, 0, 1, 0, 0, 0, 0, 1, 1, 1, 1, 0, 0, 0, 0, 0, 1, 1, 0, 1, 1, 1, 1, 1, 1, 0, 0, 1, 0, 1, 0, 0, 1, 1, 1, 1, 0, 0, 0, 1, 1, 0, 0, 1, 1, 1, 1, 0, 0, 0, 1, 0, 0, 0, 1, 0, 0, 1, 0, 0, 0, 1, 1, 1, 1, 0, 1, 0, 1, 0, 1, 0, 1, 1, 0, 0, 1, 1, 0, 1, 0, 0, 1, 0, 0, 1, 0, 0, 0, 1, 0, 0, 0, 1, 0, 0, 0, 1, 0, 0, 0, 0, 0, 0, 1, 1, 1, 0, 1, 0, 1, 1, 0, 0, 0, 0, 1, 0, 1, 1, 0, 0, 0, 1, 1, 0, 0, 0, 0, 1, 0, 1, 0, 0, 0, 0, 1, 1, 1, 0, 1, 1, 0, 0, 1, 0, 1, 1, 0, 0, 1, 0, 0, 1, 0, 0, 1, 1, 1, 0, 1, 1, 0, 0, 1, 0, 0, 0, 0, 1, 0, 0, 0, 0, 0, 0, 1, 0, 1, 1, 1, 0, 0, 1, 0, 0, 1, 0, 0, 1, 1, 0, 1, 0, 0, 0, 1, 1, 0, 0, 0, 1, 1, 1, 0, 1, 0, 0, 0, 0, 1, 1, 1, 1, 0, 1, 0, 0, 0, 1, 0, 0, 1, 1, 1, 0, 0, 0, 1, 0, 1, 0, 1, 0, 0, 0, 0, 1, 0, 1, 1, 1, 0, 1, 1, 1, 0, 1, 0, 0, 1, 1, 0, 1, 0, 1, 0, 0, 0, 1, 0, 0, 1, 1, 1, 0, 0, 1, 0, 1, 0, 0, 0, 1, 0, 0, 0, 1, 0, 0, 0, 0, 0, 0, 0, 0, 0, 1, 1, 0, 0, 0, 0, 1, 0, 1, 0, 1, 1, 1, 0, 1, 1, 1, 1, 1, 0, 0, 0, 1, 0, 0, 0, 0, 0, 0, 0, 0, 0, 1, 0, 0, 1, 1, 1, 0, 1, 0, 0, 1, 1, 1, 1, 0, 1, 0, 1, 1, 0, 0, 1, 0, 0, 1, 1, 1, 0, 0, 1, 1, 0, 0, 0, 0, 0, 1, 0, 1, 1, 0, 0, 1, 0, 0, 0, 0, 1, 0, 1, 1, 0, 0, 1, 1, 1, 0, 0, 1, 0, 1, 1, 0, 1, 1, 1, 1, 0, 0, 0, 0, 0, 1, 0, 1, 1, 0, 1, 1, 1, 1, 0, 0, 1, 1, 0, 0, 0, 0, 1, 0, 0, 1, 0, 0, 1, 1, 0, 0, 0, 0, 0, 1, 0, 1, 1, 0, 1, 0, 1, 0, 1, 1, 0, 1, 1, 1, 0, 0, 1, 0, 0, 0, 0, 1, 1, 1, 0, 0, 0, 0, 1, 0, 0, 1, 0, 0, 0, 0, 0, 1, 1, 1, 0, 0, 0, 0, 1, 0, 0, 0, 1, 1, 0, 0, 0, 0, 1, 1, 0, 0, 0, 1, 1, 1, 0, 0, 0, 0, 1, 1, 0, 1, 0, 0, 0, 0, 1, 1, 1, 0, 0, 0, 0, 0, 1, 1, 1, 1, 1, 1, 1, 1, 0, 1, 1, 1, 1, 0, 1, 0, 0, 1, 0, 1, 1, 1, 1, 1, 1, 0, 0, 0, 0, 0, 1, 0, 0, 1, 1, 0, 0, 0, 1, 1, 1, 0, 1, 0, 1, 0, 0, 1, 0, 1, 0, 0, 1, 1, 1, 0, 0, 1, 0, 0, 1, 1, 0, 0, 1, 0, 1, 0, 0, 1, 0, 0, 0, 1, 1, 0, 1, 0, 0, 0, 1, 0, 0, 0, 0, 0, 1, 0, 1, 0, 1, 0, 0, 1, 0, 1, 0, 0, 1, 0, 1, 1, 0, 1, 1, 1, 0, 1, 1, 1, 1, 0, 0, 1, 0, 0, 0, 0, 1, 0, 0, 0, 1, 0, 1, 0, 1, 1, 0, 1, 1, 0, 0, 0, 1, 0, 0, 1, 1, 0, 1, 1, 1, 0, 0, 1, 1, 1, 0, 0, 0, 0, 0, 0, 0, 1, 1, 0, 1, 1, 1, 1, 1, 0, 1, 0, 1, 0, 0, 1, 0, 0, 1, 0, 0, 0, 0, 0, 1, 0, 0, 1, 0, 0, 1, 0, 0, 0, 0, 0, 0, 0, 0, 0, 1, 0, 1, 0, 0, 1, 0, 1, 0, 1, 1, 1, 0, 0, 0, 1, 0, 0, 1, 0, 1, 0, 0, 1, 0, 0, 1, 0, 1, 1, 1, 0, 0, 1, 0, 1, 0, 1, 1, 0, 0, 1, 1, 0, 1, 1, 0, 1, 0, 0, 0, 0, 1, 1, 1, 1, 0, 0, 1, 0, 0, 1, 1, 1, 0, 1, 0, 1, 1, 1, 0, 1, 0, 0, 0, 0, 1, 0, 0, 1, 0, 0, 0, 1, 0, 0, 1, 0, 0, 0, 0, 1, 1, 0, 0, 1, 1, 1, 0, 0, 0, 0, 1, 0, 1, 1, 1, 0, 0, 0, 1, 0, 1, 1, 0, 1, 0, 0, 1, 0, 0, 0, 0, 0, 1, 1, 0, 0, 0, 1, 0, 0, 1, 1, 0, 0, 0, 1, 0, 1, 1, 1, 1, 0, 1, 0, 1, 1, 0, 1, 0, 0, 0, 1, 0, 0, 0, 1, 0, 1, 1, 0, 0, 1, 1, 0, 0, 0, 0, 1, 0, 0, 0, 0, 0, 0, 0, 1, 1, 1, 0, 0, 0, 0, 0, 0, 0, 1, 0, 0, 1, 1, 0, 1, 0, 0, 1, 0, 1, 1, 0, 1, 0, 0, 1, 1, 1, 0, 0, 1, 0, 1, 1, 1, 1, 1, 0, 1, 0, 1, 0, 1, 1, 0, 1, 1, 0, 1, 1, 1, 0, 0, 0, 0, 1, 1, 0, 1, 0, 1, 0, 1, 1, 0, 0, 0, 0, 1, 0, 1, 0, 0, 1, 0, 0, 0, 0, 0, 1, 1, 1, 1, 1, 1, 1, 1, 1, 1, 0, 0, 1, 0, 1, 0, 1, 0, 0, 1, 1, 1, 1, 0, 0, 1, 1, 0, 1, 0, 0, 0, 0, 0, 0, 0, 1, 1, 1, 0, 0, 0, 0, 0, 0, 0, 1, 0, 0, 1, 1, 0, 1, 0, 1, 0, 1, 1, 0, 0, 1, 0, 0, 1, 0, 0, 0, 0, 0, 0, 0, 1, 1, 1, 0, 1, 1, 1, 0, 1, 0, 0, 0, 0, 0, 0, 0, 0, 0, 1, 1, 1, 1, 1, 0, 1, 0, 0, 1, 1, 0, 0, 1, 1, 1, 1, 1, 0, 0, 0, 0, 0, 0, 1, 0, 0, 0, 0, 0, 1, 1, 1, 0, 1, 1, 0, 0, 0, 0, 1, 0, 0, 1, 1, 1, 0, 0, 0, 0, 0, 0, 0, 0, 1, 0, 1, 0, 0, 0, 0, 0, 0, 1, 0, 1, 0, 0, 1, 1, 0, 1, 0, 0, 1, 0, 0, 0, 0, 0, 0, 0, 1, 1, 0, 1, 0, 0, 0, 1, 0, 0, 1, 1, 1, 0, 0, 1, 0, 0, 0, 1, 0, 1, 1, 0, 0, 0, 0, 0, 0, 0, 0, 0, 1, 0, 0, 1, 0, 1, 0, 0, 1, 0, 1, 1, 0, 1, 0, 0, 0, 1, 1, 0, 1, 0, 1, 1, 1, 0, 1, 0, 0, 1, 0, 0, 1, 1, 1, 0, 0, 1, 1, 0, 1, 1, 1, 1, 0, 1, 0, 0, 1, 1, 1, 1, 1, 0, 0, 0, 1, 1, 0, 0, 0, 1, 1, 0, 0, 0, 0, 1, 1, 0, 0, 0, 1, 0, 0, 1, 1, 1, 0, 0, 0, 1, 1, 0, 1, 0, 0, 1, 0, 0, 0, 0, 1, 0, 0, 1, 0, 0, 0, 0, 1, 0, 0, 0, 1, 0, 0, 1, 1, 1, 1, 1, 1, 1, 0, 0, 1, 0, 1, 0, 1, 1, 0, 0, 1, 0, 0, 1, 0, 0, 1, 1, 1, 1, 0, 0, 0, 0, 1, 1, 0, 0, 0, 1, 0, 0, 1, 1, 0, 1, 0, 1, 0, 1, 0, 1, 0, 1, 1, 0, 0, 1, 0, 0, 0, 0, 1, 0, 1, 0, 0, 0, 0, 1, 1, 0, 1, 1, 1, 1, 0, 0, 1, 1, 0, 0, 0, 1, 0, 0, 1, 0, 0, 0, 0, 0, 0, 1, 1, 1, 1, 0, 1, 0, 1, 0, 1, 0, 1, 0, 0, 0, 0, 0, 0, 1, 1, 1, 1, 0, 0, 0, 0, 1, 0, 1, 0, 0, 0, 1, 0, 1, 1, 0, 1, 0, 0, 0, 1, 1, 0, 0, 1, 1, 0, 0, 0, 0, 0, 0, 0, 0, 1, 1, 1, 1, 1, 1, 0, 1, 0, 1, 1, 0, 1, 1, 0, 0, 1, 1, 1, 1, 1, 1, 1, 1, 0, 1, 0, 0, 0, 0, 1, 1, 1, 1, 0, 0, 1, 1, 0, 1, 0, 1, 1, 0, 1, 0, 0, 0, 1, 1, 1, 0, 1, 0, 1, 1, 1, 0, 0, 1, 1, 0, 0, 0, 1, 0, 1, 0, 0, 0, 0, 1, 0, 0, 0, 0, 0, 0, 0, 0, 0, 0, 0, 0, 0, 0, 0, 1, 0, 0, 0, 0, 0, 1, 0, 0, 0, 1, 0, 1, 0, 1, 1, 0, 0, 1, 0, 1, 1, 1, 0, 0, 1, 0, 0, 1, 1, 0, 0, 0, 0, 1, 1, 1, 1, 1, 1, 1, 1, 0, 0, 0, 0, 0, 0, 1, 0, 0, 0, 0, 0, 0, 0, 0, 1, 1, 1, 0, 1, 1, 0, 1, 0, 1, 0, 1, 1, 1, 1, 0, 1, 1, 1, 0, 1, 0, 0, 1, 0, 0, 0, 1, 0, 0, 1, 1, 1, 0, 0, 1, 1, 0, 0, 0, 1, 1, 1, 0, 0, 0, 1, 1, 1, 0, 1, 1, 0, 0, 0, 0, 1, 1, 0, 1, 0, 1, 0, 0, 1, 0, 0, 0, 0, 0, 1, 1, 0, 0, 0, 0, 0, 0, 0, 1, 0, 0, 0, 1, 0, 0, 0, 0, 1, 0, 0, 0, 0, 1, 1, 1, 0, 0, 1, 1, 0, 0, 1, 1, 0, 1, 1, 1, 1, 0, 0, 1, 1, 0, 0, 0, 0, 0, 0, 0, 1, 0, 0, 1, 0, 1, 1, 1, 1, 1, 0, 1, 1, 0, 1, 1, 0, 0, 0, 1, 0, 0, 0, 1, 0, 1, 1, 1, 1, 0, 0, 0, 0, 0, 1, 0, 1, 1, 0, 1, 1, 0, 1, 0, 0, 0, 1, 0, 0, 1, 0, 0, 1, 1, 1, 1, 0, 0, 1, 0, 0, 0, 0, 1, 1, 1, 0, 1, 0, 1, 0, 1, 1, 0, 0, 1, 1, 0, 1, 0, 0, 0, 0, 0, 1, 0, 0, 1, 0, 0, 1, 1, 0, 1, 0, 0, 0, 1, 0, 1, 1, 0, 1, 0, 1, 1, 0, 0, 1, 0, 0, 0, 0, 1, 0, 0, 0, 1, 1, 1, 0, 1, 0, 1, 1, 0, 0, 1, 1, 0, 0, 1, 0, 0, 0, 0, 0, 1, 1, 1, 0, 1, 0, 0, 1, 1, 1, 0, 0, 0, 0, 1, 1, 0, 0, 0, 1, 1, 0, 0, 0, 0, 1, 1, 0, 0, 0, 1, 1, 0, 1, 1, 1, 1, 1, 1, 0, 1, 0, 0, 1, 0, 1, 0, 1, 0, 0, 0, 0, 0, 0, 0, 0, 0, 0, 1, 0, 0, 0, 0, 0, 0, 1, 1, 0, 0, 0, 0, 1, 0, 1, 1, 1, 0, 1, 0, 0, 1, 1, 0, 0, 1, 1, 1, 0, 0, 0, 0, 1, 0, 0, 0, 1, 0, 1, 0, 1, 1, 0, 1, 1, 1, 1, 0, 0, 0, 0, 0, 0, 1, 0, 0, 0, 1, 1, 0, 1, 1, 1, 0, 0, 1, 0, 0, 1, 1, 1, 1, 0, 1, 1, 1, 1, 0, 1, 0, 0, 0, 1, 1, 0, 1, 1, 0, 1, 1, 1, 1, 1, 1, 1, 1, 1, 0, 1, 1, 1, 0, 0, 0, 1, 0, 0, 1, 0, 1, 0, 0, 0, 0, 0, 1, 1, 1, 0, 0, 1, 1, 1, 0, 1, 1, 1, 0, 0, 1, 0, 1, 1, 0, 1, 0, 0, 1, 1, 1, 0, 0, 0, 1, 1, 1, 0, 0, 1, 0, 0, 1, 0, 1, 1, 0, 0, 0, 1, 0, 1, 1, 0, 1, 1, 1, 0, 0, 0, 0, 0, 1, 0, 1, 0, 0, 1, 0, 1, 0, 1, 0, 1, 1, 0, 0, 1, 0, 1, 0, 1, 0, 0, 1, 1, 1, 0, 0, 1, 0, 1, 1, 1, 0, 0, 0, 1, 1, 0, 0, 0, 1, 1, 0, 1, 0, 0, 0, 0, 0, 1, 1, 0, 0, 1, 1, 1, 1, 0, 0, 0, 0, 1, 0, 0, 1, 1, 0, 0, 0, 0, 1, 1, 1, 1, 0, 0, 0, 1, 1, 0, 0, 0, 0, 1, 1, 0, 0, 0, 0, 1, 0, 1, 1, 1, 1, 1, 0, 0, 0, 0, 0, 1, 0, 0, 1, 0, 1, 1, 1, 0, 1, 0, 0, 0, 0, 0, 1, 1, 0, 1, 1, 1, 0, 0, 0, 1, 1, 1, 1, 0, 0, 1, 1, 0, 1, 0, 0, 0, 0, 0, 1, 1, 0, 0, 0, 1, 0, 1, 1, 1, 0, 0, 1, 0, 1, 0, 0, 1, 0, 1, 1, 1, 0, 0, 1, 1, 1, 0, 1, 1, 0, 1, 0, 0, 1, 0, 1, 0, 0, 0, 1, 1, 1, 0, 1, 0, 0, 1, 0, 1, 1, 0, 0, 0, 0, 0, 1, 0, 0, 0, 1, 0, 0, 1, 0, 0, 1, 0, 0, 1, 0, 0, 0, 0, 0, 0, 0, 0, 0, 1, 0, 1, 1, 0, 1, 0, 0, 0, 0, 0, 1, 0, 1, 0, 0, 1, 1, 1, 1, 0, 1, 0, 0, 1, 1, 0, 1, 1, 0, 1, 0, 0, 1, 0, 1, 0, 0, 0, 1, 1, 0, 0, 0, 1, 0, 1, 1, 1, 0, 1, 1, 1, 1, 1, 1, 0, 0, 0, 0, 0, 0, 0, 1, 1, 1, 1, 0, 0, 0, 0, 0, 1, 0, 1, 1, 0, 0, 0, 0, 0, 1, 1, 0, 0, 0, 0, 0, 1, 0, 0, 0, 1, 0, 0, 1, 0, 1, 0, 0, 1, 1, 0, 1, 0, 0, 0, 0, 0, 1, 0, 0, 1, 1, 0, 0, 0, 0, 0, 1, 0, 0, 0, 0, 1, 0, 0, 1, 1, 1, 0, 0, 0, 1, 1, 1, 1, 0, 1, 1, 1, 1, 0, 0, 0, 1, 0, 1, 1, 1, 0, 1, 1, 0, 0, 0, 1, 0, 1, 1, 0, 0, 1, 0, 0, 1, 1, 1, 1, 0, 0, 0, 0, 0, 1, 1, 1, 1, 0, 1, 0, 1, 1, 0, 1, 1, 1, 1, 1, 1, 1, 0, 0, 1, 0, 0, 1, 0, 1, 0, 1, 1, 1, 1, 0, 1, 1, 0, 0, 1, 1, 0, 1, 1, 0, 0, 0, 0, 0, 1, 0, 0, 1, 0, 0, 1, 0, 0, 0, 0, 0, 1, 0, 0, 0, 0, 0, 0, 1, 1, 0, 1, 0, 0, 1, 0, 1, 1, 0, 1, 0, 0, 1, 1, 1, 0, 1, 0, 0, 1, 0, 1, 1, 0, 1, 0, 1, 0, 1, 1, 0, 1, 1, 1, 0, 0, 0, 0, 0, 0, 1, 0, 0, 0, 0, 0, 1, 0, 0, 1, 0, 0, 0, 1, 1, 0, 1, 0, 1, 0, 1, 1, 1, 0, 0, 0, 1, 0, 0, 0, 1, 0, 1, 0, 0, 0, 0, 0, 0, 0, 1, 1, 0, 0, 0, 0, 0, 1, 0, 0, 0, 0, 0, 0, 1, 1, 0, 1, 0, 0, 0, 0, 1, 1, 0, 1, 0, 0, 0, 1, 0, 1, 0, 1, 1, 0, 1, 0, 0, 1, 0, 1, 1, 0, 1, 1, 0, 1, 0, 0, 1, 1, 0, 1, 0, 1, 1, 1, 1, 0, 1, 0, 0, 0, 0, 1, 1, 0, 0, 0, 0, 0, 0, 0, 0, 0, 0, 1, 0, 0, 0, 0, 1, 0, 0, 1, 0, 0, 0, 1, 0, 0, 0, 0, 0, 1, 1, 0, 0, 0, 0, 0, 1, 1, 0, 0, 0, 1, 0, 1, 1, 1, 1, 0, 0, 0, 0, 0, 0, 0, 1, 1, 0, 1, 0, 1, 1, 0, 0, 1, 1, 0, 1, 1, 0, 0, 0, 0, 0, 1, 0, 0, 1, 1, 1, 0, 0, 0, 1, 1, 1, 0, 0, 0, 0, 0, 0, 0, 1, 0, 1, 1, 1, 0, 1, 1, 0, 0, 1, 1, 1, 1, 0, 1, 1, 0, 0, 0, 0, 0, 1, 1, 0, 0, 0, 0, 1, 0, 1, 0, 1, 0, 0, 1, 1, 0, 0, 0, 1, 1, 1, 0, 0, 0, 0, 0, 0, 0, 0, 1, 0, 0, 0, 1, 1, 0, 0, 1, 1, 0, 0, 0, 0, 0, 1, 1, 0, 0, 1, 0, 1, 1, 0, 0, 1, 0, 1, 0, 1, 0, 1, 0, 0, 0, 1, 0, 1, 1, 0, 0, 0, 1, 1, 0, 1, 1, 0, 0, 1, 1, 0, 1, 0, 1, 0, 1, 0, 0, 0, 1, 0, 0, 0, 0, 1, 1, 0, 1, 0, 0, 1, 1, 1, 0, 1, 0, 0, 1, 0, 0, 1, 1, 1, 0, 1, 0, 0, 0, 1, 0, 0, 1, 0, 0, 1, 1, 1, 0, 1, 1, 0, 1, 1, 0]\n"
     ]
    }
   ],
   "source": [
    "print(y)"
   ]
  },
  {
   "cell_type": "code",
   "execution_count": 11,
   "metadata": {},
   "outputs": [
    {
     "data": {
      "image/png": "[encoded data removed]",
      "text/plain": [
       "<Figure size 432x288 with 1 Axes>"
      ]
     },
     "metadata": {
      "needs_background": "light"
     },
     "output_type": "display_data"
    },
    {
     "data": {
      "image/png": "[encoded data removed]",
      "text/plain": [
       "<Figure size 432x288 with 1 Axes>"
      ]
     },
     "metadata": {
      "needs_background": "light"
     },
     "output_type": "display_data"
    },
    {
     "data": {
      "image/png": "[encoded data removed]",
      "text/plain": [
       "<Figure size 432x288 with 1 Axes>"
      ]
     },
     "metadata": {
      "needs_background": "light"
     },
     "output_type": "display_data"
    },
    {
     "data": {
      "image/png": "[encoded data removed]",
      "text/plain": [
       "<Figure size 432x288 with 1 Axes>"
      ]
     },
     "metadata": {
      "needs_background": "light"
     },
     "output_type": "display_data"
    },
    {
     "data": {
      "image/png": "[encoded data removed]",
      "text/plain": [
       "<Figure size 432x288 with 1 Axes>"
      ]
     },
     "metadata": {
      "needs_background": "light"
     },
     "output_type": "display_data"
    }
   ],
   "source": [
    "temp = df.columns.values.tolist()\n",
    "del temp[0]\n",
    "for i in temp:\n",
    "    x = df[i]\n",
    "    plt.scatter(x, y)\n",
    "    plt.xlabel(i)\n",
    "    plt.ylabel('Cancer presence')\n",
    "    plt.title('%s vs Cancer presence'%i)\n",
    "    plt.show()"
   ]
  },
  {
   "cell_type": "markdown",
   "metadata": {},
   "source": [
    "# Data Preprocessing"
   ]
  },
  {
   "cell_type": "code",
   "execution_count": 12,
   "metadata": {},
   "outputs": [],
   "source": [
    "from sklearn.model_selection import train_test_split"
   ]
  },
  {
   "cell_type": "code",
   "execution_count": 13,
   "metadata": {},
   "outputs": [],
   "source": [
    "x_train, x_test, y_train, y_test = train_test_split(df, y, test_size=0.3, random_state=0)"
   ]
  },
  {
   "cell_type": "code",
   "execution_count": 14,
   "metadata": {},
   "outputs": [
    {
     "name": "stdout",
     "output_type": "stream",
     "text": [
      "         Contrast  Dissimilarities  Homogeneity    Energy  Correlation  \\\n",
      "1013  1134.401590        15.278334     0.393231  0.201700     0.767418   \n",
      "794   2077.693118        30.469035     0.258613  0.237353     0.511587   \n",
      "1412    97.523684         1.356545     0.971588  0.970934     0.622107   \n",
      "1880     7.537623         0.106250     0.997579  0.997518     0.608116   \n",
      "263   1790.697578        27.745513     0.236195  0.205916     0.655143   \n",
      "...           ...              ...          ...       ...          ...   \n",
      "2895    11.991449         0.147666     0.997211  0.997170     0.570964   \n",
      "2300    37.632972         0.553787     0.987617  0.987390     0.699427   \n",
      "1158  1108.853395        16.866959     0.286445  0.201539     0.744888   \n",
      "1263   796.287674        12.331196     0.340088  0.208444     0.831974   \n",
      "1044   142.675704         1.931664     0.960678  0.959780     0.644140   \n",
      "\n",
      "       Entropy  \n",
      "1013  5.567068  \n",
      "794   6.466622  \n",
      "1412  0.378459  \n",
      "1880  0.036021  \n",
      "263   6.651548  \n",
      "...        ...  \n",
      "2895  0.040768  \n",
      "2300  0.176308  \n",
      "1158  6.074766  \n",
      "1263  5.692199  \n",
      "1044  0.496388  \n",
      "\n",
      "[911 rows x 6 columns]\n"
     ]
    }
   ],
   "source": [
    "print(x_test)"
   ]
  },
  {
   "cell_type": "markdown",
   "metadata": {},
   "source": [
    "# Logistic Regression"
   ]
  },
  {
   "cell_type": "code",
   "execution_count": 15,
   "metadata": {},
   "outputs": [],
   "source": [
    "from sklearn.linear_model import LogisticRegression\n",
    "from sklearn.metrics import classification_report, confusion_matrix"
   ]
  },
  {
   "cell_type": "code",
   "execution_count": 16,
   "metadata": {},
   "outputs": [],
   "source": [
    "model = LogisticRegression(solver = 'liblinear', C = 0.05, \n",
    "                           multi_class = 'ovr', random_state = 0)"
   ]
  },
  {
   "cell_type": "code",
   "execution_count": 17,
   "metadata": {},
   "outputs": [
    {
     "data": {
      "text/plain": [
       "LogisticRegression(C=0.05, class_weight=None, dual=False, fit_intercept=True,\n",
       "                   intercept_scaling=1, l1_ratio=None, max_iter=100,\n",
       "                   multi_class='ovr', n_jobs=None, penalty='l2', random_state=0,\n",
       "                   solver='liblinear', tol=0.0001, verbose=0, warm_start=False)"
      ]
     },
     "execution_count": 17,
     "metadata": {},
     "output_type": "execute_result"
    }
   ],
   "source": [
    "model.fit(x_train, y_train)"
   ]
  },
  {
   "cell_type": "code",
   "execution_count": 18,
   "metadata": {},
   "outputs": [],
   "source": [
    "y_pred = model.predict(x_test)"
   ]
  },
  {
   "cell_type": "code",
   "execution_count": 19,
   "metadata": {},
   "outputs": [
    {
     "data": {
      "text/plain": [
       "1.0"
      ]
     },
     "execution_count": 19,
     "metadata": {},
     "output_type": "execute_result"
    }
   ],
   "source": [
    "# accuracy on training set\n",
    "model.score(x_train, y_train)"
   ]
  },
  {
   "cell_type": "code",
   "execution_count": 20,
   "metadata": {},
   "outputs": [
    {
     "data": {
      "text/plain": [
       "1.0"
      ]
     },
     "execution_count": 20,
     "metadata": {},
     "output_type": "execute_result"
    }
   ],
   "source": [
    "# Accuracy on testing set\n",
    "model.score(x_test, y_test)"
   ]
  },
  {
   "cell_type": "code",
   "execution_count": 21,
   "metadata": {},
   "outputs": [
    {
     "data": {
      "text/plain": [
       "array([[524,   0],\n",
       "       [  0, 387]])"
      ]
     },
     "execution_count": 21,
     "metadata": {},
     "output_type": "execute_result"
    }
   ],
   "source": [
    "confusion_matrix(y_test, y_pred)"
   ]
  },
  {
   "cell_type": "code",
   "execution_count": 22,
   "metadata": {},
   "outputs": [
    {
     "name": "stdout",
     "output_type": "stream",
     "text": [
      "              precision    recall  f1-score   support\n",
      "\n",
      "           0       1.00      1.00      1.00       524\n",
      "           1       1.00      1.00      1.00       387\n",
      "\n",
      "    accuracy                           1.00       911\n",
      "   macro avg       1.00      1.00      1.00       911\n",
      "weighted avg       1.00      1.00      1.00       911\n",
      "\n"
     ]
    }
   ],
   "source": [
    "print(classification_report(y_test, y_pred))"
   ]
  },
  {
   "cell_type": "markdown",
   "metadata": {},
   "source": [
    "# Decision Tree Algorithm"
   ]
  },
  {
   "cell_type": "markdown",
   "metadata": {},
   "source": [
    "## Gini Impurity"
   ]
  },
  {
   "cell_type": "code",
   "execution_count": 23,
   "metadata": {},
   "outputs": [],
   "source": [
    "from sklearn.tree import DecisionTreeClassifier\n",
    "from sklearn import tree"
   ]
  },
  {
   "cell_type": "code",
   "execution_count": 24,
   "metadata": {},
   "outputs": [],
   "source": [
    "decision_tree = DecisionTreeClassifier()"
   ]
  },
  {
   "cell_type": "code",
   "execution_count": 25,
   "metadata": {},
   "outputs": [
    {
     "data": {
      "text/plain": [
       "DecisionTreeClassifier(class_weight=None, criterion='gini', max_depth=None,\n",
       "                       max_features=None, max_leaf_nodes=None,\n",
       "                       min_impurity_decrease=0.0, min_impurity_split=None,\n",
       "                       min_samples_leaf=1, min_samples_split=2,\n",
       "                       min_weight_fraction_leaf=0.0, presort=False,\n",
       "                       random_state=None, splitter='best')"
      ]
     },
     "execution_count": 25,
     "metadata": {},
     "output_type": "execute_result"
    }
   ],
   "source": [
    "decision_tree.fit(x_train, y_train)"
   ]
  },
  {
   "cell_type": "code",
   "execution_count": 26,
   "metadata": {},
   "outputs": [
    {
     "name": "stdout",
     "output_type": "stream",
     "text": [
      "Model accuracy :  1.0\n"
     ]
    }
   ],
   "source": [
    "print('Model accuracy : ', decision_tree.score(x_train, y_train))"
   ]
  },
  {
   "cell_type": "code",
   "execution_count": 27,
   "metadata": {},
   "outputs": [
    {
     "data": {
      "text/plain": [
       "[Text(465.0, 679.5, 'X[1] <= 5.453\\ngini = 0.493\\nsamples = 2125\\nvalue = [1192, 933]'),\n",
       " Text(232.5, 226.5, 'gini = 0.0\\nsamples = 933\\nvalue = [0, 933]'),\n",
       " Text(697.5, 226.5, 'gini = 0.0\\nsamples = 1192\\nvalue = [1192, 0]')]"
      ]
     },
     "execution_count": 27,
     "metadata": {},
     "output_type": "execute_result"
    },
    {
     "data": {
      "image/png": "[encoded data removed]",
      "text/plain": [
       "<Figure size 1200x1200 with 1 Axes>"
      ]
     },
     "metadata": {
      "needs_background": "light"
     },
     "output_type": "display_data"
    }
   ],
   "source": [
    "fig, axes = plt.subplots(nrows = 1,ncols = 1,figsize = (4,4), dpi=300)\n",
    "tree.plot_tree(decision_tree)"
   ]
  },
  {
   "cell_type": "code",
   "execution_count": 28,
   "metadata": {},
   "outputs": [],
   "source": [
    "val = decision_tree.predict(x_test)"
   ]
  },
  {
   "cell_type": "code",
   "execution_count": 29,
   "metadata": {},
   "outputs": [
    {
     "name": "stdout",
     "output_type": "stream",
     "text": [
      "Predicted Values :  [0 0 1 1 0 1 0 1 0 0 1 1 1 1 0 0 1 1 1 0 1 0 0 1 0 1 1 0 1 1 1 0 0 1 1 0 1\n",
      " 0 0 0 1 0 1 1 0 0 1 1 0 1 0 1 1 1 0 1 0 0 0 0 1 1 0 1 0 0 1 1 1 1 1 1 1 0\n",
      " 1 1 1 0 1 0 0 1 1 0 0 1 0 1 1 0 0 0 1 1 0 1 0 0 0 0 0 0 0 1 0 1 0 0 1 0 0\n",
      " 0 1 0 0 1 1 0 0 1 0 0 1 1 0 1 1 0 0 0 1 1 0 0 1 0 0 0 1 0 0 0 0 0 1 0 1 1\n",
      " 1 0 0 1 0 1 0 1 0 0 0 1 1 0 0 1 0 1 1 1 1 1 0 1 1 1 0 1 0 0 0 1 0 0 1 1 0\n",
      " 0 0 0 0 0 1 0 0 0 0 1 0 0 1 0 0 1 0 0 0 0 1 0 1 1 1 0 1 0 1 0 0 0 0 1 0 0\n",
      " 0 0 1 1 1 1 1 0 0 0 1 0 1 1 1 0 1 0 1 1 0 1 1 1 0 0 0 0 1 1 0 1 1 0 1 1 0\n",
      " 0 1 1 1 0 1 0 1 1 1 1 0 0 0 1 1 1 0 1 1 1 1 1 0 0 1 0 1 1 1 1 0 1 1 0 0 0\n",
      " 0 0 1 0 1 1 1 0 1 1 0 0 0 1 1 0 1 1 1 0 0 0 0 1 0 1 0 0 0 0 1 0 0 1 0 0 0\n",
      " 1 0 1 0 0 1 0 1 0 1 0 1 0 0 0 1 1 1 0 0 0 0 1 1 0 0 0 1 1 1 0 1 0 0 0 0 0\n",
      " 0 1 0 0 1 1 0 0 1 0 1 0 0 1 0 1 0 0 0 0 0 1 1 1 1 0 1 0 0 0 1 0 0 1 0 1 1\n",
      " 0 0 0 1 0 0 0 0 0 0 1 0 0 1 0 0 0 1 1 1 1 0 0 1 0 0 0 1 0 0 1 1 1 1 1 1 1\n",
      " 0 1 0 1 1 0 1 1 1 1 1 0 0 1 0 1 0 0 0 1 0 0 0 0 0 0 0 0 1 0 1 0 1 1 0 0 0\n",
      " 0 0 1 0 0 1 1 1 0 0 0 0 0 0 1 1 0 0 0 0 1 0 0 0 1 0 0 0 1 0 1 1 1 0 0 1 1\n",
      " 1 1 0 0 1 1 1 1 0 1 0 1 0 0 0 0 1 0 0 0 0 1 1 0 1 0 0 1 0 0 1 1 0 0 0 0 1\n",
      " 1 1 1 0 0 0 1 0 0 0 0 0 0 0 0 1 0 1 0 0 0 1 0 1 0 0 0 0 0 1 1 0 0 0 1 0 1\n",
      " 0 0 0 0 0 1 0 0 1 0 0 0 1 0 0 0 0 1 0 0 0 0 1 0 0 1 0 1 0 0 0 1 0 0 0 0 0\n",
      " 1 0 1 1 1 0 0 0 1 0 0 0 0 0 0 0 0 0 1 1 1 1 0 1 0 0 1 1 1 0 0 0 1 0 0 0 0\n",
      " 0 0 0 0 1 0 0 1 0 1 0 0 0 1 1 0 0 1 1 1 1 1 1 1 0 0 1 0 0 1 0 0 0 1 1 0 1\n",
      " 0 0 0 0 0 1 0 0 1 0 0 0 1 1 0 1 0 0 0 1 0 0 1 0 0 1 0 0 1 1 0 1 1 1 1 0 0\n",
      " 0 0 1 1 0 1 0 0 1 1 1 0 0 0 0 1 1 1 1 0 1 0 0 0 0 1 1 0 1 0 1 1 0 1 0 0 1\n",
      " 1 1 1 1 0 1 1 0 1 1 0 0 1 1 0 1 0 0 0 0 0 1 1 0 0 0 0 1 1 0 0 1 0 1 0 0 1\n",
      " 0 0 0 1 0 1 0 0 0 0 0 1 0 0 0 0 0 0 0 1 0 0 0 0 1 0 0 1 0 1 1 1 0 0 0 1 1\n",
      " 0 1 1 0 0 0 0 0 0 0 0 1 0 1 0 0 1 0 0 1 1 0 1 1 0 0 0 0 1 0 0 0 0 0 1 1 1\n",
      " 0 0 0 1 0 0 0 1 1 1 0 1 0 1 0 0 0 1 1 1 0 0 1]\n",
      "Original Values :  [0, 0, 1, 1, 0, 1, 0, 1, 0, 0, 1, 1, 1, 1, 0, 0, 1, 1, 1, 0, 1, 0, 0, 1, 0, 1, 1, 0, 1, 1, 1, 0, 0, 1, 1, 0, 1, 0, 0, 0, 1, 0, 1, 1, 0, 0, 1, 1, 0, 1, 0, 1, 1, 1, 0, 1, 0, 0, 0, 0, 1, 1, 0, 1, 0, 0, 1, 1, 1, 1, 1, 1, 1, 0, 1, 1, 1, 0, 1, 0, 0, 1, 1, 0, 0, 1, 0, 1, 1, 0, 0, 0, 1, 1, 0, 1, 0, 0, 0, 0, 0, 0, 0, 1, 0, 1, 0, 0, 1, 0, 0, 0, 1, 0, 0, 1, 1, 0, 0, 1, 0, 0, 1, 1, 0, 1, 1, 0, 0, 0, 1, 1, 0, 0, 1, 0, 0, 0, 1, 0, 0, 0, 0, 0, 1, 0, 1, 1, 1, 0, 0, 1, 0, 1, 0, 1, 0, 0, 0, 1, 1, 0, 0, 1, 0, 1, 1, 1, 1, 1, 0, 1, 1, 1, 0, 1, 0, 0, 0, 1, 0, 0, 1, 1, 0, 0, 0, 0, 0, 0, 1, 0, 0, 0, 0, 1, 0, 0, 1, 0, 0, 1, 0, 0, 0, 0, 1, 0, 1, 1, 1, 0, 1, 0, 1, 0, 0, 0, 0, 1, 0, 0, 0, 0, 1, 1, 1, 1, 1, 0, 0, 0, 1, 0, 1, 1, 1, 0, 1, 0, 1, 1, 0, 1, 1, 1, 0, 0, 0, 0, 1, 1, 0, 1, 1, 0, 1, 1, 0, 0, 1, 1, 1, 0, 1, 0, 1, 1, 1, 1, 0, 0, 0, 1, 1, 1, 0, 1, 1, 1, 1, 1, 0, 0, 1, 0, 1, 1, 1, 1, 0, 1, 1, 0, 0, 0, 0, 0, 1, 0, 1, 1, 1, 0, 1, 1, 0, 0, 0, 1, 1, 0, 1, 1, 1, 0, 0, 0, 0, 1, 0, 1, 0, 0, 0, 0, 1, 0, 0, 1, 0, 0, 0, 1, 0, 1, 0, 0, 1, 0, 1, 0, 1, 0, 1, 0, 0, 0, 1, 1, 1, 0, 0, 0, 0, 1, 1, 0, 0, 0, 1, 1, 1, 0, 1, 0, 0, 0, 0, 0, 0, 1, 0, 0, 1, 1, 0, 0, 1, 0, 1, 0, 0, 1, 0, 1, 0, 0, 0, 0, 0, 1, 1, 1, 1, 0, 1, 0, 0, 0, 1, 0, 0, 1, 0, 1, 1, 0, 0, 0, 1, 0, 0, 0, 0, 0, 0, 1, 0, 0, 1, 0, 0, 0, 1, 1, 1, 1, 0, 0, 1, 0, 0, 0, 1, 0, 0, 1, 1, 1, 1, 1, 1, 1, 0, 1, 0, 1, 1, 0, 1, 1, 1, 1, 1, 0, 0, 1, 0, 1, 0, 0, 0, 1, 0, 0, 0, 0, 0, 0, 0, 0, 1, 0, 1, 0, 1, 1, 0, 0, 0, 0, 0, 1, 0, 0, 1, 1, 1, 0, 0, 0, 0, 0, 0, 1, 1, 0, 0, 0, 0, 1, 0, 0, 0, 1, 0, 0, 0, 1, 0, 1, 1, 1, 0, 0, 1, 1, 1, 1, 0, 0, 1, 1, 1, 1, 0, 1, 0, 1, 0, 0, 0, 0, 1, 0, 0, 0, 0, 1, 1, 0, 1, 0, 0, 1, 0, 0, 1, 1, 0, 0, 0, 0, 1, 1, 1, 1, 0, 0, 0, 1, 0, 0, 0, 0, 0, 0, 0, 0, 1, 0, 1, 0, 0, 0, 1, 0, 1, 0, 0, 0, 0, 0, 1, 1, 0, 0, 0, 1, 0, 1, 0, 0, 0, 0, 0, 1, 0, 0, 1, 0, 0, 0, 1, 0, 0, 0, 0, 1, 0, 0, 0, 0, 1, 0, 0, 1, 0, 1, 0, 0, 0, 1, 0, 0, 0, 0, 0, 1, 0, 1, 1, 1, 0, 0, 0, 1, 0, 0, 0, 0, 0, 0, 0, 0, 0, 1, 1, 1, 1, 0, 1, 0, 0, 1, 1, 1, 0, 0, 0, 1, 0, 0, 0, 0, 0, 0, 0, 0, 1, 0, 0, 1, 0, 1, 0, 0, 0, 1, 1, 0, 0, 1, 1, 1, 1, 1, 1, 1, 0, 0, 1, 0, 0, 1, 0, 0, 0, 1, 1, 0, 1, 0, 0, 0, 0, 0, 1, 0, 0, 1, 0, 0, 0, 1, 1, 0, 1, 0, 0, 0, 1, 0, 0, 1, 0, 0, 1, 0, 0, 1, 1, 0, 1, 1, 1, 1, 0, 0, 0, 0, 1, 1, 0, 1, 0, 0, 1, 1, 1, 0, 0, 0, 0, 1, 1, 1, 1, 0, 1, 0, 0, 0, 0, 1, 1, 0, 1, 0, 1, 1, 0, 1, 0, 0, 1, 1, 1, 1, 1, 0, 1, 1, 0, 1, 1, 0, 0, 1, 1, 0, 1, 0, 0, 0, 0, 0, 1, 1, 0, 0, 0, 0, 1, 1, 0, 0, 1, 0, 1, 0, 0, 1, 0, 0, 0, 1, 0, 1, 0, 0, 0, 0, 0, 1, 0, 0, 0, 0, 0, 0, 0, 1, 0, 0, 0, 0, 1, 0, 0, 1, 0, 1, 1, 1, 0, 0, 0, 1, 1, 0, 1, 1, 0, 0, 0, 0, 0, 0, 0, 0, 1, 0, 1, 0, 0, 1, 0, 0, 1, 1, 0, 1, 1, 0, 0, 0, 0, 1, 0, 0, 0, 0, 0, 1, 1, 1, 0, 0, 0, 1, 0, 0, 0, 1, 1, 1, 0, 1, 0, 1, 0, 0, 0, 1, 1, 1, 0, 0, 1]\n"
     ]
    }
   ],
   "source": [
    "print('Predicted Values : ', val)\n",
    "print('Original Values : ', y_test)"
   ]
  },
  {
   "cell_type": "code",
   "execution_count": 30,
   "metadata": {},
   "outputs": [
    {
     "name": "stdout",
     "output_type": "stream",
     "text": [
      "Accuracy on testing data :  1.0\n"
     ]
    }
   ],
   "source": [
    "print('Accuracy on testing data : ',decision_tree.score(x_test, y_test))"
   ]
  },
  {
   "cell_type": "code",
   "execution_count": 31,
   "metadata": {},
   "outputs": [
    {
     "name": "stdout",
     "output_type": "stream",
     "text": [
      "Confusion Matrix : \n",
      "[[524   0]\n",
      " [  0 387]]\n"
     ]
    }
   ],
   "source": [
    "print('Confusion Matrix : ')\n",
    "print(confusion_matrix(y_test, val))"
   ]
  },
  {
   "cell_type": "markdown",
   "metadata": {},
   "source": [
    "## Entropy"
   ]
  },
  {
   "cell_type": "code",
   "execution_count": 32,
   "metadata": {},
   "outputs": [],
   "source": [
    "decision_tree = DecisionTreeClassifier(criterion = 'entropy')"
   ]
  },
  {
   "cell_type": "code",
   "execution_count": 33,
   "metadata": {},
   "outputs": [
    {
     "data": {
      "text/plain": [
       "DecisionTreeClassifier(class_weight=None, criterion='entropy', max_depth=None,\n",
       "                       max_features=None, max_leaf_nodes=None,\n",
       "                       min_impurity_decrease=0.0, min_impurity_split=None,\n",
       "                       min_samples_leaf=1, min_samples_split=2,\n",
       "                       min_weight_fraction_leaf=0.0, presort=False,\n",
       "                       random_state=None, splitter='best')"
      ]
     },
     "execution_count": 33,
     "metadata": {},
     "output_type": "execute_result"
    }
   ],
   "source": [
    "decision_tree.fit(x_train, y_train)"
   ]
  },
  {
   "cell_type": "code",
   "execution_count": 34,
   "metadata": {},
   "outputs": [
    {
     "name": "stdout",
     "output_type": "stream",
     "text": [
      "Model accuracy :  1.0\n"
     ]
    }
   ],
   "source": [
    "print('Model accuracy : ', decision_tree.score(x_train, y_train))"
   ]
  },
  {
   "cell_type": "code",
   "execution_count": 35,
   "metadata": {},
   "outputs": [
    {
     "data": {
      "text/plain": [
       "[Text(465.0, 679.5, 'X[3] <= 0.598\\nentropy = 0.989\\nsamples = 2125\\nvalue = [1192, 933]'),\n",
       " Text(232.5, 226.5, 'entropy = 0.0\\nsamples = 1192\\nvalue = [1192, 0]'),\n",
       " Text(697.5, 226.5, 'entropy = 0.0\\nsamples = 933\\nvalue = [0, 933]')]"
      ]
     },
     "execution_count": 35,
     "metadata": {},
     "output_type": "execute_result"
    },
    {
     "data": {
      "image/png": "[encoded data removed]",
      "text/plain": [
       "<Figure size 1200x1200 with 1 Axes>"
      ]
     },
     "metadata": {
      "needs_background": "light"
     },
     "output_type": "display_data"
    }
   ],
   "source": [
    "fig, axes = plt.subplots(nrows = 1,ncols = 1,figsize = (4,4), dpi=300)\n",
    "tree.plot_tree(decision_tree)"
   ]
  },
  {
   "cell_type": "code",
   "execution_count": 36,
   "metadata": {},
   "outputs": [
    {
     "name": "stdout",
     "output_type": "stream",
     "text": [
      "Predicted Values :  [0 0 1 1 0 1 0 1 0 0 1 1 1 1 0 0 1 1 1 0 1 0 0 1 0 1 1 0 1 1 1 0 0 1 1 0 1\n",
      " 0 0 0 1 0 1 1 0 0 1 1 0 1 0 1 1 1 0 1 0 0 0 0 1 1 0 1 0 0 1 1 1 1 1 1 1 0\n",
      " 1 1 1 0 1 0 0 1 1 0 0 1 0 1 1 0 0 0 1 1 0 1 0 0 0 0 0 0 0 1 0 1 0 0 1 0 0\n",
      " 0 1 0 0 1 1 0 0 1 0 0 1 1 0 1 1 0 0 0 1 1 0 0 1 0 0 0 1 0 0 0 0 0 1 0 1 1\n",
      " 1 0 0 1 0 1 0 1 0 0 0 1 1 0 0 1 0 1 1 1 1 1 0 1 1 1 0 1 0 0 0 1 0 0 1 1 0\n",
      " 0 0 0 0 0 1 0 0 0 0 1 0 0 1 0 0 1 0 0 0 0 1 0 1 1 1 0 1 0 1 0 0 0 0 1 0 0\n",
      " 0 0 1 1 1 1 1 0 0 0 1 0 1 1 1 0 1 0 1 1 0 1 1 1 0 0 0 0 1 1 0 1 1 0 1 1 0\n",
      " 0 1 1 1 0 1 0 1 1 1 1 0 0 0 1 1 1 0 1 1 1 1 1 0 0 1 0 1 1 1 1 0 1 1 0 0 0\n",
      " 0 0 1 0 1 1 1 0 1 1 0 0 0 1 1 0 1 1 1 0 0 0 0 1 0 1 0 0 0 0 1 0 0 1 0 0 0\n",
      " 1 0 1 0 0 1 0 1 0 1 0 1 0 0 0 1 1 1 0 0 0 0 1 1 0 0 0 1 1 1 0 1 0 0 0 0 0\n",
      " 0 1 0 0 1 1 0 0 1 0 1 0 0 1 0 1 0 0 0 0 0 1 1 1 1 0 1 0 0 0 1 0 0 1 0 1 1\n",
      " 0 0 0 1 0 0 0 0 0 0 1 0 0 1 0 0 0 1 1 1 1 0 0 1 0 0 0 1 0 0 1 1 1 1 1 1 1\n",
      " 0 1 0 1 1 0 1 1 1 1 1 0 0 1 0 1 0 0 0 1 0 0 0 0 0 0 0 0 1 0 1 0 1 1 0 0 0\n",
      " 0 0 1 0 0 1 1 1 0 0 0 0 0 0 1 1 0 0 0 0 1 0 0 0 1 0 0 0 1 0 1 1 1 0 0 1 1\n",
      " 1 1 0 0 1 1 1 1 0 1 0 1 0 0 0 0 1 0 0 0 0 1 1 0 1 0 0 1 0 0 1 1 0 0 0 0 1\n",
      " 1 1 1 0 0 0 1 0 0 0 0 0 0 0 0 1 0 1 0 0 0 1 0 1 0 0 0 0 0 1 1 0 0 0 1 0 1\n",
      " 0 0 0 0 0 1 0 0 1 0 0 0 1 0 0 0 0 1 0 0 0 0 1 0 0 1 0 1 0 0 0 1 0 0 0 0 0\n",
      " 1 0 1 1 1 0 0 0 1 0 0 0 0 0 0 0 0 0 1 1 1 1 0 1 0 0 1 1 1 0 0 0 1 0 0 0 0\n",
      " 0 0 0 0 1 0 0 1 0 1 0 0 0 1 1 0 0 1 1 1 1 1 1 1 0 0 1 0 0 1 0 0 0 1 1 0 1\n",
      " 0 0 0 0 0 1 0 0 1 0 0 0 1 1 0 1 0 0 0 1 0 0 1 0 0 1 0 0 1 1 0 1 1 1 1 0 0\n",
      " 0 0 1 1 0 1 0 0 1 1 1 0 0 0 0 1 1 1 1 0 1 0 0 0 0 1 1 0 1 0 1 1 0 1 0 0 1\n",
      " 1 1 1 1 0 1 1 0 1 1 0 0 1 1 0 1 0 0 0 0 0 1 1 0 0 0 0 1 1 0 0 1 0 1 0 0 1\n",
      " 0 0 0 1 0 1 0 0 0 0 0 1 0 0 0 0 0 0 0 1 0 0 0 0 1 0 0 1 0 1 1 1 0 0 0 1 1\n",
      " 0 1 1 0 0 0 0 0 0 0 0 1 0 1 0 0 1 0 0 1 1 0 1 1 0 0 0 0 1 0 0 0 0 0 1 1 1\n",
      " 0 0 0 1 0 0 0 1 1 1 0 1 0 1 0 0 0 1 1 1 0 0 1]\n",
      "Original Values :  [0, 0, 1, 1, 0, 1, 0, 1, 0, 0, 1, 1, 1, 1, 0, 0, 1, 1, 1, 0, 1, 0, 0, 1, 0, 1, 1, 0, 1, 1, 1, 0, 0, 1, 1, 0, 1, 0, 0, 0, 1, 0, 1, 1, 0, 0, 1, 1, 0, 1, 0, 1, 1, 1, 0, 1, 0, 0, 0, 0, 1, 1, 0, 1, 0, 0, 1, 1, 1, 1, 1, 1, 1, 0, 1, 1, 1, 0, 1, 0, 0, 1, 1, 0, 0, 1, 0, 1, 1, 0, 0, 0, 1, 1, 0, 1, 0, 0, 0, 0, 0, 0, 0, 1, 0, 1, 0, 0, 1, 0, 0, 0, 1, 0, 0, 1, 1, 0, 0, 1, 0, 0, 1, 1, 0, 1, 1, 0, 0, 0, 1, 1, 0, 0, 1, 0, 0, 0, 1, 0, 0, 0, 0, 0, 1, 0, 1, 1, 1, 0, 0, 1, 0, 1, 0, 1, 0, 0, 0, 1, 1, 0, 0, 1, 0, 1, 1, 1, 1, 1, 0, 1, 1, 1, 0, 1, 0, 0, 0, 1, 0, 0, 1, 1, 0, 0, 0, 0, 0, 0, 1, 0, 0, 0, 0, 1, 0, 0, 1, 0, 0, 1, 0, 0, 0, 0, 1, 0, 1, 1, 1, 0, 1, 0, 1, 0, 0, 0, 0, 1, 0, 0, 0, 0, 1, 1, 1, 1, 1, 0, 0, 0, 1, 0, 1, 1, 1, 0, 1, 0, 1, 1, 0, 1, 1, 1, 0, 0, 0, 0, 1, 1, 0, 1, 1, 0, 1, 1, 0, 0, 1, 1, 1, 0, 1, 0, 1, 1, 1, 1, 0, 0, 0, 1, 1, 1, 0, 1, 1, 1, 1, 1, 0, 0, 1, 0, 1, 1, 1, 1, 0, 1, 1, 0, 0, 0, 0, 0, 1, 0, 1, 1, 1, 0, 1, 1, 0, 0, 0, 1, 1, 0, 1, 1, 1, 0, 0, 0, 0, 1, 0, 1, 0, 0, 0, 0, 1, 0, 0, 1, 0, 0, 0, 1, 0, 1, 0, 0, 1, 0, 1, 0, 1, 0, 1, 0, 0, 0, 1, 1, 1, 0, 0, 0, 0, 1, 1, 0, 0, 0, 1, 1, 1, 0, 1, 0, 0, 0, 0, 0, 0, 1, 0, 0, 1, 1, 0, 0, 1, 0, 1, 0, 0, 1, 0, 1, 0, 0, 0, 0, 0, 1, 1, 1, 1, 0, 1, 0, 0, 0, 1, 0, 0, 1, 0, 1, 1, 0, 0, 0, 1, 0, 0, 0, 0, 0, 0, 1, 0, 0, 1, 0, 0, 0, 1, 1, 1, 1, 0, 0, 1, 0, 0, 0, 1, 0, 0, 1, 1, 1, 1, 1, 1, 1, 0, 1, 0, 1, 1, 0, 1, 1, 1, 1, 1, 0, 0, 1, 0, 1, 0, 0, 0, 1, 0, 0, 0, 0, 0, 0, 0, 0, 1, 0, 1, 0, 1, 1, 0, 0, 0, 0, 0, 1, 0, 0, 1, 1, 1, 0, 0, 0, 0, 0, 0, 1, 1, 0, 0, 0, 0, 1, 0, 0, 0, 1, 0, 0, 0, 1, 0, 1, 1, 1, 0, 0, 1, 1, 1, 1, 0, 0, 1, 1, 1, 1, 0, 1, 0, 1, 0, 0, 0, 0, 1, 0, 0, 0, 0, 1, 1, 0, 1, 0, 0, 1, 0, 0, 1, 1, 0, 0, 0, 0, 1, 1, 1, 1, 0, 0, 0, 1, 0, 0, 0, 0, 0, 0, 0, 0, 1, 0, 1, 0, 0, 0, 1, 0, 1, 0, 0, 0, 0, 0, 1, 1, 0, 0, 0, 1, 0, 1, 0, 0, 0, 0, 0, 1, 0, 0, 1, 0, 0, 0, 1, 0, 0, 0, 0, 1, 0, 0, 0, 0, 1, 0, 0, 1, 0, 1, 0, 0, 0, 1, 0, 0, 0, 0, 0, 1, 0, 1, 1, 1, 0, 0, 0, 1, 0, 0, 0, 0, 0, 0, 0, 0, 0, 1, 1, 1, 1, 0, 1, 0, 0, 1, 1, 1, 0, 0, 0, 1, 0, 0, 0, 0, 0, 0, 0, 0, 1, 0, 0, 1, 0, 1, 0, 0, 0, 1, 1, 0, 0, 1, 1, 1, 1, 1, 1, 1, 0, 0, 1, 0, 0, 1, 0, 0, 0, 1, 1, 0, 1, 0, 0, 0, 0, 0, 1, 0, 0, 1, 0, 0, 0, 1, 1, 0, 1, 0, 0, 0, 1, 0, 0, 1, 0, 0, 1, 0, 0, 1, 1, 0, 1, 1, 1, 1, 0, 0, 0, 0, 1, 1, 0, 1, 0, 0, 1, 1, 1, 0, 0, 0, 0, 1, 1, 1, 1, 0, 1, 0, 0, 0, 0, 1, 1, 0, 1, 0, 1, 1, 0, 1, 0, 0, 1, 1, 1, 1, 1, 0, 1, 1, 0, 1, 1, 0, 0, 1, 1, 0, 1, 0, 0, 0, 0, 0, 1, 1, 0, 0, 0, 0, 1, 1, 0, 0, 1, 0, 1, 0, 0, 1, 0, 0, 0, 1, 0, 1, 0, 0, 0, 0, 0, 1, 0, 0, 0, 0, 0, 0, 0, 1, 0, 0, 0, 0, 1, 0, 0, 1, 0, 1, 1, 1, 0, 0, 0, 1, 1, 0, 1, 1, 0, 0, 0, 0, 0, 0, 0, 0, 1, 0, 1, 0, 0, 1, 0, 0, 1, 1, 0, 1, 1, 0, 0, 0, 0, 1, 0, 0, 0, 0, 0, 1, 1, 1, 0, 0, 0, 1, 0, 0, 0, 1, 1, 1, 0, 1, 0, 1, 0, 0, 0, 1, 1, 1, 0, 0, 1]\n"
     ]
    }
   ],
   "source": [
    "val = decision_tree.predict(x_test)\n",
    "print('Predicted Values : ', val)\n",
    "print('Original Values : ', y_test)"
   ]
  },
  {
   "cell_type": "code",
   "execution_count": 37,
   "metadata": {},
   "outputs": [
    {
     "name": "stdout",
     "output_type": "stream",
     "text": [
      "Accuracy on testing data :  1.0\n"
     ]
    }
   ],
   "source": [
    "print('Accuracy on testing data : ',decision_tree.score(x_test, y_test))"
   ]
  },
  {
   "cell_type": "code",
   "execution_count": 38,
   "metadata": {},
   "outputs": [
    {
     "name": "stdout",
     "output_type": "stream",
     "text": [
      "Confusion Matrix : \n",
      "[[524   0]\n",
      " [  0 387]]\n"
     ]
    }
   ],
   "source": [
    "print('Confusion Matrix : ')\n",
    "print(confusion_matrix(y_test, val))"
   ]
  },
  {
   "cell_type": "markdown",
   "metadata": {},
   "source": [
    "# Random Forest Classifier"
   ]
  },
  {
   "cell_type": "markdown",
   "metadata": {},
   "source": [
    "## Gini Index"
   ]
  },
  {
   "cell_type": "code",
   "execution_count": 39,
   "metadata": {},
   "outputs": [],
   "source": [
    "from sklearn.ensemble import RandomForestClassifier"
   ]
  },
  {
   "cell_type": "code",
   "execution_count": 40,
   "metadata": {},
   "outputs": [],
   "source": [
    "random_forest = RandomForestClassifier(criterion = 'gini',\n",
    "                                       n_estimators = 100, \n",
    "                                       bootstrap = True,\n",
    "                                       max_features = 'sqrt')"
   ]
  },
  {
   "cell_type": "code",
   "execution_count": 41,
   "metadata": {},
   "outputs": [
    {
     "data": {
      "text/plain": [
       "RandomForestClassifier(bootstrap=True, class_weight=None, criterion='gini',\n",
       "                       max_depth=None, max_features='sqrt', max_leaf_nodes=None,\n",
       "                       min_impurity_decrease=0.0, min_impurity_split=None,\n",
       "                       min_samples_leaf=1, min_samples_split=2,\n",
       "                       min_weight_fraction_leaf=0.0, n_estimators=100,\n",
       "                       n_jobs=None, oob_score=False, random_state=None,\n",
       "                       verbose=0, warm_start=False)"
      ]
     },
     "execution_count": 41,
     "metadata": {},
     "output_type": "execute_result"
    }
   ],
   "source": [
    "random_forest.fit(x_train, y_train)"
   ]
  },
  {
   "cell_type": "code",
   "execution_count": 42,
   "metadata": {},
   "outputs": [
    {
     "name": "stdout",
     "output_type": "stream",
     "text": [
      "Accuracy on testing data :  1.0\n"
     ]
    }
   ],
   "source": [
    "print('Accuracy on testing data : ', random_forest.score(x_test, y_test))"
   ]
  },
  {
   "cell_type": "code",
   "execution_count": 43,
   "metadata": {},
   "outputs": [
    {
     "name": "stdout",
     "output_type": "stream",
     "text": [
      "Confusion matrix : \n",
      "[[524   0]\n",
      " [  0 387]]\n"
     ]
    }
   ],
   "source": [
    "val = random_forest.predict(x_test)\n",
    "print('Confusion matrix : ')\n",
    "print(confusion_matrix(y_test, val))"
   ]
  },
  {
   "cell_type": "markdown",
   "metadata": {},
   "source": [
    "## Entropy"
   ]
  },
  {
   "cell_type": "code",
   "execution_count": 44,
   "metadata": {},
   "outputs": [],
   "source": [
    "random_forest = RandomForestClassifier(criterion = 'entropy',\n",
    "                                       n_estimators = 100, \n",
    "                                       bootstrap = True,\n",
    "                                       max_features = 'sqrt')"
   ]
  },
  {
   "cell_type": "code",
   "execution_count": 45,
   "metadata": {},
   "outputs": [
    {
     "data": {
      "text/plain": [
       "RandomForestClassifier(bootstrap=True, class_weight=None, criterion='entropy',\n",
       "                       max_depth=None, max_features='sqrt', max_leaf_nodes=None,\n",
       "                       min_impurity_decrease=0.0, min_impurity_split=None,\n",
       "                       min_samples_leaf=1, min_samples_split=2,\n",
       "                       min_weight_fraction_leaf=0.0, n_estimators=100,\n",
       "                       n_jobs=None, oob_score=False, random_state=None,\n",
       "                       verbose=0, warm_start=False)"
      ]
     },
     "execution_count": 45,
     "metadata": {},
     "output_type": "execute_result"
    }
   ],
   "source": [
    "random_forest.fit(x_train, y_train)"
   ]
  },
  {
   "cell_type": "code",
   "execution_count": 46,
   "metadata": {},
   "outputs": [
    {
     "name": "stdout",
     "output_type": "stream",
     "text": [
      "Accuracy on testing data :  1.0\n"
     ]
    }
   ],
   "source": [
    "print('Accuracy on testing data : ', random_forest.score(x_test, y_test))"
   ]
  },
  {
   "cell_type": "code",
   "execution_count": 47,
   "metadata": {},
   "outputs": [
    {
     "name": "stdout",
     "output_type": "stream",
     "text": [
      "Confusion matrix : \n",
      "[[524   0]\n",
      " [  0 387]]\n"
     ]
    }
   ],
   "source": [
    "val = random_forest.predict(x_test)\n",
    "print('Confusion matrix : ')\n",
    "print(confusion_matrix(y_test, val))"
   ]
  },
  {
   "cell_type": "markdown",
   "metadata": {},
   "source": [
    "# Support Vector Machine"
   ]
  },
  {
   "cell_type": "code",
   "execution_count": 48,
   "metadata": {},
   "outputs": [],
   "source": [
    "from sklearn.svm import SVC"
   ]
  },
  {
   "cell_type": "code",
   "execution_count": 49,
   "metadata": {},
   "outputs": [],
   "source": [
    "svm = SVC(kernel = 'poly')"
   ]
  },
  {
   "cell_type": "code",
   "execution_count": 50,
   "metadata": {},
   "outputs": [
    {
     "name": "stderr",
     "output_type": "stream",
     "text": [
      "/Users/rt/opt/anaconda3/lib/python3.7/site-packages/sklearn/svm/base.py:193: FutureWarning: The default value of gamma will change from 'auto' to 'scale' in version 0.22 to account better for unscaled features. Set gamma explicitly to 'auto' or 'scale' to avoid this warning.\n",
      "  \"avoid this warning.\", FutureWarning)\n"
     ]
    },
    {
     "data": {
      "text/plain": [
       "SVC(C=1.0, cache_size=200, class_weight=None, coef0=0.0,\n",
       "    decision_function_shape='ovr', degree=3, gamma='auto_deprecated',\n",
       "    kernel='poly', max_iter=-1, probability=False, random_state=None,\n",
       "    shrinking=True, tol=0.001, verbose=False)"
      ]
     },
     "execution_count": 50,
     "metadata": {},
     "output_type": "execute_result"
    }
   ],
   "source": [
    "svm.fit(x_train, y_train)"
   ]
  },
  {
   "cell_type": "code",
   "execution_count": 51,
   "metadata": {},
   "outputs": [
    {
     "name": "stdout",
     "output_type": "stream",
     "text": [
      "Predicted values for SVM Classifier :  [0 0 1 1 0 1 0 1 0 0 1 1 1 1 0 0 1 1 1 0 1 0 0 1 0 1 1 0 1 1 1 0 0 1 1 0 1\n",
      " 0 0 0 1 0 1 1 0 0 1 1 0 1 0 1 1 1 0 1 0 0 0 0 1 1 0 1 0 0 1 1 1 1 1 1 1 0\n",
      " 1 1 1 0 1 0 0 1 1 0 0 1 0 1 1 0 0 0 1 1 0 1 0 0 0 0 0 0 0 1 0 1 0 0 1 0 0\n",
      " 0 1 0 0 1 1 0 0 1 0 0 1 1 0 1 1 0 0 0 1 1 0 0 1 0 0 0 1 0 0 0 0 0 1 0 1 1\n",
      " 1 0 0 1 0 1 0 1 0 0 0 1 1 0 0 1 0 1 1 1 1 1 0 1 1 1 0 1 0 0 0 1 0 0 1 1 0\n",
      " 0 0 0 0 0 1 0 0 0 0 1 0 0 1 0 0 1 0 0 0 0 1 0 1 1 1 0 1 0 1 0 0 0 0 1 0 0\n",
      " 0 0 1 1 1 1 1 0 0 0 1 0 1 1 1 0 1 0 1 1 0 1 1 1 0 0 0 0 1 1 0 1 1 0 1 1 0\n",
      " 0 1 1 1 0 1 0 1 1 1 1 0 0 0 1 1 1 0 1 1 1 1 1 0 0 1 0 1 1 1 1 0 1 1 0 0 0\n",
      " 0 0 1 0 1 1 1 0 1 1 0 0 0 1 1 0 1 1 1 0 0 0 0 1 0 1 0 0 0 0 1 0 0 1 0 0 0\n",
      " 1 0 1 0 0 1 0 1 0 1 0 1 0 0 0 1 1 1 0 0 0 0 1 1 0 0 0 1 1 1 0 1 0 0 0 0 0\n",
      " 0 1 0 0 1 1 0 0 1 0 1 0 0 1 0 1 0 0 0 0 0 1 1 1 1 0 1 0 0 0 1 0 0 1 0 1 1\n",
      " 0 0 0 1 0 0 0 0 0 0 1 0 0 1 0 0 0 1 1 1 1 0 0 1 0 0 0 1 0 0 1 1 1 1 1 1 1\n",
      " 0 1 0 1 1 0 1 1 1 1 1 0 0 1 0 1 0 0 0 1 0 0 0 0 0 0 0 0 1 0 1 0 1 1 0 0 0\n",
      " 0 0 1 0 0 1 1 1 0 0 0 0 0 0 1 1 0 0 0 0 1 0 0 0 1 0 0 0 1 0 1 1 1 0 0 1 1\n",
      " 1 1 0 0 1 1 1 1 0 1 0 1 0 0 0 0 1 0 0 0 0 1 1 0 1 0 0 1 0 0 1 1 0 0 0 0 1\n",
      " 1 1 1 0 0 0 1 0 0 0 0 0 0 0 0 1 0 1 0 0 0 1 0 1 0 0 0 0 0 1 1 0 0 0 1 0 1\n",
      " 0 0 0 0 0 1 0 0 1 0 0 0 1 0 0 0 0 1 0 0 0 0 1 0 0 1 0 1 0 0 0 1 0 0 0 0 0\n",
      " 1 0 1 1 1 0 0 0 1 0 0 0 0 0 0 0 0 0 1 1 1 1 0 1 0 0 1 1 1 0 0 0 1 0 0 0 0\n",
      " 0 0 0 0 1 0 0 1 0 1 0 0 0 1 1 0 0 1 1 1 1 1 1 1 0 0 1 0 0 1 0 0 0 1 1 0 1\n",
      " 0 0 0 0 0 1 0 0 1 0 0 0 1 1 0 1 0 0 0 1 0 0 1 0 0 1 0 0 1 1 0 1 1 1 1 0 0\n",
      " 0 0 1 1 0 1 0 0 1 1 1 0 0 0 0 1 1 1 1 0 1 0 0 0 0 1 1 0 1 0 1 1 0 1 0 0 1\n",
      " 1 1 1 1 0 1 1 0 1 1 0 0 1 1 0 1 0 0 0 0 0 1 1 0 0 0 0 1 1 0 0 1 0 1 0 0 1\n",
      " 0 0 0 1 0 1 0 0 0 0 0 1 0 0 0 0 0 0 0 1 0 0 0 0 1 0 0 1 0 1 1 1 0 0 0 1 1\n",
      " 0 1 1 0 0 0 0 0 0 0 0 1 0 1 0 0 1 0 0 1 1 0 1 1 0 0 0 0 1 0 0 0 0 0 1 1 1\n",
      " 0 0 0 1 0 0 0 1 1 1 0 1 0 1 0 0 0 1 1 1 0 0 1]\n"
     ]
    }
   ],
   "source": [
    "print('Predicted values for SVM Classifier : ',svm.predict(x_test))"
   ]
  },
  {
   "cell_type": "code",
   "execution_count": 52,
   "metadata": {},
   "outputs": [
    {
     "name": "stdout",
     "output_type": "stream",
     "text": [
      "Accuracy of Support Vector Machine :  1.0\n"
     ]
    }
   ],
   "source": [
    "print('Accuracy of Support Vector Machine : ', svm.score(x_test, y_test))"
   ]
  },
  {
   "cell_type": "markdown",
   "metadata": {},
   "source": [
    "# Neural network"
   ]
  },
  {
   "cell_type": "code",
   "execution_count": 53,
   "metadata": {},
   "outputs": [
    {
     "name": "stderr",
     "output_type": "stream",
     "text": [
      "Using TensorFlow backend.\n"
     ]
    }
   ],
   "source": [
    "from keras import Sequential\n",
    "from keras.layers import Dense"
   ]
  },
  {
   "cell_type": "code",
   "execution_count": 54,
   "metadata": {},
   "outputs": [],
   "source": [
    "classifier = Sequential()"
   ]
  },
  {
   "cell_type": "code",
   "execution_count": 55,
   "metadata": {},
   "outputs": [],
   "source": [
    "classifier.add(Dense(6, activation = 'relu', \n",
    "                     kernel_initializer = 'random_normal', \n",
    "                     input_dim = 6))"
   ]
  },
  {
   "cell_type": "code",
   "execution_count": 56,
   "metadata": {},
   "outputs": [],
   "source": [
    "classifier.add(Dense(6, activation = 'relu',\n",
    "                    kernel_initializer = 'random_normal'))"
   ]
  },
  {
   "cell_type": "code",
   "execution_count": 57,
   "metadata": {},
   "outputs": [],
   "source": [
    "classifier.add(Dense(1, activation = 'sigmoid',\n",
    "                    kernel_initializer = 'random_normal'))"
   ]
  },
  {
   "cell_type": "code",
   "execution_count": 58,
   "metadata": {},
   "outputs": [],
   "source": [
    "classifier.compile(optimizer = 'adam',\n",
    "                   loss = 'binary_crossentropy',\n",
    "                   metrics = ['accuracy'])"
   ]
  },
  {
   "cell_type": "code",
   "execution_count": 59,
   "metadata": {},
   "outputs": [
    {
     "name": "stdout",
     "output_type": "stream",
     "text": [
      "Epoch 1/100\n",
      "2125/2125 [==============================] - 1s 520us/step - loss: 0.6905 - accuracy: 0.5609\n",
      "Epoch 2/100\n",
      "2125/2125 [==============================] - 1s 269us/step - loss: 0.6876 - accuracy: 0.5609\n",
      "Epoch 3/100\n",
      "2125/2125 [==============================] - 1s 268us/step - loss: 0.6865 - accuracy: 0.5609\n",
      "Epoch 4/100\n",
      "2125/2125 [==============================] - 1s 268us/step - loss: 0.6861 - accuracy: 0.5609\n",
      "Epoch 5/100\n",
      "2125/2125 [==============================] - 1s 267us/step - loss: 0.6859 - accuracy: 0.5609\n",
      "Epoch 6/100\n",
      "2125/2125 [==============================] - 1s 267us/step - loss: 0.6858 - accuracy: 0.5609\n",
      "Epoch 7/100\n",
      "2125/2125 [==============================] - 1s 268us/step - loss: 0.6858 - accuracy: 0.5609\n",
      "Epoch 8/100\n",
      "2125/2125 [==============================] - 1s 267us/step - loss: 0.6858 - accuracy: 0.5609\n",
      "Epoch 9/100\n",
      "2125/2125 [==============================] - 1s 267us/step - loss: 0.6859 - accuracy: 0.5609\n",
      "Epoch 10/100\n",
      "2125/2125 [==============================] - 1s 268us/step - loss: 0.6858 - accuracy: 0.5609\n",
      "Epoch 11/100\n",
      "2125/2125 [==============================] - 1s 267us/step - loss: 0.6858 - accuracy: 0.5609\n",
      "Epoch 12/100\n",
      "2125/2125 [==============================] - 1s 268us/step - loss: 0.6858 - accuracy: 0.5609\n",
      "Epoch 13/100\n",
      "2125/2125 [==============================] - 1s 267us/step - loss: 0.6858 - accuracy: 0.5609\n",
      "Epoch 14/100\n",
      "2125/2125 [==============================] - 1s 269us/step - loss: 0.6858 - accuracy: 0.5609\n",
      "Epoch 15/100\n",
      "2125/2125 [==============================] - 1s 268us/step - loss: 0.6858 - accuracy: 0.5609\n",
      "Epoch 16/100\n",
      "2125/2125 [==============================] - 1s 268us/step - loss: 0.6858 - accuracy: 0.5609\n",
      "Epoch 17/100\n",
      "2125/2125 [==============================] - 1s 269us/step - loss: 0.6858 - accuracy: 0.5609\n",
      "Epoch 18/100\n",
      "2125/2125 [==============================] - 1s 269us/step - loss: 0.6858 - accuracy: 0.5609\n",
      "Epoch 19/100\n",
      "2125/2125 [==============================] - 1s 268us/step - loss: 0.6858 - accuracy: 0.5609\n",
      "Epoch 20/100\n",
      "2125/2125 [==============================] - 1s 269us/step - loss: 0.6858 - accuracy: 0.5609\n",
      "Epoch 21/100\n",
      "2125/2125 [==============================] - 1s 269us/step - loss: 0.6858 - accuracy: 0.5609\n",
      "Epoch 22/100\n",
      "2125/2125 [==============================] - 1s 268us/step - loss: 0.6858 - accuracy: 0.5609\n",
      "Epoch 23/100\n",
      "2125/2125 [==============================] - 1s 269us/step - loss: 0.6858 - accuracy: 0.5609\n",
      "Epoch 24/100\n",
      "2125/2125 [==============================] - 1s 271us/step - loss: 0.6858 - accuracy: 0.5609\n",
      "Epoch 25/100\n",
      "2125/2125 [==============================] - 1s 269us/step - loss: 0.6858 - accuracy: 0.5609\n",
      "Epoch 26/100\n",
      "2125/2125 [==============================] - 1s 272us/step - loss: 0.6858 - accuracy: 0.5609\n",
      "Epoch 27/100\n",
      "2125/2125 [==============================] - 1s 269us/step - loss: 0.6858 - accuracy: 0.5609\n",
      "Epoch 28/100\n",
      "2125/2125 [==============================] - 1s 271us/step - loss: 0.6858 - accuracy: 0.5609\n",
      "Epoch 29/100\n",
      "2125/2125 [==============================] - 1s 273us/step - loss: 0.6858 - accuracy: 0.5609\n",
      "Epoch 30/100\n",
      "2125/2125 [==============================] - 1s 272us/step - loss: 0.6858 - accuracy: 0.5609\n",
      "Epoch 31/100\n",
      "2125/2125 [==============================] - 1s 270us/step - loss: 0.6858 - accuracy: 0.5609\n",
      "Epoch 32/100\n",
      "2125/2125 [==============================] - 1s 270us/step - loss: 0.6858 - accuracy: 0.5609\n",
      "Epoch 33/100\n",
      "2125/2125 [==============================] - 1s 272us/step - loss: 0.6858 - accuracy: 0.5609\n",
      "Epoch 34/100\n",
      "2125/2125 [==============================] - 1s 273us/step - loss: 0.6858 - accuracy: 0.5609\n",
      "Epoch 35/100\n",
      "2125/2125 [==============================] - 1s 272us/step - loss: 0.6858 - accuracy: 0.5609\n",
      "Epoch 36/100\n",
      "2125/2125 [==============================] - 1s 271us/step - loss: 0.6858 - accuracy: 0.5609\n",
      "Epoch 37/100\n",
      "2125/2125 [==============================] - 1s 270us/step - loss: 0.6858 - accuracy: 0.5609\n",
      "Epoch 38/100\n",
      "2125/2125 [==============================] - 1s 271us/step - loss: 0.6858 - accuracy: 0.5609\n",
      "Epoch 39/100\n",
      "2125/2125 [==============================] - 1s 272us/step - loss: 0.6858 - accuracy: 0.5609\n",
      "Epoch 40/100\n",
      "2125/2125 [==============================] - 1s 273us/step - loss: 0.6858 - accuracy: 0.5609\n",
      "Epoch 41/100\n",
      "2125/2125 [==============================] - 1s 273us/step - loss: 0.6858 - accuracy: 0.5609\n",
      "Epoch 42/100\n",
      "2125/2125 [==============================] - 1s 272us/step - loss: 0.6858 - accuracy: 0.5609\n",
      "Epoch 43/100\n",
      "2125/2125 [==============================] - 1s 272us/step - loss: 0.6858 - accuracy: 0.5609\n",
      "Epoch 44/100\n",
      "2125/2125 [==============================] - 1s 273us/step - loss: 0.6858 - accuracy: 0.5609\n",
      "Epoch 45/100\n",
      "2125/2125 [==============================] - 1s 276us/step - loss: 0.6858 - accuracy: 0.5609\n",
      "Epoch 46/100\n",
      "2125/2125 [==============================] - 1s 289us/step - loss: 0.6858 - accuracy: 0.5609\n",
      "Epoch 47/100\n",
      "2125/2125 [==============================] - 1s 298us/step - loss: 0.6858 - accuracy: 0.5609\n",
      "Epoch 48/100\n",
      "2125/2125 [==============================] - 1s 292us/step - loss: 0.6858 - accuracy: 0.5609\n",
      "Epoch 49/100\n",
      "2125/2125 [==============================] - 1s 278us/step - loss: 0.6858 - accuracy: 0.5609\n",
      "Epoch 50/100\n",
      "2125/2125 [==============================] - 1s 280us/step - loss: 0.6858 - accuracy: 0.5609\n",
      "Epoch 51/100\n",
      "2125/2125 [==============================] - 1s 279us/step - loss: 0.6858 - accuracy: 0.5609\n",
      "Epoch 52/100\n",
      "2125/2125 [==============================] - 1s 280us/step - loss: 0.6858 - accuracy: 0.5609\n",
      "Epoch 53/100\n",
      "2125/2125 [==============================] - 1s 280us/step - loss: 0.6858 - accuracy: 0.5609\n",
      "Epoch 54/100\n",
      "2125/2125 [==============================] - 1s 281us/step - loss: 0.6858 - accuracy: 0.5609\n",
      "Epoch 55/100\n",
      "2125/2125 [==============================] - 1s 281us/step - loss: 0.6858 - accuracy: 0.5609\n",
      "Epoch 56/100\n",
      "2125/2125 [==============================] - 1s 281us/step - loss: 0.6858 - accuracy: 0.5609\n",
      "Epoch 57/100\n",
      "2125/2125 [==============================] - 1s 281us/step - loss: 0.6858 - accuracy: 0.5609\n",
      "Epoch 58/100\n",
      "2125/2125 [==============================] - 1s 282us/step - loss: 0.6858 - accuracy: 0.5609\n",
      "Epoch 59/100\n",
      "2125/2125 [==============================] - 1s 281us/step - loss: 0.6858 - accuracy: 0.5609\n",
      "Epoch 60/100\n",
      "2125/2125 [==============================] - 1s 284us/step - loss: 0.6858 - accuracy: 0.5609\n",
      "Epoch 61/100\n",
      "2125/2125 [==============================] - 1s 283us/step - loss: 0.6858 - accuracy: 0.5609\n",
      "Epoch 62/100\n",
      "2125/2125 [==============================] - 1s 282us/step - loss: 0.6858 - accuracy: 0.5609\n",
      "Epoch 63/100\n",
      "2125/2125 [==============================] - 1s 283us/step - loss: 0.6858 - accuracy: 0.5609\n",
      "Epoch 64/100\n",
      "2125/2125 [==============================] - 1s 282us/step - loss: 0.6858 - accuracy: 0.5609\n",
      "Epoch 65/100\n",
      "2125/2125 [==============================] - 1s 282us/step - loss: 0.6858 - accuracy: 0.5609\n",
      "Epoch 66/100\n",
      "2125/2125 [==============================] - 1s 283us/step - loss: 0.6858 - accuracy: 0.5609\n",
      "Epoch 67/100\n",
      "2125/2125 [==============================] - 1s 281us/step - loss: 0.6858 - accuracy: 0.5609\n",
      "Epoch 68/100\n",
      "2125/2125 [==============================] - 1s 283us/step - loss: 0.6858 - accuracy: 0.5609\n",
      "Epoch 69/100\n",
      "2125/2125 [==============================] - 1s 282us/step - loss: 0.6858 - accuracy: 0.5609\n",
      "Epoch 70/100\n",
      "2125/2125 [==============================] - 1s 284us/step - loss: 0.6858 - accuracy: 0.5609\n",
      "Epoch 71/100\n",
      "2125/2125 [==============================] - 1s 283us/step - loss: 0.6858 - accuracy: 0.5609\n",
      "Epoch 72/100\n",
      "2125/2125 [==============================] - 1s 283us/step - loss: 0.6858 - accuracy: 0.5609\n",
      "Epoch 73/100\n",
      "2125/2125 [==============================] - 1s 283us/step - loss: 0.6858 - accuracy: 0.5609\n",
      "Epoch 74/100\n",
      "2125/2125 [==============================] - 1s 281us/step - loss: 0.6858 - accuracy: 0.5609\n",
      "Epoch 75/100\n",
      "2125/2125 [==============================] - 1s 283us/step - loss: 0.6858 - accuracy: 0.5609\n",
      "Epoch 76/100\n",
      "2125/2125 [==============================] - 1s 282us/step - loss: 0.6858 - accuracy: 0.5609\n",
      "Epoch 77/100\n",
      "2125/2125 [==============================] - 1s 283us/step - loss: 0.6858 - accuracy: 0.5609\n",
      "Epoch 78/100\n",
      "2125/2125 [==============================] - 1s 280us/step - loss: 0.6858 - accuracy: 0.5609\n",
      "Epoch 79/100\n",
      "2125/2125 [==============================] - 1s 280us/step - loss: 0.6858 - accuracy: 0.5609\n",
      "Epoch 80/100\n",
      "2125/2125 [==============================] - 1s 279us/step - loss: 0.6858 - accuracy: 0.5609\n",
      "Epoch 81/100\n",
      "2125/2125 [==============================] - 1s 280us/step - loss: 0.6858 - accuracy: 0.5609\n",
      "Epoch 82/100\n",
      "2125/2125 [==============================] - 1s 280us/step - loss: 0.6858 - accuracy: 0.5609\n",
      "Epoch 83/100\n",
      "2125/2125 [==============================] - 1s 280us/step - loss: 0.6858 - accuracy: 0.5609\n",
      "Epoch 84/100\n",
      "2125/2125 [==============================] - 1s 280us/step - loss: 0.6858 - accuracy: 0.5609\n",
      "Epoch 85/100\n",
      "2125/2125 [==============================] - 1s 280us/step - loss: 0.6858 - accuracy: 0.5609\n",
      "Epoch 86/100\n",
      "2125/2125 [==============================] - 1s 281us/step - loss: 0.6858 - accuracy: 0.5609\n",
      "Epoch 87/100\n",
      "2125/2125 [==============================] - 1s 282us/step - loss: 0.6858 - accuracy: 0.5609\n",
      "Epoch 88/100\n",
      "2125/2125 [==============================] - 1s 281us/step - loss: 0.6858 - accuracy: 0.5609\n",
      "Epoch 89/100\n",
      "2125/2125 [==============================] - 1s 283us/step - loss: 0.6858 - accuracy: 0.5609\n",
      "Epoch 90/100\n",
      "2125/2125 [==============================] - 1s 280us/step - loss: 0.6858 - accuracy: 0.5609\n",
      "Epoch 91/100\n",
      "2125/2125 [==============================] - 1s 281us/step - loss: 0.6858 - accuracy: 0.5609\n",
      "Epoch 92/100\n",
      "2125/2125 [==============================] - 1s 281us/step - loss: 0.6858 - accuracy: 0.5609\n",
      "Epoch 93/100\n",
      "2125/2125 [==============================] - 1s 280us/step - loss: 0.6858 - accuracy: 0.5609\n",
      "Epoch 94/100\n",
      "2125/2125 [==============================] - 1s 280us/step - loss: 0.6858 - accuracy: 0.5609\n",
      "Epoch 95/100\n",
      "2125/2125 [==============================] - 1s 281us/step - loss: 0.6858 - accuracy: 0.5609\n",
      "Epoch 96/100\n",
      "2125/2125 [==============================] - 1s 281us/step - loss: 0.6858 - accuracy: 0.5609\n",
      "Epoch 97/100\n",
      "2125/2125 [==============================] - 1s 279us/step - loss: 0.6858 - accuracy: 0.5609\n",
      "Epoch 98/100\n",
      "2125/2125 [==============================] - 1s 281us/step - loss: 0.6858 - accuracy: 0.5609\n",
      "Epoch 99/100\n",
      "2125/2125 [==============================] - 1s 281us/step - loss: 0.6858 - accuracy: 0.5609\n",
      "Epoch 100/100\n",
      "2125/2125 [==============================] - 1s 280us/step - loss: 0.6858 - accuracy: 0.5609\n"
     ]
    },
    {
     "data": {
      "text/plain": [
       "<keras.callbacks.callbacks.History at 0x7ff9301e3710>"
      ]
     },
     "execution_count": 59,
     "metadata": {},
     "output_type": "execute_result"
    }
   ],
   "source": [
    "classifier.fit(x_train, y_train, batch_size = 5, epochs = 100)"
   ]
  },
  {
   "cell_type": "code",
   "execution_count": 60,
   "metadata": {},
   "outputs": [
    {
     "name": "stdout",
     "output_type": "stream",
     "text": [
      "2125/2125 [==============================] - 0s 57us/step\n"
     ]
    }
   ],
   "source": [
    "model_eval = classifier.evaluate(x_train, y_train)"
   ]
  },
  {
   "cell_type": "code",
   "execution_count": 61,
   "metadata": {},
   "outputs": [
    {
     "name": "stdout",
     "output_type": "stream",
     "text": [
      "2125/2125 [==============================] - 0s 17us/step\n",
      "Accuracy on training set :  0.5609411597251892\n",
      "\n",
      "2125/2125 [==============================] - 0s 16us/step\n",
      "Accuracy on Testing set :  0.6857011385244481\n"
     ]
    }
   ],
   "source": [
    "print('Accuracy on training set : ', \n",
    "      classifier.evaluate(x_train, y_train)[1])\n",
    "print()\n",
    "print('Accuracy on Testing set : ', \n",
    "      classifier.evaluate(x_train, y_train)[0])"
   ]
  },
  {
   "cell_type": "code",
   "execution_count": 62,
   "metadata": {},
   "outputs": [],
   "source": [
    "y_pred = classifier.predict(x_test)"
   ]
  },
  {
   "cell_type": "code",
   "execution_count": 63,
   "metadata": {},
   "outputs": [],
   "source": [
    "y_pred = [1 if i > 0.5 else 0 for i in y_pred]"
   ]
  },
  {
   "cell_type": "code",
   "execution_count": 64,
   "metadata": {},
   "outputs": [
    {
     "name": "stdout",
     "output_type": "stream",
     "text": [
      "Confusion Matrix : \n",
      "[[524   0]\n",
      " [387   0]]\n"
     ]
    }
   ],
   "source": [
    "print('Confusion Matrix : ')\n",
    "print(confusion_matrix(y_test, y_pred))"
   ]
  },
  {
   "cell_type": "code",
   "execution_count": 69,
   "metadata": {},
   "outputs": [
    {
     "data": {
      "text/html": [
       "<div>\n",
       "<style scoped>\n",
       "    .dataframe tbody tr th:only-of-type {\n",
       "        vertical-align: middle;\n",
       "    }\n",
       "\n",
       "    .dataframe tbody tr th {\n",
       "        vertical-align: top;\n",
       "    }\n",
       "\n",
       "    .dataframe thead th {\n",
       "        text-align: right;\n",
       "    }\n",
       "</style>\n",
       "<table border=\"1\" class=\"dataframe\">\n",
       "  <thead>\n",
       "    <tr style=\"text-align: right;\">\n",
       "      <th></th>\n",
       "      <th>Patient_id</th>\n",
       "      <th>Slice_id</th>\n",
       "      <th>Angles</th>\n",
       "      <th>Distance</th>\n",
       "      <th>Contrast</th>\n",
       "      <th>Dissimilarities</th>\n",
       "      <th>Homogeneity</th>\n",
       "      <th>ASM</th>\n",
       "      <th>Energy</th>\n",
       "      <th>Correlation</th>\n",
       "      <th>Entropy</th>\n",
       "    </tr>\n",
       "  </thead>\n",
       "  <tbody>\n",
       "    <tr>\n",
       "      <td>0</td>\n",
       "      <td>1.0</td>\n",
       "      <td>1.0</td>\n",
       "      <td>0.0</td>\n",
       "      <td>1.0</td>\n",
       "      <td>4064.928018</td>\n",
       "      <td>37.291161</td>\n",
       "      <td>0.230484</td>\n",
       "      <td>0.041462</td>\n",
       "      <td>0.203623</td>\n",
       "      <td>0.547081</td>\n",
       "      <td>6.711178</td>\n",
       "    </tr>\n",
       "    <tr>\n",
       "      <td>1</td>\n",
       "      <td>1.0</td>\n",
       "      <td>1.0</td>\n",
       "      <td>45.0</td>\n",
       "      <td>1.0</td>\n",
       "      <td>4440.675110</td>\n",
       "      <td>39.541330</td>\n",
       "      <td>0.230108</td>\n",
       "      <td>0.039953</td>\n",
       "      <td>0.199882</td>\n",
       "      <td>0.506535</td>\n",
       "      <td>6.711178</td>\n",
       "    </tr>\n",
       "    <tr>\n",
       "      <td>2</td>\n",
       "      <td>1.0</td>\n",
       "      <td>1.0</td>\n",
       "      <td>90.0</td>\n",
       "      <td>1.0</td>\n",
       "      <td>4335.002512</td>\n",
       "      <td>39.222794</td>\n",
       "      <td>0.232505</td>\n",
       "      <td>0.041465</td>\n",
       "      <td>0.203630</td>\n",
       "      <td>0.516879</td>\n",
       "      <td>6.711178</td>\n",
       "    </tr>\n",
       "    <tr>\n",
       "      <td>3</td>\n",
       "      <td>1.0</td>\n",
       "      <td>1.0</td>\n",
       "      <td>135.0</td>\n",
       "      <td>1.0</td>\n",
       "      <td>4424.382514</td>\n",
       "      <td>39.475755</td>\n",
       "      <td>0.229090</td>\n",
       "      <td>0.039934</td>\n",
       "      <td>0.199836</td>\n",
       "      <td>0.508345</td>\n",
       "      <td>6.711178</td>\n",
       "    </tr>\n",
       "    <tr>\n",
       "      <td>4</td>\n",
       "      <td>1.0</td>\n",
       "      <td>1.0</td>\n",
       "      <td>0.0</td>\n",
       "      <td>2.0</td>\n",
       "      <td>4347.037755</td>\n",
       "      <td>38.815591</td>\n",
       "      <td>0.228018</td>\n",
       "      <td>0.039246</td>\n",
       "      <td>0.198105</td>\n",
       "      <td>0.516992</td>\n",
       "      <td>6.711178</td>\n",
       "    </tr>\n",
       "    <tr>\n",
       "      <td>...</td>\n",
       "      <td>...</td>\n",
       "      <td>...</td>\n",
       "      <td>...</td>\n",
       "      <td>...</td>\n",
       "      <td>...</td>\n",
       "      <td>...</td>\n",
       "      <td>...</td>\n",
       "      <td>...</td>\n",
       "      <td>...</td>\n",
       "      <td>...</td>\n",
       "      <td>...</td>\n",
       "    </tr>\n",
       "    <tr>\n",
       "      <td>1315</td>\n",
       "      <td>4.0</td>\n",
       "      <td>58.0</td>\n",
       "      <td>135.0</td>\n",
       "      <td>2.0</td>\n",
       "      <td>4306.086736</td>\n",
       "      <td>40.169719</td>\n",
       "      <td>0.223799</td>\n",
       "      <td>0.039942</td>\n",
       "      <td>0.199855</td>\n",
       "      <td>0.386690</td>\n",
       "      <td>6.728915</td>\n",
       "    </tr>\n",
       "    <tr>\n",
       "      <td>1316</td>\n",
       "      <td>4.0</td>\n",
       "      <td>58.0</td>\n",
       "      <td>0.0</td>\n",
       "      <td>3.0</td>\n",
       "      <td>4531.744395</td>\n",
       "      <td>41.587373</td>\n",
       "      <td>0.216778</td>\n",
       "      <td>0.037082</td>\n",
       "      <td>0.192568</td>\n",
       "      <td>0.356141</td>\n",
       "      <td>6.728915</td>\n",
       "    </tr>\n",
       "    <tr>\n",
       "      <td>1317</td>\n",
       "      <td>4.0</td>\n",
       "      <td>58.0</td>\n",
       "      <td>45.0</td>\n",
       "      <td>3.0</td>\n",
       "      <td>4853.396863</td>\n",
       "      <td>43.779125</td>\n",
       "      <td>0.213272</td>\n",
       "      <td>0.036377</td>\n",
       "      <td>0.190728</td>\n",
       "      <td>0.312494</td>\n",
       "      <td>6.728915</td>\n",
       "    </tr>\n",
       "    <tr>\n",
       "      <td>1318</td>\n",
       "      <td>4.0</td>\n",
       "      <td>58.0</td>\n",
       "      <td>90.0</td>\n",
       "      <td>3.0</td>\n",
       "      <td>4893.647002</td>\n",
       "      <td>44.080086</td>\n",
       "      <td>0.214821</td>\n",
       "      <td>0.037164</td>\n",
       "      <td>0.192779</td>\n",
       "      <td>0.304897</td>\n",
       "      <td>6.728915</td>\n",
       "    </tr>\n",
       "    <tr>\n",
       "      <td>1319</td>\n",
       "      <td>4.0</td>\n",
       "      <td>58.0</td>\n",
       "      <td>135.0</td>\n",
       "      <td>3.0</td>\n",
       "      <td>4796.160456</td>\n",
       "      <td>43.302499</td>\n",
       "      <td>0.214064</td>\n",
       "      <td>0.036407</td>\n",
       "      <td>0.190807</td>\n",
       "      <td>0.320601</td>\n",
       "      <td>6.728915</td>\n",
       "    </tr>\n",
       "  </tbody>\n",
       "</table>\n",
       "<p>1320 rows × 11 columns</p>\n",
       "</div>"
      ],
      "text/plain": [
       "      Patient_id  Slice_id  Angles  Distance     Contrast  Dissimilarities  \\\n",
       "0            1.0       1.0     0.0       1.0  4064.928018        37.291161   \n",
       "1            1.0       1.0    45.0       1.0  4440.675110        39.541330   \n",
       "2            1.0       1.0    90.0       1.0  4335.002512        39.222794   \n",
       "3            1.0       1.0   135.0       1.0  4424.382514        39.475755   \n",
       "4            1.0       1.0     0.0       2.0  4347.037755        38.815591   \n",
       "...          ...       ...     ...       ...          ...              ...   \n",
       "1315         4.0      58.0   135.0       2.0  4306.086736        40.169719   \n",
       "1316         4.0      58.0     0.0       3.0  4531.744395        41.587373   \n",
       "1317         4.0      58.0    45.0       3.0  4853.396863        43.779125   \n",
       "1318         4.0      58.0    90.0       3.0  4893.647002        44.080086   \n",
       "1319         4.0      58.0   135.0       3.0  4796.160456        43.302499   \n",
       "\n",
       "      Homogeneity       ASM    Energy  Correlation   Entropy  \n",
       "0        0.230484  0.041462  0.203623     0.547081  6.711178  \n",
       "1        0.230108  0.039953  0.199882     0.506535  6.711178  \n",
       "2        0.232505  0.041465  0.203630     0.516879  6.711178  \n",
       "3        0.229090  0.039934  0.199836     0.508345  6.711178  \n",
       "4        0.228018  0.039246  0.198105     0.516992  6.711178  \n",
       "...           ...       ...       ...          ...       ...  \n",
       "1315     0.223799  0.039942  0.199855     0.386690  6.728915  \n",
       "1316     0.216778  0.037082  0.192568     0.356141  6.728915  \n",
       "1317     0.213272  0.036377  0.190728     0.312494  6.728915  \n",
       "1318     0.214821  0.037164  0.192779     0.304897  6.728915  \n",
       "1319     0.214064  0.036407  0.190807     0.320601  6.728915  \n",
       "\n",
       "[1320 rows x 11 columns]"
      ]
     },
     "metadata": {},
     "output_type": "display_data"
    }
   ],
   "source": [
    "display(fts)"
   ]
  },
  {
   "cell_type": "code",
   "execution_count": 68,
   "metadata": {},
   "outputs": [],
   "source": [
    "fts = pd.read_csv('/Users/rt/Desktop/FullTrueSet.csv')"
   ]
  },
  {
   "cell_type": "code",
   "execution_count": 70,
   "metadata": {},
   "outputs": [],
   "source": [
    "fts.drop(columns = ['Patient_id', 'Slice_id', 'Angles', 'Distance', 'ASM'], inplace = True)"
   ]
  },
  {
   "cell_type": "code",
   "execution_count": 72,
   "metadata": {},
   "outputs": [],
   "source": [
    "fts['Cancer'] = 1"
   ]
  },
  {
   "cell_type": "code",
   "execution_count": 74,
   "metadata": {},
   "outputs": [],
   "source": [
    "y = fts['Cancer']\n",
    "fts.drop(columns = ['Cancer'], inplace = True)"
   ]
  },
  {
   "cell_type": "code",
   "execution_count": null,
   "metadata": {},
   "outputs": [],
   "source": []
  },
  {
   "cell_type": "code",
   "execution_count": null,
   "metadata": {},
   "outputs": [],
   "source": []
  }
 ],
 "metadata": {
  "kernelspec": {
   "display_name": "Python 3 (ipykernel)",
   "language": "python",
   "name": "python3"
  },
  "language_info": {
   "codemirror_mode": {
    "name": "ipython",
    "version": 3
   },
   "file_extension": ".py",
   "mimetype": "text/x-python",
   "name": "python",
   "nbconvert_exporter": "python",
   "pygments_lexer": "ipython3",
   "version": "3.7.13"
  },
  "toc": {
   "base_numbering": 1,
   "nav_menu": {},
   "number_sections": true,
   "sideBar": false,
   "skip_h1_title": false,
   "title_cell": "Table of Contents",
   "title_sidebar": "Contents",
   "toc_cell": true,
   "toc_position": {},
   "toc_section_display": true,
   "toc_window_display": false
  }
 },
 "nbformat": 4,
 "nbformat_minor": 4
}
