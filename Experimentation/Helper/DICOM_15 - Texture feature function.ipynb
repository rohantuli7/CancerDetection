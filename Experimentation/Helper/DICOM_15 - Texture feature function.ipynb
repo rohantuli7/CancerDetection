{
 "cells": [
  {
   "cell_type": "markdown",
   "metadata": {
    "toc": true
   },
   "source": [
    "<h1>Table of Contents<span class=\"tocSkip\"></span></h1>\n",
    "<div class=\"toc\"><ul class=\"toc-item\"></ul></div>"
   ]
  },
  {
   "cell_type": "code",
   "execution_count": 151,
   "metadata": {},
   "outputs": [],
   "source": [
    "import numpy as np\n",
    "import pydicom\n",
    "import matplotlib.pyplot as plt\n",
    "import math\n",
    "import pandas as pd\n",
    "from skimage.feature import greycomatrix\n",
    "from skimage.feature import greycoprops\n",
    "from skimage.measure import shannon_entropy\n",
    "import pandas as pd\n",
    "import os\n",
    "\n",
    "from skimage.feature import greycomatrix as gray\n",
    "from skimage.feature import greycoprops as props"
   ]
  },
  {
   "cell_type": "code",
   "execution_count": 152,
   "metadata": {},
   "outputs": [],
   "source": [
    "#For this function, pass the original image without normalization\n",
    "def calc_entropy(img):\n",
    "    image_size = img.size\n",
    "    values_count = []\n",
    "    for i in range(np.min(img), np.max(img) + 1):\n",
    "        occurrences = np.count_nonzero(img == i)\n",
    "        values_count.append(occurrences)\n",
    "    values_count = [i/image_size for i in values_count]\n",
    "    s = 0\n",
    "    for i in values_count:\n",
    "        if i == 0:\n",
    "            pass\n",
    "        else:\n",
    "            s = -1*i*math.log2(i) + s\n",
    "    return s"
   ]
  },
  {
   "cell_type": "code",
   "execution_count": 153,
   "metadata": {},
   "outputs": [],
   "source": [
    "#pass the image and the distance for glcm creation\n",
    "def graycomatrix(img, distance):\n",
    "    max_val = np.amax(img)\n",
    "    min_val = np.amin(img)\n",
    "    img = img + min_val*-1\n",
    "    rows = img.shape[0]\n",
    "    cols = img.shape[1]\n",
    "    max_val = np.amax(img)\n",
    "    min_val = np.amin(img)\n",
    "    size_glcm = 0\n",
    "    if min_val == 0:\n",
    "        size_glcm = max_val + 1\n",
    "    elif min_val < 0:\n",
    "        size_glcm = max_val + 1 + min_val*-1\n",
    "    else:\n",
    "        size_glcm = max_val\n",
    "    glcm = np.zeros((size_glcm, size_glcm))\n",
    "    f = img.flatten()\n",
    "    l = len(f)\n",
    "    c = -1\n",
    "    while(c < l-1):\n",
    "        c += 1\n",
    "        if c%cols >= cols-distance:\n",
    "            pass\n",
    "        else:\n",
    "            glcm[f[c]][f[c + distance]]+= 1\n",
    "    glcm = glcm/(np.apply_over_axes(np.sum, glcm, axes = (0, 1)))\n",
    "    return glcm"
   ]
  },
  {
   "cell_type": "code",
   "execution_count": 154,
   "metadata": {},
   "outputs": [],
   "source": [
    "def graycoprops(glcm):\n",
    "    levels = glcm.shape[0]\n",
    "    I, J = np.ogrid[0:levels, 0:levels]\n",
    "    \n",
    "    contrast_weights = (I - J) ** 2\n",
    "    \n",
    "    dissimilarity_weights = np.abs(I - J)\n",
    "    \n",
    "    homogeneity_weights = 1. / (1. + (I - J) ** 2)\n",
    "    \n",
    "    diff_i = I - np.apply_over_axes(np.sum, (I*glcm), axes = (0,1))[0, 0]\n",
    "    diff_j = J - np.apply_over_axes(np.sum, (J*glcm), axes = (0,1))[0, 0]\n",
    "    std_i = np.sqrt(np.apply_over_axes(np.sum, (glcm * (diff_i) ** 2),\n",
    "                                           axes=(0, 1))[0, 0])\n",
    "    std_j = np.sqrt(np.apply_over_axes(np.sum, (glcm * (diff_j) ** 2),\n",
    "                                           axes=(0, 1))[0, 0])\n",
    "    cov = np.apply_over_axes(np.sum, (glcm * (diff_i * diff_j)),\n",
    "                                 axes=(0, 1))[0, 0]\n",
    "    \n",
    "    correlation = cov / (std_i * std_j)\n",
    "    \n",
    "    #Angular Second Moment\n",
    "    asm = np.apply_over_axes(np.sum, (glcm ** 2), axes = (0, 1))[0, 0]\n",
    "    \n",
    "    #Energy\n",
    "    energy = np.sqrt(asm)\n",
    "    \n",
    "    #Contrast\n",
    "    contrast = np.apply_over_axes(np.sum, (glcm*contrast_weights), \n",
    "                                  axes = (0,1))[0][0]\n",
    "    \n",
    "    #Dissimilarity\n",
    "    dissimilarity = np.apply_over_axes(np.sum, (glcm*dissimilarity_weights), \n",
    "                                  axes = (0,1))[0][0]\n",
    "    \n",
    "    #Homogeneity\n",
    "    homogeneity = np.apply_over_axes(np.sum, (glcm*homogeneity_weights), \n",
    "                                  axes = (0,1))[0][0]\n",
    "    \n",
    "    return asm, energy, contrast, dissimilarity, homogeneity, correlation"
   ]
  },
  {
   "cell_type": "code",
   "execution_count": 155,
   "metadata": {},
   "outputs": [],
   "source": [
    "dicom = pydicom.dcmread('/Users/rt/Desktop/College/Cancer Project/dicom/2/FATTU SHANKAR MAHALE/Z342')\n",
    "img = dicom.pixel_array"
   ]
  },
  {
   "cell_type": "code",
   "execution_count": 156,
   "metadata": {},
   "outputs": [],
   "source": [
    "glcm = graycomatrix(img, 1)"
   ]
  },
  {
   "cell_type": "code",
   "execution_count": 7,
   "metadata": {},
   "outputs": [],
   "source": [
    "asm, energy, contrast, dissimilarity, homogeneity, correlation = graycoprops(glcm)"
   ]
  },
  {
   "cell_type": "code",
   "execution_count": 8,
   "metadata": {},
   "outputs": [
    {
     "name": "stdout",
     "output_type": "stream",
     "text": [
      "ASM = 0.044642321462772666 \n",
      "Energy = 0.2112872960278792 \n",
      "Contrast = 17434.552463001466 \n",
      "Dissimilarity = 21.10976486056751 \n",
      "Homogeneity = 0.3319213087125058 \n",
      "Correlation = 0.9906727277194525\n"
     ]
    }
   ],
   "source": [
    "print(f'ASM = {asm} \\nEnergy = {energy} \\nContrast = {contrast} \\nDissimilarity = {dissimilarity} \\nHomogeneity = {homogeneity} \\nCorrelation = {correlation}')"
   ]
  },
  {
   "cell_type": "code",
   "execution_count": null,
   "metadata": {},
   "outputs": [],
   "source": []
  },
  {
   "cell_type": "code",
   "execution_count": null,
   "metadata": {},
   "outputs": [],
   "source": []
  },
  {
   "cell_type": "code",
   "execution_count": null,
   "metadata": {},
   "outputs": [],
   "source": []
  }
 ],
 "metadata": {
  "kernelspec": {
   "display_name": "Python 3 (ipykernel)",
   "language": "python",
   "name": "python3"
  },
  "language_info": {
   "codemirror_mode": {
    "name": "ipython",
    "version": 3
   },
   "file_extension": ".py",
   "mimetype": "text/x-python",
   "name": "python",
   "nbconvert_exporter": "python",
   "pygments_lexer": "ipython3",
   "version": "3.7.13"
  },
  "toc": {
   "base_numbering": 1,
   "nav_menu": {},
   "number_sections": true,
   "sideBar": false,
   "skip_h1_title": false,
   "title_cell": "Table of Contents",
   "title_sidebar": "Contents",
   "toc_cell": true,
   "toc_position": {},
   "toc_section_display": true,
   "toc_window_display": false
  }
 },
 "nbformat": 4,
 "nbformat_minor": 4
}
