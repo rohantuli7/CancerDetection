{
 "cells": [
  {
   "cell_type": "markdown",
   "metadata": {
    "toc": true
   },
   "source": [
    "<h1>Table of Contents<span class=\"tocSkip\"></span></h1>\n",
    "<div class=\"toc\"><ul class=\"toc-item\"><li><span><a href=\"#Data-Preprocessing\" data-toc-modified-id=\"Data-Preprocessing-1\"><span class=\"toc-item-num\">1&nbsp;&nbsp;</span>Data Preprocessing</a></span></li><li><span><a href=\"#Scaling-of-values\" data-toc-modified-id=\"Scaling-of-values-2\"><span class=\"toc-item-num\">2&nbsp;&nbsp;</span>Scaling of values</a></span></li><li><span><a href=\"#Data-Visualization\" data-toc-modified-id=\"Data-Visualization-3\"><span class=\"toc-item-num\">3&nbsp;&nbsp;</span>Data Visualization</a></span></li><li><span><a href=\"#Neural-network\" data-toc-modified-id=\"Neural-network-4\"><span class=\"toc-item-num\">4&nbsp;&nbsp;</span>Neural network</a></span><ul class=\"toc-item\"><li><span><a href=\"#Model---1\" data-toc-modified-id=\"Model---1-4.1\"><span class=\"toc-item-num\">4.1&nbsp;&nbsp;</span>Model - 1</a></span><ul class=\"toc-item\"><li><span><a href=\"#Batch-size-=-6\" data-toc-modified-id=\"Batch-size-=-6-4.1.1\"><span class=\"toc-item-num\">4.1.1&nbsp;&nbsp;</span>Batch size = 6</a></span></li><li><span><a href=\"#Batch-size-=-2\" data-toc-modified-id=\"Batch-size-=-2-4.1.2\"><span class=\"toc-item-num\">4.1.2&nbsp;&nbsp;</span>Batch size = 2</a></span></li></ul></li><li><span><a href=\"#Model---2\" data-toc-modified-id=\"Model---2-4.2\"><span class=\"toc-item-num\">4.2&nbsp;&nbsp;</span>Model - 2</a></span><ul class=\"toc-item\"><li><span><a href=\"#Batch-size-=-6\" data-toc-modified-id=\"Batch-size-=-6-4.2.1\"><span class=\"toc-item-num\">4.2.1&nbsp;&nbsp;</span>Batch size = 6</a></span></li><li><span><a href=\"#Batch-size-=-2\" data-toc-modified-id=\"Batch-size-=-2-4.2.2\"><span class=\"toc-item-num\">4.2.2&nbsp;&nbsp;</span>Batch size = 2</a></span></li></ul></li><li><span><a href=\"#Model---3\" data-toc-modified-id=\"Model---3-4.3\"><span class=\"toc-item-num\">4.3&nbsp;&nbsp;</span>Model - 3</a></span><ul class=\"toc-item\"><li><span><a href=\"#Batch-size-=-6\" data-toc-modified-id=\"Batch-size-=-6-4.3.1\"><span class=\"toc-item-num\">4.3.1&nbsp;&nbsp;</span>Batch size = 6</a></span></li><li><span><a href=\"#Batch-size-=-2\" data-toc-modified-id=\"Batch-size-=-2-4.3.2\"><span class=\"toc-item-num\">4.3.2&nbsp;&nbsp;</span>Batch size = 2</a></span></li></ul></li><li><span><a href=\"#Model---4\" data-toc-modified-id=\"Model---4-4.4\"><span class=\"toc-item-num\">4.4&nbsp;&nbsp;</span>Model - 4</a></span><ul class=\"toc-item\"><li><span><a href=\"#Batch-size-=-6\" data-toc-modified-id=\"Batch-size-=-6-4.4.1\"><span class=\"toc-item-num\">4.4.1&nbsp;&nbsp;</span>Batch size = 6</a></span></li><li><span><a href=\"#Batch-size-=-2\" data-toc-modified-id=\"Batch-size-=-2-4.4.2\"><span class=\"toc-item-num\">4.4.2&nbsp;&nbsp;</span>Batch size = 2</a></span></li></ul></li><li><span><a href=\"#Model---5\" data-toc-modified-id=\"Model---5-4.5\"><span class=\"toc-item-num\">4.5&nbsp;&nbsp;</span>Model - 5</a></span><ul class=\"toc-item\"><li><span><a href=\"#Batch-size-=-6\" data-toc-modified-id=\"Batch-size-=-6-4.5.1\"><span class=\"toc-item-num\">4.5.1&nbsp;&nbsp;</span>Batch size = 6</a></span></li><li><span><a href=\"#Batch-size-=-2\" data-toc-modified-id=\"Batch-size-=-2-4.5.2\"><span class=\"toc-item-num\">4.5.2&nbsp;&nbsp;</span>Batch size = 2</a></span></li></ul></li><li><span><a href=\"#Model---6\" data-toc-modified-id=\"Model---6-4.6\"><span class=\"toc-item-num\">4.6&nbsp;&nbsp;</span>Model - 6</a></span><ul class=\"toc-item\"><li><span><a href=\"#Batch-size-=-6\" data-toc-modified-id=\"Batch-size-=-6-4.6.1\"><span class=\"toc-item-num\">4.6.1&nbsp;&nbsp;</span>Batch size = 6</a></span></li><li><span><a href=\"#Batch-size-=-2\" data-toc-modified-id=\"Batch-size-=-2-4.6.2\"><span class=\"toc-item-num\">4.6.2&nbsp;&nbsp;</span>Batch size = 2</a></span></li></ul></li></ul></li></ul></div>"
   ]
  },
  {
   "cell_type": "code",
   "execution_count": 1,
   "metadata": {},
   "outputs": [],
   "source": [
    "import pandas as pd\n",
    "import numpy as np\n",
    "import tensorflow as tf\n",
    "import cv2 as cv\n",
    "import matplotlib.pyplot as plt\n",
    "from sklearn import linear_model\n",
    "from sklearn.preprocessing import PolynomialFeatures\n",
    "import pydicom\n",
    "from sklearn.metrics import roc_auc_score\n",
    "from copy import deepcopy\n",
    "from sklearn.utils import shuffle\n",
    "from sklearn.linear_model import LogisticRegression\n",
    "from sklearn.metrics import classification_report, confusion_matrix\n",
    "from sklearn.model_selection import train_test_split\n",
    "from sklearn.tree import DecisionTreeClassifier\n",
    "from sklearn import tree\n",
    "from sklearn.ensemble import RandomForestClassifier\n",
    "from sklearn.preprocessing import StandardScaler\n",
    "from sklearn.preprocessing import MinMaxScaler\n",
    "from tensorflow.keras import Sequential\n",
    "from tensorflow.keras.layers import Dense\n",
    "import tensorflow as tf\n",
    "import seaborn as sns\n",
    "import os\n",
    "os.environ['KMP_DUPLICATE_LIB_OK']='True'\n",
    "from statistics import mode\n",
    "from tensorflow.keras.losses import MeanSquaredError\n",
    "tf.compat.v1.logging.set_verbosity(tf.compat.v1.logging.ERROR)"
   ]
  },
  {
   "cell_type": "markdown",
   "metadata": {},
   "source": [
    "# Data Preprocessing"
   ]
  },
  {
   "cell_type": "code",
   "execution_count": 2,
   "metadata": {},
   "outputs": [],
   "source": [
    "df = pd.read_csv('/Users/rt/Desktop/College/Cancer Project/data/dataset_training.csv')"
   ]
  },
  {
   "cell_type": "code",
   "execution_count": 3,
   "metadata": {},
   "outputs": [],
   "source": [
    "y = df['Status']\n",
    "df.drop(columns = ['Patient', 'Slice no', 'Distance', 'Status', 'Unnamed: 0'], inplace = True)"
   ]
  },
  {
   "cell_type": "code",
   "execution_count": 4,
   "metadata": {},
   "outputs": [
    {
     "data": {
      "text/html": [
       "<div>\n",
       "<style scoped>\n",
       "    .dataframe tbody tr th:only-of-type {\n",
       "        vertical-align: middle;\n",
       "    }\n",
       "\n",
       "    .dataframe tbody tr th {\n",
       "        vertical-align: top;\n",
       "    }\n",
       "\n",
       "    .dataframe thead th {\n",
       "        text-align: right;\n",
       "    }\n",
       "</style>\n",
       "<table border=\"1\" class=\"dataframe\">\n",
       "  <thead>\n",
       "    <tr style=\"text-align: right;\">\n",
       "      <th></th>\n",
       "      <th>ASM</th>\n",
       "      <th>Energy</th>\n",
       "      <th>Contrast</th>\n",
       "      <th>Dissimilarity</th>\n",
       "      <th>Homogeneity</th>\n",
       "      <th>Correlation</th>\n",
       "      <th>Entropy</th>\n",
       "    </tr>\n",
       "  </thead>\n",
       "  <tbody>\n",
       "    <tr>\n",
       "      <td>0</td>\n",
       "      <td>0.000338</td>\n",
       "      <td>0.018383</td>\n",
       "      <td>22619.771613</td>\n",
       "      <td>37.636084</td>\n",
       "      <td>0.261268</td>\n",
       "      <td>0.534480</td>\n",
       "      <td>7.821678</td>\n",
       "    </tr>\n",
       "    <tr>\n",
       "      <td>1</td>\n",
       "      <td>0.000374</td>\n",
       "      <td>0.019349</td>\n",
       "      <td>20177.119559</td>\n",
       "      <td>33.165612</td>\n",
       "      <td>0.264537</td>\n",
       "      <td>0.545926</td>\n",
       "      <td>7.780412</td>\n",
       "    </tr>\n",
       "    <tr>\n",
       "      <td>2</td>\n",
       "      <td>0.000157</td>\n",
       "      <td>0.012512</td>\n",
       "      <td>44325.511746</td>\n",
       "      <td>66.719744</td>\n",
       "      <td>0.147493</td>\n",
       "      <td>0.452187</td>\n",
       "      <td>7.821678</td>\n",
       "    </tr>\n",
       "    <tr>\n",
       "      <td>3</td>\n",
       "      <td>0.000181</td>\n",
       "      <td>0.013460</td>\n",
       "      <td>40997.628612</td>\n",
       "      <td>60.512876</td>\n",
       "      <td>0.152135</td>\n",
       "      <td>0.449952</td>\n",
       "      <td>7.780412</td>\n",
       "    </tr>\n",
       "    <tr>\n",
       "      <td>4</td>\n",
       "      <td>0.000110</td>\n",
       "      <td>0.010486</td>\n",
       "      <td>64881.503529</td>\n",
       "      <td>92.002059</td>\n",
       "      <td>0.091236</td>\n",
       "      <td>0.391190</td>\n",
       "      <td>7.821678</td>\n",
       "    </tr>\n",
       "    <tr>\n",
       "      <td>...</td>\n",
       "      <td>...</td>\n",
       "      <td>...</td>\n",
       "      <td>...</td>\n",
       "      <td>...</td>\n",
       "      <td>...</td>\n",
       "      <td>...</td>\n",
       "      <td>...</td>\n",
       "    </tr>\n",
       "    <tr>\n",
       "      <td>847</td>\n",
       "      <td>0.000364</td>\n",
       "      <td>0.019091</td>\n",
       "      <td>12266.695245</td>\n",
       "      <td>24.687676</td>\n",
       "      <td>0.253209</td>\n",
       "      <td>0.579264</td>\n",
       "      <td>7.681438</td>\n",
       "    </tr>\n",
       "    <tr>\n",
       "      <td>848</td>\n",
       "      <td>0.000188</td>\n",
       "      <td>0.013713</td>\n",
       "      <td>25487.729027</td>\n",
       "      <td>44.233550</td>\n",
       "      <td>0.159562</td>\n",
       "      <td>0.456916</td>\n",
       "      <td>7.741331</td>\n",
       "    </tr>\n",
       "    <tr>\n",
       "      <td>849</td>\n",
       "      <td>0.000184</td>\n",
       "      <td>0.013560</td>\n",
       "      <td>24857.645301</td>\n",
       "      <td>43.017171</td>\n",
       "      <td>0.153731</td>\n",
       "      <td>0.453286</td>\n",
       "      <td>7.681438</td>\n",
       "    </tr>\n",
       "    <tr>\n",
       "      <td>850</td>\n",
       "      <td>0.000126</td>\n",
       "      <td>0.011216</td>\n",
       "      <td>38412.296961</td>\n",
       "      <td>61.690736</td>\n",
       "      <td>0.103327</td>\n",
       "      <td>0.373230</td>\n",
       "      <td>7.741331</td>\n",
       "    </tr>\n",
       "    <tr>\n",
       "      <td>851</td>\n",
       "      <td>0.000133</td>\n",
       "      <td>0.011537</td>\n",
       "      <td>37212.159995</td>\n",
       "      <td>59.164450</td>\n",
       "      <td>0.108169</td>\n",
       "      <td>0.375185</td>\n",
       "      <td>7.681438</td>\n",
       "    </tr>\n",
       "  </tbody>\n",
       "</table>\n",
       "<p>852 rows × 7 columns</p>\n",
       "</div>"
      ],
      "text/plain": [
       "          ASM    Energy      Contrast  Dissimilarity  Homogeneity  \\\n",
       "0    0.000338  0.018383  22619.771613      37.636084     0.261268   \n",
       "1    0.000374  0.019349  20177.119559      33.165612     0.264537   \n",
       "2    0.000157  0.012512  44325.511746      66.719744     0.147493   \n",
       "3    0.000181  0.013460  40997.628612      60.512876     0.152135   \n",
       "4    0.000110  0.010486  64881.503529      92.002059     0.091236   \n",
       "..        ...       ...           ...            ...          ...   \n",
       "847  0.000364  0.019091  12266.695245      24.687676     0.253209   \n",
       "848  0.000188  0.013713  25487.729027      44.233550     0.159562   \n",
       "849  0.000184  0.013560  24857.645301      43.017171     0.153731   \n",
       "850  0.000126  0.011216  38412.296961      61.690736     0.103327   \n",
       "851  0.000133  0.011537  37212.159995      59.164450     0.108169   \n",
       "\n",
       "     Correlation   Entropy  \n",
       "0       0.534480  7.821678  \n",
       "1       0.545926  7.780412  \n",
       "2       0.452187  7.821678  \n",
       "3       0.449952  7.780412  \n",
       "4       0.391190  7.821678  \n",
       "..           ...       ...  \n",
       "847     0.579264  7.681438  \n",
       "848     0.456916  7.741331  \n",
       "849     0.453286  7.681438  \n",
       "850     0.373230  7.741331  \n",
       "851     0.375185  7.681438  \n",
       "\n",
       "[852 rows x 7 columns]"
      ]
     },
     "metadata": {},
     "output_type": "display_data"
    }
   ],
   "source": [
    "display(df)"
   ]
  },
  {
   "cell_type": "code",
   "execution_count": 5,
   "metadata": {},
   "outputs": [
    {
     "data": {
      "text/html": [
       "<div>\n",
       "<style scoped>\n",
       "    .dataframe tbody tr th:only-of-type {\n",
       "        vertical-align: middle;\n",
       "    }\n",
       "\n",
       "    .dataframe tbody tr th {\n",
       "        vertical-align: top;\n",
       "    }\n",
       "\n",
       "    .dataframe thead th {\n",
       "        text-align: right;\n",
       "    }\n",
       "</style>\n",
       "<table border=\"1\" class=\"dataframe\">\n",
       "  <thead>\n",
       "    <tr style=\"text-align: right;\">\n",
       "      <th></th>\n",
       "      <th>ASM</th>\n",
       "      <th>Energy</th>\n",
       "      <th>Contrast</th>\n",
       "      <th>Dissimilarity</th>\n",
       "      <th>Homogeneity</th>\n",
       "      <th>Correlation</th>\n",
       "      <th>Entropy</th>\n",
       "    </tr>\n",
       "  </thead>\n",
       "  <tbody>\n",
       "    <tr>\n",
       "      <td>count</td>\n",
       "      <td>852.000000</td>\n",
       "      <td>852.000000</td>\n",
       "      <td>852.000000</td>\n",
       "      <td>852.000000</td>\n",
       "      <td>852.000000</td>\n",
       "      <td>852.000000</td>\n",
       "      <td>852.000000</td>\n",
       "    </tr>\n",
       "    <tr>\n",
       "      <td>mean</td>\n",
       "      <td>0.000248</td>\n",
       "      <td>0.015288</td>\n",
       "      <td>48113.285046</td>\n",
       "      <td>66.311519</td>\n",
       "      <td>0.172208</td>\n",
       "      <td>0.440122</td>\n",
       "      <td>7.801223</td>\n",
       "    </tr>\n",
       "    <tr>\n",
       "      <td>std</td>\n",
       "      <td>0.000126</td>\n",
       "      <td>0.003772</td>\n",
       "      <td>23896.556196</td>\n",
       "      <td>27.734403</td>\n",
       "      <td>0.073132</td>\n",
       "      <td>0.074135</td>\n",
       "      <td>0.125318</td>\n",
       "    </tr>\n",
       "    <tr>\n",
       "      <td>min</td>\n",
       "      <td>0.000077</td>\n",
       "      <td>0.008753</td>\n",
       "      <td>10889.068825</td>\n",
       "      <td>22.273004</td>\n",
       "      <td>0.075971</td>\n",
       "      <td>0.247521</td>\n",
       "      <td>7.543274</td>\n",
       "    </tr>\n",
       "    <tr>\n",
       "      <td>25%</td>\n",
       "      <td>0.000149</td>\n",
       "      <td>0.012198</td>\n",
       "      <td>26689.370174</td>\n",
       "      <td>41.561096</td>\n",
       "      <td>0.106078</td>\n",
       "      <td>0.384820</td>\n",
       "      <td>7.707459</td>\n",
       "    </tr>\n",
       "    <tr>\n",
       "      <td>50%</td>\n",
       "      <td>0.000202</td>\n",
       "      <td>0.014228</td>\n",
       "      <td>44506.430494</td>\n",
       "      <td>64.532099</td>\n",
       "      <td>0.148011</td>\n",
       "      <td>0.438384</td>\n",
       "      <td>7.776155</td>\n",
       "    </tr>\n",
       "    <tr>\n",
       "      <td>75%</td>\n",
       "      <td>0.000337</td>\n",
       "      <td>0.018362</td>\n",
       "      <td>65249.733383</td>\n",
       "      <td>86.785928</td>\n",
       "      <td>0.244715</td>\n",
       "      <td>0.494098</td>\n",
       "      <td>7.874459</td>\n",
       "    </tr>\n",
       "    <tr>\n",
       "      <td>max</td>\n",
       "      <td>0.000898</td>\n",
       "      <td>0.029972</td>\n",
       "      <td>117996.688595</td>\n",
       "      <td>141.256488</td>\n",
       "      <td>0.339512</td>\n",
       "      <td>0.617244</td>\n",
       "      <td>8.177869</td>\n",
       "    </tr>\n",
       "  </tbody>\n",
       "</table>\n",
       "</div>"
      ],
      "text/plain": [
       "              ASM      Energy       Contrast  Dissimilarity  Homogeneity  \\\n",
       "count  852.000000  852.000000     852.000000     852.000000   852.000000   \n",
       "mean     0.000248    0.015288   48113.285046      66.311519     0.172208   \n",
       "std      0.000126    0.003772   23896.556196      27.734403     0.073132   \n",
       "min      0.000077    0.008753   10889.068825      22.273004     0.075971   \n",
       "25%      0.000149    0.012198   26689.370174      41.561096     0.106078   \n",
       "50%      0.000202    0.014228   44506.430494      64.532099     0.148011   \n",
       "75%      0.000337    0.018362   65249.733383      86.785928     0.244715   \n",
       "max      0.000898    0.029972  117996.688595     141.256488     0.339512   \n",
       "\n",
       "       Correlation     Entropy  \n",
       "count   852.000000  852.000000  \n",
       "mean      0.440122    7.801223  \n",
       "std       0.074135    0.125318  \n",
       "min       0.247521    7.543274  \n",
       "25%       0.384820    7.707459  \n",
       "50%       0.438384    7.776155  \n",
       "75%       0.494098    7.874459  \n",
       "max       0.617244    8.177869  "
      ]
     },
     "execution_count": 5,
     "metadata": {},
     "output_type": "execute_result"
    }
   ],
   "source": [
    "df.describe()"
   ]
  },
  {
   "cell_type": "markdown",
   "metadata": {},
   "source": [
    "# Scaling of values"
   ]
  },
  {
   "cell_type": "code",
   "execution_count": 6,
   "metadata": {},
   "outputs": [],
   "source": [
    "cols = df.columns\n",
    "scalar = StandardScaler()\n",
    "temp = scalar.fit_transform(df)\n",
    "df = pd.DataFrame(temp, columns = cols)"
   ]
  },
  {
   "cell_type": "code",
   "execution_count": 7,
   "metadata": {},
   "outputs": [
    {
     "data": {
      "text/html": [
       "<div>\n",
       "<style scoped>\n",
       "    .dataframe tbody tr th:only-of-type {\n",
       "        vertical-align: middle;\n",
       "    }\n",
       "\n",
       "    .dataframe tbody tr th {\n",
       "        vertical-align: top;\n",
       "    }\n",
       "\n",
       "    .dataframe thead th {\n",
       "        text-align: right;\n",
       "    }\n",
       "</style>\n",
       "<table border=\"1\" class=\"dataframe\">\n",
       "  <thead>\n",
       "    <tr style=\"text-align: right;\">\n",
       "      <th></th>\n",
       "      <th>ASM</th>\n",
       "      <th>Energy</th>\n",
       "      <th>Contrast</th>\n",
       "      <th>Dissimilarity</th>\n",
       "      <th>Homogeneity</th>\n",
       "      <th>Correlation</th>\n",
       "      <th>Entropy</th>\n",
       "    </tr>\n",
       "  </thead>\n",
       "  <tbody>\n",
       "    <tr>\n",
       "      <td>0</td>\n",
       "      <td>0.716075</td>\n",
       "      <td>0.821015</td>\n",
       "      <td>-1.067455</td>\n",
       "      <td>-1.034537</td>\n",
       "      <td>1.218506</td>\n",
       "      <td>1.273524</td>\n",
       "      <td>0.163317</td>\n",
       "    </tr>\n",
       "    <tr>\n",
       "      <td>1</td>\n",
       "      <td>1.006127</td>\n",
       "      <td>1.077312</td>\n",
       "      <td>-1.169732</td>\n",
       "      <td>-1.195821</td>\n",
       "      <td>1.263238</td>\n",
       "      <td>1.428001</td>\n",
       "      <td>-0.166163</td>\n",
       "    </tr>\n",
       "    <tr>\n",
       "      <td>2</td>\n",
       "      <td>-0.726990</td>\n",
       "      <td>-0.736279</td>\n",
       "      <td>-0.158600</td>\n",
       "      <td>0.014728</td>\n",
       "      <td>-0.338159</td>\n",
       "      <td>0.162826</td>\n",
       "      <td>0.163317</td>\n",
       "    </tr>\n",
       "    <tr>\n",
       "      <td>3</td>\n",
       "      <td>-0.531240</td>\n",
       "      <td>-0.484990</td>\n",
       "      <td>-0.297944</td>\n",
       "      <td>-0.209200</td>\n",
       "      <td>-0.274644</td>\n",
       "      <td>0.132663</td>\n",
       "      <td>-0.166163</td>\n",
       "    </tr>\n",
       "    <tr>\n",
       "      <td>4</td>\n",
       "      <td>-1.097862</td>\n",
       "      <td>-1.273945</td>\n",
       "      <td>0.702112</td>\n",
       "      <td>0.926850</td>\n",
       "      <td>-1.107864</td>\n",
       "      <td>-0.660435</td>\n",
       "      <td>0.163317</td>\n",
       "    </tr>\n",
       "    <tr>\n",
       "      <td>...</td>\n",
       "      <td>...</td>\n",
       "      <td>...</td>\n",
       "      <td>...</td>\n",
       "      <td>...</td>\n",
       "      <td>...</td>\n",
       "      <td>...</td>\n",
       "      <td>...</td>\n",
       "    </tr>\n",
       "    <tr>\n",
       "      <td>847</td>\n",
       "      <td>0.927127</td>\n",
       "      <td>1.008791</td>\n",
       "      <td>-1.500955</td>\n",
       "      <td>-1.501683</td>\n",
       "      <td>1.108242</td>\n",
       "      <td>1.877954</td>\n",
       "      <td>-0.956408</td>\n",
       "    </tr>\n",
       "    <tr>\n",
       "      <td>848</td>\n",
       "      <td>-0.476488</td>\n",
       "      <td>-0.417810</td>\n",
       "      <td>-0.947369</td>\n",
       "      <td>-0.796518</td>\n",
       "      <td>-0.173023</td>\n",
       "      <td>0.226653</td>\n",
       "      <td>-0.478205</td>\n",
       "    </tr>\n",
       "    <tr>\n",
       "      <td>849</td>\n",
       "      <td>-0.509667</td>\n",
       "      <td>-0.458371</td>\n",
       "      <td>-0.973751</td>\n",
       "      <td>-0.840401</td>\n",
       "      <td>-0.252805</td>\n",
       "      <td>0.177671</td>\n",
       "      <td>-0.956408</td>\n",
       "    </tr>\n",
       "    <tr>\n",
       "      <td>850</td>\n",
       "      <td>-0.971796</td>\n",
       "      <td>-1.080261</td>\n",
       "      <td>-0.406196</td>\n",
       "      <td>-0.166706</td>\n",
       "      <td>-0.942432</td>\n",
       "      <td>-0.902834</td>\n",
       "      <td>-0.478205</td>\n",
       "    </tr>\n",
       "    <tr>\n",
       "      <td>851</td>\n",
       "      <td>-0.913709</td>\n",
       "      <td>-0.995142</td>\n",
       "      <td>-0.456448</td>\n",
       "      <td>-0.257848</td>\n",
       "      <td>-0.876181</td>\n",
       "      <td>-0.876449</td>\n",
       "      <td>-0.956408</td>\n",
       "    </tr>\n",
       "  </tbody>\n",
       "</table>\n",
       "<p>852 rows × 7 columns</p>\n",
       "</div>"
      ],
      "text/plain": [
       "          ASM    Energy  Contrast  Dissimilarity  Homogeneity  Correlation  \\\n",
       "0    0.716075  0.821015 -1.067455      -1.034537     1.218506     1.273524   \n",
       "1    1.006127  1.077312 -1.169732      -1.195821     1.263238     1.428001   \n",
       "2   -0.726990 -0.736279 -0.158600       0.014728    -0.338159     0.162826   \n",
       "3   -0.531240 -0.484990 -0.297944      -0.209200    -0.274644     0.132663   \n",
       "4   -1.097862 -1.273945  0.702112       0.926850    -1.107864    -0.660435   \n",
       "..        ...       ...       ...            ...          ...          ...   \n",
       "847  0.927127  1.008791 -1.500955      -1.501683     1.108242     1.877954   \n",
       "848 -0.476488 -0.417810 -0.947369      -0.796518    -0.173023     0.226653   \n",
       "849 -0.509667 -0.458371 -0.973751      -0.840401    -0.252805     0.177671   \n",
       "850 -0.971796 -1.080261 -0.406196      -0.166706    -0.942432    -0.902834   \n",
       "851 -0.913709 -0.995142 -0.456448      -0.257848    -0.876181    -0.876449   \n",
       "\n",
       "      Entropy  \n",
       "0    0.163317  \n",
       "1   -0.166163  \n",
       "2    0.163317  \n",
       "3   -0.166163  \n",
       "4    0.163317  \n",
       "..        ...  \n",
       "847 -0.956408  \n",
       "848 -0.478205  \n",
       "849 -0.956408  \n",
       "850 -0.478205  \n",
       "851 -0.956408  \n",
       "\n",
       "[852 rows x 7 columns]"
      ]
     },
     "metadata": {},
     "output_type": "display_data"
    }
   ],
   "source": [
    "display(df)"
   ]
  },
  {
   "cell_type": "markdown",
   "metadata": {},
   "source": [
    "# Data Visualization"
   ]
  },
  {
   "cell_type": "code",
   "execution_count": 8,
   "metadata": {},
   "outputs": [
    {
     "data": {
      "text/plain": [
       "\"temp = df.columns.values.tolist()\\nfor i in temp:\\n    x = df[i]\\n    plt.scatter(x, y)\\n    plt.xlabel(i)\\n    plt.ylabel('Cancer presence')\\n    plt.title('%s vs Cancer presence'%i)\\n    plt.show()\""
      ]
     },
     "execution_count": 8,
     "metadata": {},
     "output_type": "execute_result"
    }
   ],
   "source": [
    "'''temp = df.columns.values.tolist()\n",
    "for i in temp:\n",
    "    x = df[i]\n",
    "    plt.scatter(x, y)\n",
    "    plt.xlabel(i)\n",
    "    plt.ylabel('Cancer presence')\n",
    "    plt.title('%s vs Cancer presence'%i)\n",
    "    plt.show()'''"
   ]
  },
  {
   "cell_type": "code",
   "execution_count": 9,
   "metadata": {},
   "outputs": [],
   "source": [
    "#sns.pairplot(df)"
   ]
  },
  {
   "cell_type": "code",
   "execution_count": 10,
   "metadata": {},
   "outputs": [],
   "source": [
    "def performance_metrics(y_test, y_pred):\n",
    "    print('Performance metrics:')\n",
    "    print(classification_report(y_test, y_pred), '\\n')\n",
    "    print('Confusion Matrix:')\n",
    "    print(confusion_matrix(y_test, y_pred),'\\n')\n",
    "    tn, fp, fn, tp = confusion_matrix(y_test, y_pred).ravel()\n",
    "    print('True positive: ', tp)\n",
    "    print('True negavtive: ', tn)\n",
    "    print('False positive: ', fp)\n",
    "    print('False negative: ', fn)"
   ]
  },
  {
   "cell_type": "code",
   "execution_count": 11,
   "metadata": {},
   "outputs": [],
   "source": [
    "x_train, x_test, y_train, y_test = train_test_split(df, y, \n",
    "                                                    test_size=0.3, \n",
    "                                                    random_state=0)"
   ]
  },
  {
   "cell_type": "markdown",
   "metadata": {},
   "source": [
    "# Neural network"
   ]
  },
  {
   "cell_type": "markdown",
   "metadata": {},
   "source": [
    "## Model - 1"
   ]
  },
  {
   "cell_type": "markdown",
   "metadata": {},
   "source": [
    "### Batch size = 6"
   ]
  },
  {
   "cell_type": "code",
   "execution_count": 12,
   "metadata": {},
   "outputs": [],
   "source": [
    "classifier1 = Sequential([\n",
    "    Dense(7, activation = 'relu', kernel_initializer = 'random_normal', input_dim = 7),\n",
    "    Dense(6, activation = 'relu', kernel_initializer = 'random_normal'),\n",
    "    Dense(1, activation = 'sigmoid', kernel_initializer = 'random_normal')\n",
    "])"
   ]
  },
  {
   "cell_type": "code",
   "execution_count": 13,
   "metadata": {},
   "outputs": [],
   "source": [
    "classifier1.compile(optimizer = 'adam',\n",
    "                   loss = 'binary_crossentropy',\n",
    "                   metrics = ['accuracy'],\n",
    "                   )"
   ]
  },
  {
   "cell_type": "code",
   "execution_count": 14,
   "metadata": {},
   "outputs": [
    {
     "name": "stdout",
     "output_type": "stream",
     "text": [
      "Model: \"sequential\"\n",
      "_________________________________________________________________\n",
      "Layer (type)                 Output Shape              Param #   \n",
      "=================================================================\n",
      "dense (Dense)                (None, 7)                 56        \n",
      "_________________________________________________________________\n",
      "dense_1 (Dense)              (None, 6)                 48        \n",
      "_________________________________________________________________\n",
      "dense_2 (Dense)              (None, 1)                 7         \n",
      "=================================================================\n",
      "Total params: 111\n",
      "Trainable params: 111\n",
      "Non-trainable params: 0\n",
      "_________________________________________________________________\n"
     ]
    }
   ],
   "source": [
    "classifier1.summary()"
   ]
  },
  {
   "cell_type": "code",
   "execution_count": 15,
   "metadata": {},
   "outputs": [
    {
     "data": {
      "text/plain": [
       "<tensorflow.python.keras.callbacks.History at 0x7f96e1761e50>"
      ]
     },
     "execution_count": 15,
     "metadata": {},
     "output_type": "execute_result"
    }
   ],
   "source": [
    "classifier1.fit(x_train, y_train, batch_size = 6, epochs = 100, verbose = 0)"
   ]
  },
  {
   "cell_type": "code",
   "execution_count": 16,
   "metadata": {},
   "outputs": [
    {
     "name": "stdout",
     "output_type": "stream",
     "text": [
      "596/596 [==============================] - 0s 727us/sample - loss: 0.5645 - accuracy: 0.7282\n",
      "Accuracy on training set : 0.7281879186630249 \n",
      "\n",
      "596/596 [==============================] - 0s 77us/sample - loss: 0.5645 - accuracy: 0.7282\n",
      "Loss on training set : 0.5644667124588217\n"
     ]
    }
   ],
   "source": [
    "print(f'Accuracy on training set : {classifier1.evaluate(x_train, y_train)[1]} \\n')\n",
    "print(f'Loss on training set : {classifier1.evaluate(x_train, y_train)[0]}')"
   ]
  },
  {
   "cell_type": "code",
   "execution_count": 17,
   "metadata": {},
   "outputs": [
    {
     "name": "stdout",
     "output_type": "stream",
     "text": [
      "Performance metrics:\n",
      "              precision    recall  f1-score   support\n",
      "\n",
      "         0.0       0.74      0.73      0.73       306\n",
      "         1.0       0.72      0.72      0.72       290\n",
      "\n",
      "    accuracy                           0.73       596\n",
      "   macro avg       0.73      0.73      0.73       596\n",
      "weighted avg       0.73      0.73      0.73       596\n",
      " \n",
      "\n",
      "Confusion Matrix:\n",
      "[[224  82]\n",
      " [ 80 210]] \n",
      "\n",
      "True positive:  210\n",
      "True negavtive:  224\n",
      "False positive:  82\n",
      "False negative:  80\n"
     ]
    }
   ],
   "source": [
    "y_pred = classifier1.predict_classes(x_train)\n",
    "performance_metrics(y_train, y_pred)"
   ]
  },
  {
   "cell_type": "code",
   "execution_count": 18,
   "metadata": {},
   "outputs": [
    {
     "name": "stdout",
     "output_type": "stream",
     "text": [
      "256/256 [==============================] - 0s 89us/sample - loss: 0.5698 - accuracy: 0.7344\n",
      "Accuracy on testing set : 0.734375 \n",
      "\n",
      "256/256 [==============================] - 0s 86us/sample - loss: 0.5698 - accuracy: 0.7344\n",
      "Loss on testing set : 0.5697931051254272\n"
     ]
    }
   ],
   "source": [
    "print(f'Accuracy on testing set : {classifier1.evaluate(x_test, y_test)[1]} \\n')\n",
    "print(f'Loss on testing set : {classifier1.evaluate(x_test, y_test)[0]}')"
   ]
  },
  {
   "cell_type": "code",
   "execution_count": 19,
   "metadata": {},
   "outputs": [
    {
     "name": "stdout",
     "output_type": "stream",
     "text": [
      "Performance metrics:\n",
      "              precision    recall  f1-score   support\n",
      "\n",
      "         0.0       0.71      0.74      0.72       120\n",
      "         1.0       0.76      0.73      0.74       136\n",
      "\n",
      "    accuracy                           0.73       256\n",
      "   macro avg       0.73      0.73      0.73       256\n",
      "weighted avg       0.74      0.73      0.73       256\n",
      " \n",
      "\n",
      "Confusion Matrix:\n",
      "[[89 31]\n",
      " [37 99]] \n",
      "\n",
      "True positive:  99\n",
      "True negavtive:  89\n",
      "False positive:  31\n",
      "False negative:  37\n"
     ]
    }
   ],
   "source": [
    "y_pred = classifier1.predict_classes(x_test)\n",
    "performance_metrics(y_test, y_pred)"
   ]
  },
  {
   "cell_type": "markdown",
   "metadata": {},
   "source": [
    "### Batch size = 2"
   ]
  },
  {
   "cell_type": "code",
   "execution_count": 20,
   "metadata": {},
   "outputs": [
    {
     "data": {
      "text/plain": [
       "<tensorflow.python.keras.callbacks.History at 0x7f96e1efe450>"
      ]
     },
     "execution_count": 20,
     "metadata": {},
     "output_type": "execute_result"
    }
   ],
   "source": [
    "classifier1.fit(x_train, y_train, batch_size = 2, epochs = 100, verbose = 0)"
   ]
  },
  {
   "cell_type": "code",
   "execution_count": 21,
   "metadata": {},
   "outputs": [
    {
     "name": "stdout",
     "output_type": "stream",
     "text": [
      "596/596 [==============================] - 0s 54us/sample - loss: 0.4622 - accuracy: 0.7567\n",
      "Accuracy on training set : 0.7567114233970642 \n",
      "\n",
      "596/596 [==============================] - 0s 55us/sample - loss: 0.4622 - accuracy: 0.7567\n",
      "Loss on training set : 0.46222219851193014\n"
     ]
    }
   ],
   "source": [
    "print(f'Accuracy on training set : {classifier1.evaluate(x_train, y_train)[1]} \\n')\n",
    "print(f'Loss on training set : {classifier1.evaluate(x_train, y_train)[0]}')"
   ]
  },
  {
   "cell_type": "code",
   "execution_count": 22,
   "metadata": {},
   "outputs": [
    {
     "name": "stdout",
     "output_type": "stream",
     "text": [
      "Performance metrics:\n",
      "              precision    recall  f1-score   support\n",
      "\n",
      "         0.0       0.74      0.80      0.77       306\n",
      "         1.0       0.77      0.71      0.74       290\n",
      "\n",
      "    accuracy                           0.76       596\n",
      "   macro avg       0.76      0.76      0.76       596\n",
      "weighted avg       0.76      0.76      0.76       596\n",
      " \n",
      "\n",
      "Confusion Matrix:\n",
      "[[246  60]\n",
      " [ 85 205]] \n",
      "\n",
      "True positive:  205\n",
      "True negavtive:  246\n",
      "False positive:  60\n",
      "False negative:  85\n"
     ]
    }
   ],
   "source": [
    "y_pred = classifier1.predict_classes(x_train)\n",
    "performance_metrics(y_train, y_pred)"
   ]
  },
  {
   "cell_type": "code",
   "execution_count": 23,
   "metadata": {},
   "outputs": [
    {
     "name": "stdout",
     "output_type": "stream",
     "text": [
      "256/256 [==============================] - 0s 97us/sample - loss: 0.4897 - accuracy: 0.7500\n",
      "Accuracy on testing set : 0.75 \n",
      "\n",
      "256/256 [==============================] - 0s 94us/sample - loss: 0.4897 - accuracy: 0.7500\n",
      "Loss on testing set : 0.48970238864421844\n"
     ]
    }
   ],
   "source": [
    "print(f'Accuracy on testing set : {classifier1.evaluate(x_test, y_test)[1]} \\n')\n",
    "print(f'Loss on testing set : {classifier1.evaluate(x_test, y_test)[0]}')"
   ]
  },
  {
   "cell_type": "code",
   "execution_count": 24,
   "metadata": {},
   "outputs": [
    {
     "name": "stdout",
     "output_type": "stream",
     "text": [
      "Performance metrics:\n",
      "              precision    recall  f1-score   support\n",
      "\n",
      "         0.0       0.69      0.85      0.76       120\n",
      "         1.0       0.83      0.66      0.74       136\n",
      "\n",
      "    accuracy                           0.75       256\n",
      "   macro avg       0.76      0.76      0.75       256\n",
      "weighted avg       0.77      0.75      0.75       256\n",
      " \n",
      "\n",
      "Confusion Matrix:\n",
      "[[102  18]\n",
      " [ 46  90]] \n",
      "\n",
      "True positive:  90\n",
      "True negavtive:  102\n",
      "False positive:  18\n",
      "False negative:  46\n"
     ]
    }
   ],
   "source": [
    "y_pred = classifier1.predict_classes(x_test)\n",
    "performance_metrics(y_test, y_pred)"
   ]
  },
  {
   "cell_type": "markdown",
   "metadata": {},
   "source": [
    "## Model - 2"
   ]
  },
  {
   "cell_type": "markdown",
   "metadata": {},
   "source": [
    "### Batch size = 6"
   ]
  },
  {
   "cell_type": "code",
   "execution_count": 25,
   "metadata": {},
   "outputs": [],
   "source": [
    "classifier2 = Sequential([\n",
    "    Dense(7, activation = 'relu', kernel_initializer = 'random_normal', input_dim = 7),\n",
    "    Dense(128, activation = 'relu', kernel_initializer = 'random_normal'),\n",
    "    Dense(1, activation = 'sigmoid',kernel_initializer = 'random_normal')\n",
    "])"
   ]
  },
  {
   "cell_type": "code",
   "execution_count": 26,
   "metadata": {},
   "outputs": [],
   "source": [
    "classifier2.compile(optimizer = 'adam', \n",
    "                    loss = 'binary_crossentropy', \n",
    "                    metrics = ['accuracy'])"
   ]
  },
  {
   "cell_type": "code",
   "execution_count": 27,
   "metadata": {},
   "outputs": [
    {
     "name": "stdout",
     "output_type": "stream",
     "text": [
      "Model: \"sequential_1\"\n",
      "_________________________________________________________________\n",
      "Layer (type)                 Output Shape              Param #   \n",
      "=================================================================\n",
      "dense_3 (Dense)              (None, 7)                 56        \n",
      "_________________________________________________________________\n",
      "dense_4 (Dense)              (None, 128)               1024      \n",
      "_________________________________________________________________\n",
      "dense_5 (Dense)              (None, 1)                 129       \n",
      "=================================================================\n",
      "Total params: 1,209\n",
      "Trainable params: 1,209\n",
      "Non-trainable params: 0\n",
      "_________________________________________________________________\n"
     ]
    }
   ],
   "source": [
    "classifier2.summary()"
   ]
  },
  {
   "cell_type": "code",
   "execution_count": 28,
   "metadata": {},
   "outputs": [
    {
     "data": {
      "text/plain": [
       "<tensorflow.python.keras.callbacks.History at 0x7f96e27780d0>"
      ]
     },
     "execution_count": 28,
     "metadata": {},
     "output_type": "execute_result"
    }
   ],
   "source": [
    "classifier2.fit(x_train, y_train, batch_size = 6, epochs = 100, verbose = 0)"
   ]
  },
  {
   "cell_type": "code",
   "execution_count": 29,
   "metadata": {},
   "outputs": [
    {
     "name": "stdout",
     "output_type": "stream",
     "text": [
      "596/596 [==============================] - 0s 792us/sample - loss: 0.4295 - accuracy: 0.8104\n",
      "Accuracy on training set : 0.8104026913642883 \n",
      "\n",
      "596/596 [==============================] - 0s 88us/sample - loss: 0.4295 - accuracy: 0.8104\n",
      "Loss on training set : 0.42948017704406843\n"
     ]
    }
   ],
   "source": [
    "print(f'Accuracy on training set : {classifier2.evaluate(x_train, y_train)[1]} \\n')\n",
    "print(f'Loss on training set : {classifier2.evaluate(x_train, y_train)[0]}')"
   ]
  },
  {
   "cell_type": "code",
   "execution_count": 30,
   "metadata": {},
   "outputs": [
    {
     "name": "stdout",
     "output_type": "stream",
     "text": [
      "Performance metrics:\n",
      "              precision    recall  f1-score   support\n",
      "\n",
      "         0.0       0.82      0.80      0.81       306\n",
      "         1.0       0.80      0.82      0.81       290\n",
      "\n",
      "    accuracy                           0.81       596\n",
      "   macro avg       0.81      0.81      0.81       596\n",
      "weighted avg       0.81      0.81      0.81       596\n",
      " \n",
      "\n",
      "Confusion Matrix:\n",
      "[[246  60]\n",
      " [ 53 237]] \n",
      "\n",
      "True positive:  237\n",
      "True negavtive:  246\n",
      "False positive:  60\n",
      "False negative:  53\n"
     ]
    }
   ],
   "source": [
    "y_pred = classifier2.predict_classes(x_train)\n",
    "performance_metrics(y_train, y_pred)"
   ]
  },
  {
   "cell_type": "code",
   "execution_count": 31,
   "metadata": {},
   "outputs": [
    {
     "name": "stdout",
     "output_type": "stream",
     "text": [
      "256/256 [==============================] - 0s 106us/sample - loss: 0.4880 - accuracy: 0.7734\n",
      "Accuracy on testing set : 0.7734375 \n",
      "\n",
      "256/256 [==============================] - 0s 101us/sample - loss: 0.4880 - accuracy: 0.7734\n",
      "Loss on testing set : 0.4880234897136688\n"
     ]
    }
   ],
   "source": [
    "print(f'Accuracy on testing set : {classifier2.evaluate(x_test, y_test)[1]} \\n')\n",
    "print(f'Loss on testing set : {classifier2.evaluate(x_test, y_test)[0]}')"
   ]
  },
  {
   "cell_type": "code",
   "execution_count": 32,
   "metadata": {},
   "outputs": [
    {
     "name": "stdout",
     "output_type": "stream",
     "text": [
      "Performance metrics:\n",
      "              precision    recall  f1-score   support\n",
      "\n",
      "         0.0       0.75      0.77      0.76       120\n",
      "         1.0       0.79      0.78      0.79       136\n",
      "\n",
      "    accuracy                           0.77       256\n",
      "   macro avg       0.77      0.77      0.77       256\n",
      "weighted avg       0.77      0.77      0.77       256\n",
      " \n",
      "\n",
      "Confusion Matrix:\n",
      "[[ 92  28]\n",
      " [ 30 106]] \n",
      "\n",
      "True positive:  106\n",
      "True negavtive:  92\n",
      "False positive:  28\n",
      "False negative:  30\n"
     ]
    }
   ],
   "source": [
    "y_pred = classifier2.predict_classes(x_test)\n",
    "performance_metrics(y_test, y_pred)"
   ]
  },
  {
   "cell_type": "markdown",
   "metadata": {},
   "source": [
    "### Batch size = 2"
   ]
  },
  {
   "cell_type": "code",
   "execution_count": 33,
   "metadata": {},
   "outputs": [
    {
     "data": {
      "text/plain": [
       "<tensorflow.python.keras.callbacks.History at 0x7f96e71a3a10>"
      ]
     },
     "execution_count": 33,
     "metadata": {},
     "output_type": "execute_result"
    }
   ],
   "source": [
    "classifier2.fit(x_train, y_train, batch_size = 2, epochs = 100, verbose = 0)"
   ]
  },
  {
   "cell_type": "code",
   "execution_count": 34,
   "metadata": {},
   "outputs": [
    {
     "name": "stdout",
     "output_type": "stream",
     "text": [
      "596/596 [==============================] - 0s 51us/sample - loss: 0.2912 - accuracy: 0.8775\n",
      "Accuracy on training set : 0.8775168061256409 \n",
      "\n",
      "596/596 [==============================] - 0s 82us/sample - loss: 0.2912 - accuracy: 0.8775\n",
      "Loss on training set : 0.2911587239511861\n",
      "Performance metrics:\n",
      "              precision    recall  f1-score   support\n",
      "\n",
      "         0.0       0.87      0.89      0.88       306\n",
      "         1.0       0.88      0.87      0.87       290\n",
      "\n",
      "    accuracy                           0.88       596\n",
      "   macro avg       0.88      0.88      0.88       596\n",
      "weighted avg       0.88      0.88      0.88       596\n",
      " \n",
      "\n",
      "Confusion Matrix:\n",
      "[[272  34]\n",
      " [ 39 251]] \n",
      "\n",
      "True positive:  251\n",
      "True negavtive:  272\n",
      "False positive:  34\n",
      "False negative:  39\n"
     ]
    }
   ],
   "source": [
    "print(f'Accuracy on training set : {classifier2.evaluate(x_train, y_train)[1]} \\n')\n",
    "print(f'Loss on training set : {classifier2.evaluate(x_train, y_train)[0]}')\n",
    "y_pred = classifier2.predict_classes(x_train)\n",
    "performance_metrics(y_train, y_pred)"
   ]
  },
  {
   "cell_type": "code",
   "execution_count": 35,
   "metadata": {},
   "outputs": [
    {
     "name": "stdout",
     "output_type": "stream",
     "text": [
      "256/256 [==============================] - 0s 99us/sample - loss: 0.4296 - accuracy: 0.7852\n",
      "Accuracy on testing set : 0.78515625 \n",
      "\n",
      "256/256 [==============================] - 0s 127us/sample - loss: 0.4296 - accuracy: 0.7852\n",
      "Loss on testing set : 0.42963801324367523\n",
      "Performance metrics:\n",
      "              precision    recall  f1-score   support\n",
      "\n",
      "         0.0       0.75      0.82      0.78       120\n",
      "         1.0       0.82      0.76      0.79       136\n",
      "\n",
      "    accuracy                           0.79       256\n",
      "   macro avg       0.79      0.79      0.79       256\n",
      "weighted avg       0.79      0.79      0.79       256\n",
      " \n",
      "\n",
      "Confusion Matrix:\n",
      "[[ 98  22]\n",
      " [ 33 103]] \n",
      "\n",
      "True positive:  103\n",
      "True negavtive:  98\n",
      "False positive:  22\n",
      "False negative:  33\n"
     ]
    }
   ],
   "source": [
    "print(f'Accuracy on testing set : {classifier2.evaluate(x_test, y_test)[1]} \\n')\n",
    "print(f'Loss on testing set : {classifier2.evaluate(x_test, y_test)[0]}')\n",
    "y_pred = classifier2.predict_classes(x_test)\n",
    "performance_metrics(y_test, y_pred)"
   ]
  },
  {
   "cell_type": "markdown",
   "metadata": {},
   "source": [
    "## Model - 3"
   ]
  },
  {
   "cell_type": "markdown",
   "metadata": {},
   "source": [
    "### Batch size = 6"
   ]
  },
  {
   "cell_type": "code",
   "execution_count": 36,
   "metadata": {},
   "outputs": [],
   "source": [
    "classifier3 = Sequential([\n",
    "    Dense(7, activation = 'relu', kernel_initializer = 'random_normal', input_dim = 7),\n",
    "    Dense(128, activation = 'relu', kernel_initializer = 'random_normal'),\n",
    "    Dense(256, activation = 'relu', kernel_initializer = 'random_normal'),\n",
    "    Dense(1, activation = 'sigmoid',kernel_initializer = 'random_normal')\n",
    "])"
   ]
  },
  {
   "cell_type": "code",
   "execution_count": 37,
   "metadata": {},
   "outputs": [],
   "source": [
    "classifier3.compile(optimizer = 'adam', \n",
    "                    loss = 'binary_crossentropy', \n",
    "                    metrics = ['accuracy'])"
   ]
  },
  {
   "cell_type": "code",
   "execution_count": 38,
   "metadata": {},
   "outputs": [
    {
     "name": "stdout",
     "output_type": "stream",
     "text": [
      "Model: \"sequential_2\"\n",
      "_________________________________________________________________\n",
      "Layer (type)                 Output Shape              Param #   \n",
      "=================================================================\n",
      "dense_6 (Dense)              (None, 7)                 56        \n",
      "_________________________________________________________________\n",
      "dense_7 (Dense)              (None, 128)               1024      \n",
      "_________________________________________________________________\n",
      "dense_8 (Dense)              (None, 256)               33024     \n",
      "_________________________________________________________________\n",
      "dense_9 (Dense)              (None, 1)                 257       \n",
      "=================================================================\n",
      "Total params: 34,361\n",
      "Trainable params: 34,361\n",
      "Non-trainable params: 0\n",
      "_________________________________________________________________\n"
     ]
    }
   ],
   "source": [
    "classifier3.summary()"
   ]
  },
  {
   "cell_type": "code",
   "execution_count": 40,
   "metadata": {},
   "outputs": [
    {
     "data": {
      "text/plain": [
       "<tensorflow.python.keras.callbacks.History at 0x7f96cf0bce50>"
      ]
     },
     "execution_count": 40,
     "metadata": {},
     "output_type": "execute_result"
    }
   ],
   "source": [
    "classifier3.fit(x_train, y_train, epochs = 100, batch_size = 6, verbose = 0)"
   ]
  },
  {
   "cell_type": "code",
   "execution_count": 41,
   "metadata": {},
   "outputs": [
    {
     "name": "stdout",
     "output_type": "stream",
     "text": [
      "596/596 [==============================] - 0s 777us/sample - loss: 0.1540 - accuracy: 0.9295\n",
      "Accuracy on training set : 0.9295302033424377 \n",
      "\n",
      "596/596 [==============================] - 0s 167us/sample - loss: 0.1540 - accuracy: 0.9295\n",
      "Loss on training set : 0.15400686240036215\n",
      "Performance metrics:\n",
      "              precision    recall  f1-score   support\n",
      "\n",
      "         0.0       0.89      0.99      0.93       306\n",
      "         1.0       0.98      0.87      0.92       290\n",
      "\n",
      "    accuracy                           0.93       596\n",
      "   macro avg       0.94      0.93      0.93       596\n",
      "weighted avg       0.94      0.93      0.93       596\n",
      " \n",
      "\n",
      "Confusion Matrix:\n",
      "[[302   4]\n",
      " [ 38 252]] \n",
      "\n",
      "True positive:  252\n",
      "True negavtive:  302\n",
      "False positive:  4\n",
      "False negative:  38\n"
     ]
    }
   ],
   "source": [
    "print(f'Accuracy on training set : {classifier3.evaluate(x_train, y_train)[1]} \\n')\n",
    "print(f'Loss on training set : {classifier3.evaluate(x_train, y_train)[0]}')\n",
    "y_pred = classifier3.predict_classes(x_train)\n",
    "performance_metrics(y_train, y_pred)"
   ]
  },
  {
   "cell_type": "code",
   "execution_count": 42,
   "metadata": {},
   "outputs": [
    {
     "name": "stdout",
     "output_type": "stream",
     "text": [
      "256/256 [==============================] - 0s 147us/sample - loss: 0.3908 - accuracy: 0.8477\n",
      "Accuracy on testing set : 0.84765625 \n",
      "\n",
      "256/256 [==============================] - 0s 177us/sample - loss: 0.3908 - accuracy: 0.8477\n",
      "Loss on testing set : 0.39079091884195805\n",
      "Performance metrics:\n",
      "              precision    recall  f1-score   support\n",
      "\n",
      "         0.0       0.80      0.89      0.85       120\n",
      "         1.0       0.89      0.81      0.85       136\n",
      "\n",
      "    accuracy                           0.85       256\n",
      "   macro avg       0.85      0.85      0.85       256\n",
      "weighted avg       0.85      0.85      0.85       256\n",
      " \n",
      "\n",
      "Confusion Matrix:\n",
      "[[107  13]\n",
      " [ 26 110]] \n",
      "\n",
      "True positive:  110\n",
      "True negavtive:  107\n",
      "False positive:  13\n",
      "False negative:  26\n"
     ]
    }
   ],
   "source": [
    "print(f'Accuracy on testing set : {classifier3.evaluate(x_test, y_test)[1]} \\n')\n",
    "print(f'Loss on testing set : {classifier3.evaluate(x_test, y_test)[0]}')\n",
    "y_pred = classifier3.predict_classes(x_test)\n",
    "performance_metrics(y_test, y_pred)"
   ]
  },
  {
   "cell_type": "markdown",
   "metadata": {},
   "source": [
    "### Batch size = 2"
   ]
  },
  {
   "cell_type": "code",
   "execution_count": 43,
   "metadata": {},
   "outputs": [
    {
     "data": {
      "text/plain": [
       "<tensorflow.python.keras.callbacks.History at 0x7f96e72fdd10>"
      ]
     },
     "execution_count": 43,
     "metadata": {},
     "output_type": "execute_result"
    }
   ],
   "source": [
    "classifier3.fit(x_train, y_train, epochs = 100, batch_size = 2, verbose = 0)"
   ]
  },
  {
   "cell_type": "code",
   "execution_count": 44,
   "metadata": {},
   "outputs": [
    {
     "name": "stdout",
     "output_type": "stream",
     "text": [
      "596/596 [==============================] - 0s 122us/sample - loss: 0.1512 - accuracy: 0.9362\n",
      "Accuracy on training set : 0.936241626739502 \n",
      "\n",
      "596/596 [==============================] - 0s 125us/sample - loss: 0.1512 - accuracy: 0.9362\n",
      "Loss on training set : 0.15120542114413024\n",
      "Performance metrics:\n",
      "              precision    recall  f1-score   support\n",
      "\n",
      "         0.0       0.98      0.90      0.94       306\n",
      "         1.0       0.90      0.98      0.94       290\n",
      "\n",
      "    accuracy                           0.94       596\n",
      "   macro avg       0.94      0.94      0.94       596\n",
      "weighted avg       0.94      0.94      0.94       596\n",
      " \n",
      "\n",
      "Confusion Matrix:\n",
      "[[274  32]\n",
      " [  6 284]] \n",
      "\n",
      "True positive:  284\n",
      "True negavtive:  274\n",
      "False positive:  32\n",
      "False negative:  6\n"
     ]
    }
   ],
   "source": [
    "print(f'Accuracy on training set : {classifier3.evaluate(x_train, y_train)[1]} \\n')\n",
    "print(f'Loss on training set : {classifier3.evaluate(x_train, y_train)[0]}')\n",
    "y_pred = classifier3.predict_classes(x_train)\n",
    "performance_metrics(y_train, y_pred)"
   ]
  },
  {
   "cell_type": "code",
   "execution_count": 45,
   "metadata": {},
   "outputs": [
    {
     "name": "stdout",
     "output_type": "stream",
     "text": [
      "256/256 [==============================] - 0s 143us/sample - loss: 0.4499 - accuracy: 0.8594\n",
      "Accuracy on testing set : 0.859375 \n",
      "\n",
      "256/256 [==============================] - 0s 118us/sample - loss: 0.4499 - accuracy: 0.8594\n",
      "Loss on testing set : 0.44986957125365734\n",
      "Performance metrics:\n",
      "              precision    recall  f1-score   support\n",
      "\n",
      "         0.0       0.89      0.80      0.84       120\n",
      "         1.0       0.84      0.91      0.87       136\n",
      "\n",
      "    accuracy                           0.86       256\n",
      "   macro avg       0.86      0.86      0.86       256\n",
      "weighted avg       0.86      0.86      0.86       256\n",
      " \n",
      "\n",
      "Confusion Matrix:\n",
      "[[ 96  24]\n",
      " [ 12 124]] \n",
      "\n",
      "True positive:  124\n",
      "True negavtive:  96\n",
      "False positive:  24\n",
      "False negative:  12\n"
     ]
    }
   ],
   "source": [
    "print(f'Accuracy on testing set : {classifier3.evaluate(x_test, y_test)[1]} \\n')\n",
    "print(f'Loss on testing set : {classifier3.evaluate(x_test, y_test)[0]}')\n",
    "y_pred = classifier3.predict_classes(x_test)\n",
    "performance_metrics(y_test, y_pred)"
   ]
  },
  {
   "cell_type": "markdown",
   "metadata": {},
   "source": [
    "## Model - 4"
   ]
  },
  {
   "cell_type": "markdown",
   "metadata": {},
   "source": [
    "### Batch size = 6"
   ]
  },
  {
   "cell_type": "code",
   "execution_count": 46,
   "metadata": {},
   "outputs": [],
   "source": [
    "classifier4 = Sequential([\n",
    "    Dense(7, activation = 'relu', kernel_initializer = 'random_normal', input_dim = 7),\n",
    "    Dense(256, activation = 'relu', kernel_initializer = 'random_normal'),\n",
    "    Dense(512, activation = 'relu', kernel_initializer = 'random_normal'),\n",
    "    Dense(1, activation = 'sigmoid',kernel_initializer = 'random_normal')\n",
    "])"
   ]
  },
  {
   "cell_type": "code",
   "execution_count": 47,
   "metadata": {},
   "outputs": [],
   "source": [
    "classifier4.compile(optimizer = 'adam', \n",
    "                    loss = 'binary_crossentropy', \n",
    "                    metrics = ['accuracy'])"
   ]
  },
  {
   "cell_type": "code",
   "execution_count": 48,
   "metadata": {},
   "outputs": [
    {
     "name": "stdout",
     "output_type": "stream",
     "text": [
      "Model: \"sequential_3\"\n",
      "_________________________________________________________________\n",
      "Layer (type)                 Output Shape              Param #   \n",
      "=================================================================\n",
      "dense_10 (Dense)             (None, 7)                 56        \n",
      "_________________________________________________________________\n",
      "dense_11 (Dense)             (None, 256)               2048      \n",
      "_________________________________________________________________\n",
      "dense_12 (Dense)             (None, 512)               131584    \n",
      "_________________________________________________________________\n",
      "dense_13 (Dense)             (None, 1)                 513       \n",
      "=================================================================\n",
      "Total params: 134,201\n",
      "Trainable params: 134,201\n",
      "Non-trainable params: 0\n",
      "_________________________________________________________________\n"
     ]
    }
   ],
   "source": [
    "classifier4.summary()"
   ]
  },
  {
   "cell_type": "code",
   "execution_count": 49,
   "metadata": {},
   "outputs": [
    {
     "data": {
      "text/plain": [
       "<tensorflow.python.keras.callbacks.History at 0x7f96dcadead0>"
      ]
     },
     "execution_count": 49,
     "metadata": {},
     "output_type": "execute_result"
    }
   ],
   "source": [
    "classifier4.fit(x_train, y_train, epochs = 100, batch_size = 6, verbose = 0)"
   ]
  },
  {
   "cell_type": "code",
   "execution_count": 50,
   "metadata": {},
   "outputs": [
    {
     "name": "stdout",
     "output_type": "stream",
     "text": [
      "596/596 [==============================] - 0s 682us/sample - loss: 0.2786 - accuracy: 0.8758\n",
      "Accuracy on training set : 0.8758389353752136 \n",
      "\n",
      "596/596 [==============================] - 0s 154us/sample - loss: 0.2786 - accuracy: 0.8758\n",
      "Loss on training set : 0.2785890198393956\n",
      "Performance metrics:\n",
      "              precision    recall  f1-score   support\n",
      "\n",
      "         0.0       0.83      0.96      0.89       306\n",
      "         1.0       0.95      0.79      0.86       290\n",
      "\n",
      "    accuracy                           0.88       596\n",
      "   macro avg       0.89      0.87      0.87       596\n",
      "weighted avg       0.89      0.88      0.87       596\n",
      " \n",
      "\n",
      "Confusion Matrix:\n",
      "[[294  12]\n",
      " [ 62 228]] \n",
      "\n",
      "True positive:  228\n",
      "True negavtive:  294\n",
      "False positive:  12\n",
      "False negative:  62\n"
     ]
    }
   ],
   "source": [
    "print(f'Accuracy on training set : {classifier4.evaluate(x_train, y_train)[1]} \\n')\n",
    "print(f'Loss on training set : {classifier4.evaluate(x_train, y_train)[0]}')\n",
    "y_pred = classifier4.predict_classes(x_train)\n",
    "performance_metrics(y_train, y_pred)"
   ]
  },
  {
   "cell_type": "code",
   "execution_count": 51,
   "metadata": {},
   "outputs": [
    {
     "name": "stdout",
     "output_type": "stream",
     "text": [
      "256/256 [==============================] - 0s 129us/sample - loss: 0.4211 - accuracy: 0.7969\n",
      "Accuracy on testing set : 0.796875 \n",
      "\n",
      "256/256 [==============================] - 0s 160us/sample - loss: 0.4211 - accuracy: 0.7969\n",
      "Loss on testing set : 0.4210826978087425\n",
      "Performance metrics:\n",
      "              precision    recall  f1-score   support\n",
      "\n",
      "         0.0       0.72      0.94      0.81       120\n",
      "         1.0       0.93      0.67      0.78       136\n",
      "\n",
      "    accuracy                           0.80       256\n",
      "   macro avg       0.82      0.81      0.80       256\n",
      "weighted avg       0.83      0.80      0.79       256\n",
      " \n",
      "\n",
      "Confusion Matrix:\n",
      "[[113   7]\n",
      " [ 45  91]] \n",
      "\n",
      "True positive:  91\n",
      "True negavtive:  113\n",
      "False positive:  7\n",
      "False negative:  45\n"
     ]
    }
   ],
   "source": [
    "print(f'Accuracy on testing set : {classifier4.evaluate(x_test, y_test)[1]} \\n')\n",
    "print(f'Loss on testing set : {classifier4.evaluate(x_test, y_test)[0]}')\n",
    "y_pred = classifier4.predict_classes(x_test)\n",
    "performance_metrics(y_test, y_pred)"
   ]
  },
  {
   "cell_type": "markdown",
   "metadata": {},
   "source": [
    "### Batch size = 2"
   ]
  },
  {
   "cell_type": "code",
   "execution_count": 52,
   "metadata": {},
   "outputs": [
    {
     "data": {
      "text/plain": [
       "<tensorflow.python.keras.callbacks.History at 0x7f96dced5d90>"
      ]
     },
     "execution_count": 52,
     "metadata": {},
     "output_type": "execute_result"
    }
   ],
   "source": [
    "classifier4.fit(x_train, y_train, epochs = 100, batch_size = 2, verbose = 0)"
   ]
  },
  {
   "cell_type": "code",
   "execution_count": 53,
   "metadata": {},
   "outputs": [
    {
     "name": "stdout",
     "output_type": "stream",
     "text": [
      "596/596 [==============================] - 0s 173us/sample - loss: 0.1526 - accuracy: 0.9228\n",
      "Accuracy on training set : 0.9228187799453735 \n",
      "\n",
      "596/596 [==============================] - 0s 162us/sample - loss: 0.1526 - accuracy: 0.9228\n",
      "Loss on training set : 0.15261986436659858\n",
      "Performance metrics:\n",
      "              precision    recall  f1-score   support\n",
      "\n",
      "         0.0       0.95      0.89      0.92       306\n",
      "         1.0       0.89      0.96      0.92       290\n",
      "\n",
      "    accuracy                           0.92       596\n",
      "   macro avg       0.92      0.92      0.92       596\n",
      "weighted avg       0.92      0.92      0.92       596\n",
      " \n",
      "\n",
      "Confusion Matrix:\n",
      "[[273  33]\n",
      " [ 13 277]] \n",
      "\n",
      "True positive:  277\n",
      "True negavtive:  273\n",
      "False positive:  33\n",
      "False negative:  13\n"
     ]
    }
   ],
   "source": [
    "print(f'Accuracy on training set : {classifier4.evaluate(x_train, y_train)[1]} \\n')\n",
    "print(f'Loss on training set : {classifier4.evaluate(x_train, y_train)[0]}')\n",
    "y_pred = classifier4.predict_classes(x_train)\n",
    "performance_metrics(y_train, y_pred)"
   ]
  },
  {
   "cell_type": "code",
   "execution_count": 73,
   "metadata": {},
   "outputs": [
    {
     "name": "stdout",
     "output_type": "stream",
     "text": [
      "256/256 [==============================] - 0s 199us/sample - loss: 0.5423 - accuracy: 0.8438\n",
      "Accuracy on testing set : 0.84375 \n",
      "\n",
      "256/256 [==============================] - 0s 52us/sample - loss: 0.5423 - accuracy: 0.8438\n",
      "Loss on testing set : 0.5423131808638573\n",
      "Performance metrics:\n",
      "              precision    recall  f1-score   support\n",
      "\n",
      "         0.0       0.84      0.82      0.83       120\n",
      "         1.0       0.84      0.87      0.86       136\n",
      "\n",
      "    accuracy                           0.84       256\n",
      "   macro avg       0.84      0.84      0.84       256\n",
      "weighted avg       0.84      0.84      0.84       256\n",
      " \n",
      "\n",
      "Confusion Matrix:\n",
      "[[ 98  22]\n",
      " [ 18 118]] \n",
      "\n",
      "True positive:  118\n",
      "True negavtive:  98\n",
      "False positive:  22\n",
      "False negative:  18\n"
     ]
    }
   ],
   "source": [
    "print(f'Accuracy on testing set : {classifier4.evaluate(x_test, y_test)[1]} \\n')\n",
    "print(f'Loss on testing set : {classifier4.evaluate(x_test, y_test)[0]}')\n",
    "y_pred = classifier4.predict_classes(x_test)\n",
    "performance_metrics(y_test, y_pred)"
   ]
  },
  {
   "cell_type": "markdown",
   "metadata": {},
   "source": [
    "## Model - 5"
   ]
  },
  {
   "cell_type": "markdown",
   "metadata": {},
   "source": [
    "### Batch size = 6"
   ]
  },
  {
   "cell_type": "code",
   "execution_count": 55,
   "metadata": {},
   "outputs": [],
   "source": [
    "classifier5 = Sequential([\n",
    "    Dense(7, activation = 'relu', kernel_initializer = 'random_normal', input_dim = 7),\n",
    "    Dense(256, activation = 'relu', kernel_initializer = 'random_normal'),\n",
    "    Dense(512, activation = 'relu', kernel_initializer = 'random_normal'),\n",
    "    Dense(1024, activation = 'relu', kernel_initializer = 'random_normal'),\n",
    "    Dense(1, activation = 'sigmoid',kernel_initializer = 'random_normal')\n",
    "])"
   ]
  },
  {
   "cell_type": "code",
   "execution_count": 56,
   "metadata": {},
   "outputs": [],
   "source": [
    "classifier5.compile(optimizer = 'adam', \n",
    "                    loss = 'binary_crossentropy',\n",
    "                    metrics = ['accuracy'])"
   ]
  },
  {
   "cell_type": "code",
   "execution_count": 57,
   "metadata": {},
   "outputs": [
    {
     "name": "stdout",
     "output_type": "stream",
     "text": [
      "Model: \"sequential_4\"\n",
      "_________________________________________________________________\n",
      "Layer (type)                 Output Shape              Param #   \n",
      "=================================================================\n",
      "dense_14 (Dense)             (None, 7)                 56        \n",
      "_________________________________________________________________\n",
      "dense_15 (Dense)             (None, 256)               2048      \n",
      "_________________________________________________________________\n",
      "dense_16 (Dense)             (None, 512)               131584    \n",
      "_________________________________________________________________\n",
      "dense_17 (Dense)             (None, 1024)              525312    \n",
      "_________________________________________________________________\n",
      "dense_18 (Dense)             (None, 1)                 1025      \n",
      "=================================================================\n",
      "Total params: 660,025\n",
      "Trainable params: 660,025\n",
      "Non-trainable params: 0\n",
      "_________________________________________________________________\n"
     ]
    }
   ],
   "source": [
    "classifier5.summary()"
   ]
  },
  {
   "cell_type": "code",
   "execution_count": 58,
   "metadata": {},
   "outputs": [
    {
     "data": {
      "text/plain": [
       "<tensorflow.python.keras.callbacks.History at 0x7f96dcbc63d0>"
      ]
     },
     "execution_count": 58,
     "metadata": {},
     "output_type": "execute_result"
    }
   ],
   "source": [
    "classifier5.fit(x_train, y_train, epochs = 100, batch_size = 6, verbose = 0)"
   ]
  },
  {
   "cell_type": "code",
   "execution_count": 59,
   "metadata": {},
   "outputs": [
    {
     "name": "stdout",
     "output_type": "stream",
     "text": [
      "596/596 [==============================] - 1s 911us/sample - loss: 0.1748 - accuracy: 0.9178\n",
      "Accuracy on training set : 0.9177852272987366 \n",
      "\n",
      "596/596 [==============================] - 0s 287us/sample - loss: 0.1748 - accuracy: 0.9178\n",
      "Loss on training set : 0.17481990073551268\n",
      "Performance metrics:\n",
      "              precision    recall  f1-score   support\n",
      "\n",
      "         0.0       0.90      0.95      0.92       306\n",
      "         1.0       0.94      0.88      0.91       290\n",
      "\n",
      "    accuracy                           0.92       596\n",
      "   macro avg       0.92      0.92      0.92       596\n",
      "weighted avg       0.92      0.92      0.92       596\n",
      " \n",
      "\n",
      "Confusion Matrix:\n",
      "[[291  15]\n",
      " [ 34 256]] \n",
      "\n",
      "True positive:  256\n",
      "True negavtive:  291\n",
      "False positive:  15\n",
      "False negative:  34\n"
     ]
    }
   ],
   "source": [
    "print(f'Accuracy on training set : {classifier5.evaluate(x_train, y_train)[1]} \\n')\n",
    "print(f'Loss on training set : {classifier5.evaluate(x_train, y_train)[0]}')\n",
    "y_pred = classifier5.predict_classes(x_train)\n",
    "performance_metrics(y_train, y_pred)"
   ]
  },
  {
   "cell_type": "code",
   "execution_count": 60,
   "metadata": {},
   "outputs": [
    {
     "name": "stdout",
     "output_type": "stream",
     "text": [
      "256/256 [==============================] - 0s 314us/sample - loss: 0.6686 - accuracy: 0.8008\n",
      "Accuracy on testing set : 0.80078125 \n",
      "\n",
      "256/256 [==============================] - 0s 301us/sample - loss: 0.6686 - accuracy: 0.8008\n",
      "Loss on testing set : 0.6686283722519875\n",
      "Performance metrics:\n",
      "              precision    recall  f1-score   support\n",
      "\n",
      "         0.0       0.76      0.85      0.80       120\n",
      "         1.0       0.85      0.76      0.80       136\n",
      "\n",
      "    accuracy                           0.80       256\n",
      "   macro avg       0.80      0.80      0.80       256\n",
      "weighted avg       0.81      0.80      0.80       256\n",
      " \n",
      "\n",
      "Confusion Matrix:\n",
      "[[102  18]\n",
      " [ 33 103]] \n",
      "\n",
      "True positive:  103\n",
      "True negavtive:  102\n",
      "False positive:  18\n",
      "False negative:  33\n"
     ]
    }
   ],
   "source": [
    "print(f'Accuracy on testing set : {classifier5.evaluate(x_test, y_test)[1]} \\n')\n",
    "print(f'Loss on testing set : {classifier5.evaluate(x_test, y_test)[0]}')\n",
    "y_pred = classifier5.predict_classes(x_test)\n",
    "performance_metrics(y_test, y_pred)"
   ]
  },
  {
   "cell_type": "markdown",
   "metadata": {},
   "source": [
    "### Batch size = 2"
   ]
  },
  {
   "cell_type": "code",
   "execution_count": 61,
   "metadata": {},
   "outputs": [
    {
     "data": {
      "text/plain": [
       "<tensorflow.python.keras.callbacks.History at 0x7f96c414afd0>"
      ]
     },
     "execution_count": 61,
     "metadata": {},
     "output_type": "execute_result"
    }
   ],
   "source": [
    "classifier5.fit(x_train, y_train, epochs = 100, batch_size = 2, verbose = 0)"
   ]
  },
  {
   "cell_type": "code",
   "execution_count": 62,
   "metadata": {},
   "outputs": [
    {
     "name": "stdout",
     "output_type": "stream",
     "text": [
      "596/596 [==============================] - 0s 277us/sample - loss: 0.1824 - accuracy: 0.9262\n",
      "Accuracy on training set : 0.926174521446228 \n",
      "\n",
      "596/596 [==============================] - 0s 252us/sample - loss: 0.1824 - accuracy: 0.9262\n",
      "Loss on training set : 0.18238106875011584\n",
      "Performance metrics:\n",
      "              precision    recall  f1-score   support\n",
      "\n",
      "         0.0       0.92      0.94      0.93       306\n",
      "         1.0       0.94      0.91      0.92       290\n",
      "\n",
      "    accuracy                           0.93       596\n",
      "   macro avg       0.93      0.93      0.93       596\n",
      "weighted avg       0.93      0.93      0.93       596\n",
      " \n",
      "\n",
      "Confusion Matrix:\n",
      "[[288  18]\n",
      " [ 26 264]] \n",
      "\n",
      "True positive:  264\n",
      "True negavtive:  288\n",
      "False positive:  18\n",
      "False negative:  26\n"
     ]
    }
   ],
   "source": [
    "print(f'Accuracy on training set : {classifier5.evaluate(x_train, y_train)[1]} \\n')\n",
    "print(f'Loss on training set : {classifier5.evaluate(x_train, y_train)[0]}')\n",
    "y_pred = classifier5.predict_classes(x_train)\n",
    "performance_metrics(y_train, y_pred)"
   ]
  },
  {
   "cell_type": "code",
   "execution_count": 63,
   "metadata": {},
   "outputs": [
    {
     "name": "stdout",
     "output_type": "stream",
     "text": [
      "256/256 [==============================] - 0s 283us/sample - loss: 0.7764 - accuracy: 0.8164\n",
      "Accuracy on testing set : 0.81640625 \n",
      "\n",
      "256/256 [==============================] - 0s 226us/sample - loss: 0.7764 - accuracy: 0.8164\n",
      "Loss on testing set : 0.77644944190979\n",
      "Performance metrics:\n",
      "              precision    recall  f1-score   support\n",
      "\n",
      "         0.0       0.80      0.81      0.80       120\n",
      "         1.0       0.83      0.82      0.83       136\n",
      "\n",
      "    accuracy                           0.82       256\n",
      "   macro avg       0.82      0.82      0.82       256\n",
      "weighted avg       0.82      0.82      0.82       256\n",
      " \n",
      "\n",
      "Confusion Matrix:\n",
      "[[ 97  23]\n",
      " [ 24 112]] \n",
      "\n",
      "True positive:  112\n",
      "True negavtive:  97\n",
      "False positive:  23\n",
      "False negative:  24\n"
     ]
    }
   ],
   "source": [
    "print(f'Accuracy on testing set : {classifier5.evaluate(x_test, y_test)[1]} \\n')\n",
    "print(f'Loss on testing set : {classifier5.evaluate(x_test, y_test)[0]}')\n",
    "y_pred = classifier5.predict_classes(x_test)\n",
    "performance_metrics(y_test, y_pred)"
   ]
  },
  {
   "cell_type": "markdown",
   "metadata": {},
   "source": [
    "## Model - 6"
   ]
  },
  {
   "cell_type": "markdown",
   "metadata": {},
   "source": [
    "### Batch size = 6"
   ]
  },
  {
   "cell_type": "code",
   "execution_count": 64,
   "metadata": {},
   "outputs": [],
   "source": [
    "classifier6 = Sequential([\n",
    "    Dense(7, activation = 'relu', kernel_initializer = 'random_normal', input_dim = 7),\n",
    "    Dense(128, activation = 'relu', kernel_initializer = 'random_normal'),\n",
    "    Dense(512, activation = 'relu', kernel_initializer = 'random_normal'),\n",
    "    Dense(1024, activation = 'relu', kernel_initializer = 'random_normal'),\n",
    "    Dense(2048, activation = 'relu', kernel_initializer = 'random_normal'),\n",
    "    Dense(1, activation = 'sigmoid',kernel_initializer = 'random_normal')\n",
    "])"
   ]
  },
  {
   "cell_type": "code",
   "execution_count": 65,
   "metadata": {},
   "outputs": [],
   "source": [
    "classifier6.compile(optimizer = 'adam', \n",
    "                    loss = 'binary_crossentropy', \n",
    "                    metrics = ['accuracy'])"
   ]
  },
  {
   "cell_type": "code",
   "execution_count": 66,
   "metadata": {},
   "outputs": [
    {
     "name": "stdout",
     "output_type": "stream",
     "text": [
      "Model: \"sequential_5\"\n",
      "_________________________________________________________________\n",
      "Layer (type)                 Output Shape              Param #   \n",
      "=================================================================\n",
      "dense_19 (Dense)             (None, 7)                 56        \n",
      "_________________________________________________________________\n",
      "dense_20 (Dense)             (None, 128)               1024      \n",
      "_________________________________________________________________\n",
      "dense_21 (Dense)             (None, 512)               66048     \n",
      "_________________________________________________________________\n",
      "dense_22 (Dense)             (None, 1024)              525312    \n",
      "_________________________________________________________________\n",
      "dense_23 (Dense)             (None, 2048)              2099200   \n",
      "_________________________________________________________________\n",
      "dense_24 (Dense)             (None, 1)                 2049      \n",
      "=================================================================\n",
      "Total params: 2,693,689\n",
      "Trainable params: 2,693,689\n",
      "Non-trainable params: 0\n",
      "_________________________________________________________________\n"
     ]
    }
   ],
   "source": [
    "classifier6.summary()"
   ]
  },
  {
   "cell_type": "code",
   "execution_count": 67,
   "metadata": {},
   "outputs": [
    {
     "data": {
      "text/plain": [
       "<tensorflow.python.keras.callbacks.History at 0x7f96c42182d0>"
      ]
     },
     "execution_count": 67,
     "metadata": {},
     "output_type": "execute_result"
    }
   ],
   "source": [
    "classifier6.fit(x_train, y_train, epochs = 100, batch_size = 6, verbose = 0)"
   ]
  },
  {
   "cell_type": "code",
   "execution_count": 68,
   "metadata": {},
   "outputs": [
    {
     "name": "stdout",
     "output_type": "stream",
     "text": [
      "596/596 [==============================] - 1s 1ms/sample - loss: 0.2329 - accuracy: 0.8859\n",
      "Accuracy on training set : 0.8859060406684875 \n",
      "\n",
      "596/596 [==============================] - 0s 354us/sample - loss: 0.2329 - accuracy: 0.8859\n",
      "Loss on training set : 0.23285612283937082\n",
      "Performance metrics:\n",
      "              precision    recall  f1-score   support\n",
      "\n",
      "         0.0       0.89      0.88      0.89       306\n",
      "         1.0       0.88      0.89      0.88       290\n",
      "\n",
      "    accuracy                           0.89       596\n",
      "   macro avg       0.89      0.89      0.89       596\n",
      "weighted avg       0.89      0.89      0.89       596\n",
      " \n",
      "\n",
      "Confusion Matrix:\n",
      "[[270  36]\n",
      " [ 32 258]] \n",
      "\n",
      "True positive:  258\n",
      "True negavtive:  270\n",
      "False positive:  36\n",
      "False negative:  32\n"
     ]
    }
   ],
   "source": [
    "print(f'Accuracy on training set : {classifier6.evaluate(x_train, y_train)[1]} \\n')\n",
    "print(f'Loss on training set : {classifier6.evaluate(x_train, y_train)[0]}')\n",
    "y_pred = classifier6.predict_classes(x_train)\n",
    "performance_metrics(y_train, y_pred)"
   ]
  },
  {
   "cell_type": "code",
   "execution_count": 69,
   "metadata": {},
   "outputs": [
    {
     "name": "stdout",
     "output_type": "stream",
     "text": [
      "256/256 [==============================] - 0s 368us/sample - loss: 0.5179 - accuracy: 0.8281\n",
      "Accuracy on testing set : 0.828125 \n",
      "\n",
      "256/256 [==============================] - 0s 360us/sample - loss: 0.5179 - accuracy: 0.8281\n",
      "Loss on testing set : 0.5178982801735401\n",
      "Performance metrics:\n",
      "              precision    recall  f1-score   support\n",
      "\n",
      "         0.0       0.80      0.85      0.82       120\n",
      "         1.0       0.86      0.81      0.83       136\n",
      "\n",
      "    accuracy                           0.83       256\n",
      "   macro avg       0.83      0.83      0.83       256\n",
      "weighted avg       0.83      0.83      0.83       256\n",
      " \n",
      "\n",
      "Confusion Matrix:\n",
      "[[102  18]\n",
      " [ 26 110]] \n",
      "\n",
      "True positive:  110\n",
      "True negavtive:  102\n",
      "False positive:  18\n",
      "False negative:  26\n"
     ]
    }
   ],
   "source": [
    "print(f'Accuracy on testing set : {classifier6.evaluate(x_test, y_test)[1]} \\n')\n",
    "print(f'Loss on testing set : {classifier6.evaluate(x_test, y_test)[0]}')\n",
    "y_pred = classifier6.predict_classes(x_test)\n",
    "performance_metrics(y_test, y_pred)"
   ]
  },
  {
   "cell_type": "code",
   "execution_count": null,
   "metadata": {},
   "outputs": [],
   "source": []
  },
  {
   "cell_type": "markdown",
   "metadata": {},
   "source": [
    "### Batch size = 2"
   ]
  },
  {
   "cell_type": "code",
   "execution_count": 70,
   "metadata": {},
   "outputs": [
    {
     "data": {
      "text/plain": [
       "<tensorflow.python.keras.callbacks.History at 0x7f96b6acc350>"
      ]
     },
     "execution_count": 70,
     "metadata": {},
     "output_type": "execute_result"
    }
   ],
   "source": [
    "classifier6.fit(x_train, y_train, epochs = 100, batch_size = 2, verbose = 0)"
   ]
  },
  {
   "cell_type": "code",
   "execution_count": 71,
   "metadata": {},
   "outputs": [
    {
     "name": "stdout",
     "output_type": "stream",
     "text": [
      "596/596 [==============================] - 0s 352us/sample - loss: 0.1768 - accuracy: 0.9161\n",
      "Accuracy on training set : 0.9161073565483093 \n",
      "\n",
      "596/596 [==============================] - 0s 349us/sample - loss: 0.1768 - accuracy: 0.9161\n",
      "Loss on training set : 0.17676488335100596\n",
      "Performance metrics:\n",
      "              precision    recall  f1-score   support\n",
      "\n",
      "         0.0       0.93      0.91      0.92       306\n",
      "         1.0       0.90      0.93      0.91       290\n",
      "\n",
      "    accuracy                           0.92       596\n",
      "   macro avg       0.92      0.92      0.92       596\n",
      "weighted avg       0.92      0.92      0.92       596\n",
      " \n",
      "\n",
      "Confusion Matrix:\n",
      "[[277  29]\n",
      " [ 21 269]] \n",
      "\n",
      "True positive:  269\n",
      "True negavtive:  277\n",
      "False positive:  29\n",
      "False negative:  21\n"
     ]
    }
   ],
   "source": [
    "print(f'Accuracy on training set : {classifier6.evaluate(x_train, y_train)[1]} \\n')\n",
    "print(f'Loss on training set : {classifier6.evaluate(x_train, y_train)[0]}')\n",
    "y_pred = classifier6.predict_classes(x_train)\n",
    "performance_metrics(y_train, y_pred)"
   ]
  },
  {
   "cell_type": "code",
   "execution_count": 72,
   "metadata": {},
   "outputs": [
    {
     "name": "stdout",
     "output_type": "stream",
     "text": [
      "256/256 [==============================] - 0s 324us/sample - loss: 0.6495 - accuracy: 0.8008\n",
      "Accuracy on testing set : 0.80078125 \n",
      "\n",
      "256/256 [==============================] - 0s 322us/sample - loss: 0.6495 - accuracy: 0.8008\n",
      "Loss on testing set : 0.6494553163647652\n",
      "Performance metrics:\n",
      "              precision    recall  f1-score   support\n",
      "\n",
      "         0.0       0.79      0.78      0.79       120\n",
      "         1.0       0.81      0.82      0.81       136\n",
      "\n",
      "    accuracy                           0.80       256\n",
      "   macro avg       0.80      0.80      0.80       256\n",
      "weighted avg       0.80      0.80      0.80       256\n",
      " \n",
      "\n",
      "Confusion Matrix:\n",
      "[[ 94  26]\n",
      " [ 25 111]] \n",
      "\n",
      "True positive:  111\n",
      "True negavtive:  94\n",
      "False positive:  26\n",
      "False negative:  25\n"
     ]
    }
   ],
   "source": [
    "print(f'Accuracy on testing set : {classifier6.evaluate(x_test, y_test)[1]} \\n')\n",
    "print(f'Loss on testing set : {classifier6.evaluate(x_test, y_test)[0]}')\n",
    "y_pred = classifier6.predict_classes(x_test)\n",
    "performance_metrics(y_test, y_pred)"
   ]
  },
  {
   "cell_type": "code",
   "execution_count": null,
   "metadata": {},
   "outputs": [],
   "source": []
  },
  {
   "cell_type": "markdown",
   "metadata": {},
   "source": [
    "SAMPLE TESTING!!"
   ]
  },
  {
   "cell_type": "code",
   "execution_count": null,
   "metadata": {},
   "outputs": [],
   "source": [
    "print(f'Accuracy on SAMPLE TEST CASES : {classifier1.evaluate(df_testing, output_testing)[1]} \\n')\n",
    "print(f'Loss on SAMPLE TEST CASES : {classifier1.evaluate(df_testing, output_testing)[0]}')"
   ]
  },
  {
   "cell_type": "code",
   "execution_count": null,
   "metadata": {},
   "outputs": [],
   "source": [
    "print(f'Accuracy on SAMPLE TEST CASES : {classifier2.evaluate(df_testing, output_testing)[1]} \\n')\n",
    "print(f'Loss on SAMPLE TEST CASES : {classifier2.evaluate(df_testing, output_testing)[0]}')"
   ]
  },
  {
   "cell_type": "code",
   "execution_count": null,
   "metadata": {},
   "outputs": [],
   "source": [
    "print(f'Accuracy on SAMPLE TEST CASES : {classifier3.evaluate(df_testing, output_testing)[1]} \\n')\n",
    "print(f'Loss on SAMPLE TEST CASES : {classifier3.evaluate(df_testing, output_testing)[0]}')"
   ]
  },
  {
   "cell_type": "code",
   "execution_count": null,
   "metadata": {},
   "outputs": [],
   "source": [
    "print(f'Accuracy on SAMPLE TEST CASES : {classifier4.evaluate(df_testing, output_testing)[1]} \\n')\n",
    "print(f'Loss on SAMPLE TEST CASES : {classifier4.evaluate(df_testing, output_testing)[0]}')"
   ]
  },
  {
   "cell_type": "code",
   "execution_count": null,
   "metadata": {},
   "outputs": [],
   "source": [
    "print(f'Accuracy on SAMPLE TEST CASES : {classifier5.evaluate(df_testing, output_testing)[1]} \\n')\n",
    "print(f'Loss on SAMPLE TEST CASES : {classifier5.evaluate(df_testing, output_testing)[0]}')"
   ]
  },
  {
   "cell_type": "code",
   "execution_count": null,
   "metadata": {},
   "outputs": [],
   "source": [
    "print(f'Accuracy on SAMPLE TEST CASES : {classifier6.evaluate(df_testing, output_testing)[1]} \\n')\n",
    "print(f'Loss on SAMPLE TEST CASES : {classifier6.evaluate(df_testing, output_testing)[0]}')"
   ]
  },
  {
   "cell_type": "code",
   "execution_count": null,
   "metadata": {},
   "outputs": [],
   "source": [
    "def sample_case_performance(classifier):\n",
    "    predicted_values = classifier.predict_classes(df_testing).tolist()\n",
    "    predicted_values = [i[0] for i in predicted_values]\n",
    "    _predicted = []\n",
    "    _target = []\n",
    "    for i, j in zip(range(0, len(predicted_values), 3), range(0, len(output_testing), 3)):\n",
    "        _predicted.append(mode(predicted_values[i:i+3]))\n",
    "        _target.append(mode(output_testing[i:i+3].tolist()))\n",
    "    correct = 0\n",
    "    incorrect = 0\n",
    "    for i, j in zip(_predicted, _target):\n",
    "        if i == j:\n",
    "            correct += 1\n",
    "        else:\n",
    "            incorrect += 1\n",
    "    accuracy = correct/(correct + incorrect)\n",
    "    print(f'Correct predictions : {correct}')\n",
    "    print(f'Incorrect predictions : {incorrect}')\n",
    "    print(f'Accuracy : {accuracy*100}')"
   ]
  },
  {
   "cell_type": "code",
   "execution_count": null,
   "metadata": {},
   "outputs": [],
   "source": [
    "sample_case_performance(classifier1)"
   ]
  },
  {
   "cell_type": "code",
   "execution_count": null,
   "metadata": {},
   "outputs": [],
   "source": [
    "sample_case_performance(classifier2)"
   ]
  },
  {
   "cell_type": "code",
   "execution_count": null,
   "metadata": {},
   "outputs": [],
   "source": [
    "sample_case_performance(classifier3)"
   ]
  },
  {
   "cell_type": "code",
   "execution_count": null,
   "metadata": {},
   "outputs": [],
   "source": [
    "sample_case_performance(classifier4)"
   ]
  },
  {
   "cell_type": "code",
   "execution_count": null,
   "metadata": {},
   "outputs": [],
   "source": [
    "sample_case_performance(classifier5)"
   ]
  },
  {
   "cell_type": "code",
   "execution_count": null,
   "metadata": {},
   "outputs": [],
   "source": [
    "sample_case_performance(classifier6)"
   ]
  },
  {
   "cell_type": "code",
   "execution_count": null,
   "metadata": {},
   "outputs": [],
   "source": [
    "#classifier1.save('/Users/rt/Desktop/classifier1.h5')\n",
    "#classifier2.save('/Users/rt/Desktop/classifier2.h5')\n",
    "#classifier3.save('/Users/rt/Desktop/classifier3.h5')\n",
    "#classifier4.save('/Users/rt/Desktop/classifier4.h5')\n",
    "#classifier5.save('/Users/rt/Desktop/classifier5.h5')\n",
    "#classifier6.save('/Users/rt/Desktop/classifier6.h5')"
   ]
  },
  {
   "cell_type": "code",
   "execution_count": null,
   "metadata": {},
   "outputs": [],
   "source": []
  },
  {
   "cell_type": "code",
   "execution_count": null,
   "metadata": {},
   "outputs": [],
   "source": []
  },
  {
   "cell_type": "code",
   "execution_count": null,
   "metadata": {},
   "outputs": [],
   "source": []
  }
 ],
 "metadata": {
  "kernelspec": {
   "display_name": "Python 3",
   "language": "python",
   "name": "python3"
  },
  "language_info": {
   "codemirror_mode": {
    "name": "ipython",
    "version": 3
   },
   "file_extension": ".py",
   "mimetype": "text/x-python",
   "name": "python",
   "nbconvert_exporter": "python",
   "pygments_lexer": "ipython3",
   "version": "3.7.4"
  },
  "toc": {
   "base_numbering": 1,
   "nav_menu": {},
   "number_sections": true,
   "sideBar": false,
   "skip_h1_title": false,
   "title_cell": "Table of Contents",
   "title_sidebar": "Contents",
   "toc_cell": true,
   "toc_position": {},
   "toc_section_display": true,
   "toc_window_display": false
  }
 },
 "nbformat": 4,
 "nbformat_minor": 2
}
